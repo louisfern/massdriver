{
 "cells": [
  {
   "cell_type": "code",
   "execution_count": null,
   "metadata": {
    "collapsed": false,
    "scrolled": true
   },
   "outputs": [],
   "source": [
    "import pandas as pd\n",
    "import matplotlib\n",
    "import xlrd\n",
    "from matplotlib import pyplot as plt\n",
    "%matplotlib inline\n"
   ]
  },
  {
   "cell_type": "code",
   "execution_count": null,
   "metadata": {
    "collapsed": false,
    "scrolled": true
   },
   "outputs": [],
   "source": [
    "A = pd.read_csv(\"~/Documents/Insight/massdriver/data/CrashDataExport_20160603_1053.csv\", sep='^', low_memory=False)"
   ]
  },
  {
   "cell_type": "code",
   "execution_count": null,
   "metadata": {
    "collapsed": false
   },
   "outputs": [],
   "source": [
    "A.columns"
   ]
  },
  {
   "cell_type": "code",
   "execution_count": null,
   "metadata": {
    "collapsed": false,
    "scrolled": false
   },
   "outputs": [],
   "source": [
    "fig=plt.figure(figsize=(20,10), dpi=180)\n",
    "ax=fig.add_subplot(111)\n",
    "plt.plot(A[\"X\"], A[\"Y\"], 'k+')\n",
    "ax.set_aspect(\"equal\")\n",
    "ax.set_title(\"All reported accidents, 01/01/2013 through 01/02/2013\")\n",
    "ax.set_xlabel(\"Meters\")\n",
    "ax.set_ylabel(\"Meters\")\n",
    "plt.savefig(\"/home/louisf/Documents/Insight/massdriver/figures/massAccidents1.png\", bbox_inches=\"tight\")"
   ]
  },
  {
   "cell_type": "code",
   "execution_count": null,
   "metadata": {
    "collapsed": false
   },
   "outputs": [],
   "source": [
    "sum(pd.isnull(A[\"Road Segment ID\"]))"
   ]
  },
  {
   "cell_type": "code",
   "execution_count": null,
   "metadata": {
    "collapsed": false
   },
   "outputs": [],
   "source": [
    "A[\"Crash Date\"] = pd.to_datetime(A[\"Crash Date\"])"
   ]
  },
  {
   "cell_type": "code",
   "execution_count": null,
   "metadata": {
    "collapsed": false
   },
   "outputs": [],
   "source": [
    "A.groupby(A[\"Crash Date\"].dt.month).count().plot(kind=\"bar\")"
   ]
  },
  {
   "cell_type": "code",
   "execution_count": null,
   "metadata": {
    "collapsed": false,
    "scrolled": true
   },
   "outputs": [],
   "source": [
    "import inventoryCleaner as IC\n",
    "IC.insertIntoDB('roadInventory', 'segments', {\"RoadInvent\":668, \"CRN\":667, \"StreetName\":\"TEST AVE\", \"SpeedLimit\":65, \"Terrain\":1, \"Structural\":0})"
   ]
  },
  {
   "cell_type": "code",
   "execution_count": null,
   "metadata": {
    "collapsed": true
   },
   "outputs": [],
   "source": [
    "\"INSERT INTO segments VALUES(999,999,'TEST ROAD', 65, 0, 3)\""
   ]
  }
 ],
 "metadata": {
  "kernelspec": {
   "display_name": "Python 3",
   "language": "python",
   "name": "python3"
  },
  "language_info": {
   "codemirror_mode": {
    "name": "ipython",
    "version": 3
   },
   "file_extension": ".py",
   "mimetype": "text/x-python",
   "name": "python",
   "nbconvert_exporter": "python",
   "pygments_lexer": "ipython3",
   "version": "3.5.1"
  }
 },
 "nbformat": 4,
 "nbformat_minor": 0
}
