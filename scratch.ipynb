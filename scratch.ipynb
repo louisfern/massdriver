{
 "cells": [
  {
   "cell_type": "code",
   "execution_count": null,
   "metadata": {
    "collapsed": false,
    "scrolled": true
   },
   "outputs": [],
   "source": [
    "import pandas as pd\n",
    "import matplotlib\n",
    "import xlrd\n",
    "from matplotlib import pyplot as plt\n",
    "%matplotlib inline\n"
   ]
  },
  {
   "cell_type": "code",
   "execution_count": null,
   "metadata": {
    "collapsed": false,
    "scrolled": true
   },
   "outputs": [],
   "source": [
    "A = pd.read_csv(\"~/Documents/Insight/massdriver/data/CrashDataExport_20160603_1053.csv\", sep='^', low_memory=False)"
   ]
  },
  {
   "cell_type": "code",
   "execution_count": null,
   "metadata": {
    "collapsed": false
   },
   "outputs": [],
   "source": [
    "A.columns"
   ]
  },
  {
   "cell_type": "code",
   "execution_count": null,
   "metadata": {
    "collapsed": false,
    "scrolled": false
   },
   "outputs": [],
   "source": [
    "fig=plt.figure(figsize=(20,10), dpi=180)\n",
    "ax=fig.add_subplot(111)\n",
    "plt.plot(A[\"X\"], A[\"Y\"], 'k+')\n",
    "ax.set_aspect(\"equal\")\n",
    "ax.set_title(\"All reported accidents, 01/01/2013 through 01/02/2013\")\n",
    "ax.set_xlabel(\"Meters\")\n",
    "ax.set_ylabel(\"Meters\")\n",
    "plt.savefig(\"/home/louisf/Documents/Insight/massdriver/figures/massAccidents1.png\", bbox_inches=\"tight\")"
   ]
  },
  {
   "cell_type": "code",
   "execution_count": null,
   "metadata": {
    "collapsed": false
   },
   "outputs": [],
   "source": [
    "sum(pd.isnull(A[\"Road Segment ID\"]))"
   ]
  },
  {
   "cell_type": "code",
   "execution_count": null,
   "metadata": {
    "collapsed": false
   },
   "outputs": [],
   "source": [
    "A[\"Crash Date\"] = pd.to_datetime(A[\"Crash Date\"])"
   ]
  },
  {
   "cell_type": "code",
   "execution_count": null,
   "metadata": {
    "collapsed": false
   },
   "outputs": [],
   "source": [
    "A.groupby(A[\"Crash Date\"].dt.month).count().plot(kind=\"bar\")"
   ]
  },
  {
   "cell_type": "code",
   "execution_count": null,
   "metadata": {
    "collapsed": false,
    "scrolled": true
   },
   "outputs": [],
   "source": [
    "import inventoryCleaner as IC\n",
    "IC.insertIntoDB('roadInventory', 'segments', {\"RoadInvent\":668, \"CRN\":667, \"StreetName\":\"TEST AVE\", \"SpeedLimit\":65, \"Terrain\":1, \"Structural\":0})"
   ]
  },
  {
   "cell_type": "code",
   "execution_count": null,
   "metadata": {
    "collapsed": true
   },
   "outputs": [],
   "source": [
    "\"INSERT INTO segments VALUES(999,999,'TEST ROAD', 65, 0, 3)\""
   ]
  },
  {
   "cell_type": "code",
   "execution_count": null,
   "metadata": {
    "collapsed": false
   },
   "outputs": [],
   "source": [
    "import accidentHandler as aH\n",
    "import pandas as pd\n",
    "%matplotlib inline\n",
    "\n",
    "path = '/home/louisf/Documents/Insight/massdriver/data/crash_data/'\n",
    "paths = aH.findcsvlist(path)\n",
    "AT = aH.AccidentTable()"
   ]
  },
  {
   "cell_type": "code",
   "execution_count": null,
   "metadata": {
    "collapsed": false
   },
   "outputs": [],
   "source": [
    "AT.gatherdata(paths)"
   ]
  },
  {
   "cell_type": "code",
   "execution_count": null,
   "metadata": {
    "collapsed": false,
    "scrolled": true
   },
   "outputs": [],
   "source": [
    "AT.cleanData()"
   ]
  },
  {
   "cell_type": "code",
   "execution_count": null,
   "metadata": {
    "collapsed": false,
    "scrolled": true
   },
   "outputs": [],
   "source": [
    "AT.tablewrite('roadInventory', 'accidents', 'louisf', 'password')"
   ]
  },
  {
   "cell_type": "code",
   "execution_count": null,
   "metadata": {
    "collapsed": false
   },
   "outputs": [],
   "source": [
    "import csv\n",
    "d = dict()\n",
    "with open(l[0], 'r') as file:\n",
    "    reader = csv.DictReader(file, delimiter = '^')\n",
    "    for row in reader:\n",
    "        d[row['Crash Number']] = row"
   ]
  },
  {
   "cell_type": "code",
   "execution_count": null,
   "metadata": {
    "collapsed": false,
    "scrolled": true
   },
   "outputs": [],
   "source": [
    "AT.accidentDF.columns"
   ]
  },
  {
   "cell_type": "code",
   "execution_count": null,
   "metadata": {
    "collapsed": false,
    "scrolled": true
   },
   "outputs": [],
   "source": [
    "AT.accidentDF['X'].plot()\n",
    "AT.accidentDF['Y'].plot()\n",
    "AT.accidentDF.plot(x='X', y='Y', kind='scatter')"
   ]
  },
  {
   "cell_type": "code",
   "execution_count": null,
   "metadata": {
    "collapsed": false
   },
   "outputs": [],
   "source": [
    "d2 = AT.accidentDF[AT.accidentDF['Is Geocoded']=='Yes']\n",
    "len(d2)"
   ]
  },
  {
   "cell_type": "code",
   "execution_count": null,
   "metadata": {
    "collapsed": false
   },
   "outputs": [],
   "source": [
    "import psycopg2\n",
    "from sqlalchemy import create_engine\n",
    "from sqlalchemy_utils import database_exists, create_database\n",
    "dbname = 'roadInventory'\n",
    "dbuser = 'louisf'\n",
    "pswd = 'password'\n",
    "engine = create_engine('postgresql://%s:%s@localhost/%s'%(dbuser,pswd,dbname))\n",
    "print(engine.url)\n",
    "\n",
    "try:\n",
    "    con = None\n",
    "    con = psycopg2.connect(database=dbname, user=dbuser)\n",
    "except psycopg2.DatabaseError as e:\n",
    "    print(\"I cannot connect to the database \" + dbname)\n",
    "    print(e)\n",
    "    \n",
    "#AT.accidents.to_sql('accidents', engine, if_exists='append')"
   ]
  },
  {
   "cell_type": "code",
   "execution_count": null,
   "metadata": {
    "collapsed": false,
    "scrolled": true
   },
   "outputs": [],
   "source": [
    "con = psycopg2.connect(database=dbname, user=dbuser)\n",
    "\n",
    "sql_query = \"\"\"\n",
    "SELECT roadsegmentid, count(*)\n",
    "FROM accidents\n",
    "GROUP BY roadsegmentid;\n",
    "\"\"\"\n",
    "accidentSegments = pd.read_sql_query(sql_query,con)"
   ]
  },
  {
   "cell_type": "code",
   "execution_count": null,
   "metadata": {
    "collapsed": false
   },
   "outputs": [],
   "source": [
    "sql_query=\"\"\"\n",
    "SELECT roadsegmen\n",
    "FROM segments\n",
    "\"\"\"\n",
    "roadsegs = pd.read_sql_query(sql_query, con)\n"
   ]
  },
  {
   "cell_type": "code",
   "execution_count": null,
   "metadata": {
    "collapsed": false
   },
   "outputs": [],
   "source": [
    "query=\"\"\"\n",
    "SELECT *\n",
    "FROM segments\"\"\"\n",
    "segmentsTable = pd.read_sql_query(query, con)\n",
    "con.close()"
   ]
  },
  {
   "cell_type": "code",
   "execution_count": null,
   "metadata": {
    "collapsed": false,
    "scrolled": true
   },
   "outputs": [],
   "source": [
    "segmentsTable.set_index('roadsegmen')"
   ]
  },
  {
   "cell_type": "code",
   "execution_count": null,
   "metadata": {
    "collapsed": false,
    "scrolled": true
   },
   "outputs": [],
   "source": [
    "accidentSegments.columns=[\"roadsegmen\", 'count']"
   ]
  },
  {
   "cell_type": "code",
   "execution_count": null,
   "metadata": {
    "collapsed": false,
    "scrolled": true
   },
   "outputs": [],
   "source": [
    "n = pd.merge(accidentSegments, roadsegs, how='inner', on=['roadsegmen'])\n",
    "n.set_index('roadsegmen')"
   ]
  },
  {
   "cell_type": "code",
   "execution_count": null,
   "metadata": {
    "collapsed": false
   },
   "outputs": [],
   "source": [
    "len(n)"
   ]
  },
  {
   "cell_type": "code",
   "execution_count": null,
   "metadata": {
    "collapsed": false,
    "scrolled": true
   },
   "outputs": [],
   "source": [
    "new = pd.merge(n, segmentsTable, how = 'outer', on='roadsegmen')\n",
    "new.drop('naccidents',1,inplace=True)"
   ]
  },
  {
   "cell_type": "code",
   "execution_count": null,
   "metadata": {
    "collapsed": false,
    "scrolled": true
   },
   "outputs": [],
   "source": [
    "new.rename(columns={'count':'naccidents'})"
   ]
  },
  {
   "cell_type": "code",
   "execution_count": null,
   "metadata": {
    "collapsed": false,
    "scrolled": true
   },
   "outputs": [],
   "source": [
    "new"
   ]
  },
  {
   "cell_type": "code",
   "execution_count": null,
   "metadata": {
    "collapsed": false
   },
   "outputs": [],
   "source": [
    "segmentsTable['roadsegmen'].iloc[100]"
   ]
  },
  {
   "cell_type": "code",
   "execution_count": null,
   "metadata": {
    "collapsed": false
   },
   "outputs": [],
   "source": [
    "con = psycopg2.connect(database=dbname, user=dbuser)\n",
    "query = \"\"\"\n",
    "SELECT * FROM segments WHERE roadsegmen=92336\n",
    "\"\"\"\n",
    "dupes = pd.read_sql_query(query, con)\n",
    "con.close()"
   ]
  },
  {
   "cell_type": "code",
   "execution_count": null,
   "metadata": {
    "collapsed": false
   },
   "outputs": [],
   "source": [
    "sum(n['count'])"
   ]
  },
  {
   "cell_type": "code",
   "execution_count": null,
   "metadata": {
    "collapsed": false
   },
   "outputs": [],
   "source": [
    "con = psycopg2.connect(database=dbname, user=dbuser)\n",
    "cur = con.cursor()\n",
    "\n",
    "for index, row in n.iterrows():\n",
    "    sql = 'UPDATE segments SET naccidents = %s WHERE roadsegmen = %s'\n",
    "    cur.execute(sql, (row['count'], row['roadsegmen']))\n",
    "con.commit()\n",
    "\n",
    "con.close()"
   ]
  },
  {
   "cell_type": "code",
   "execution_count": null,
   "metadata": {
    "collapsed": false
   },
   "outputs": [],
   "source": [
    "con = psycopg2.connect(database=dbname, user=dbuser)\n",
    "cur = con.cursor()\n",
    "\n",
    "sq=''\n",
    "\n",
    "# for index, row in n.iterrows():\n",
    "#    sql = 'UPDATE segments SET naccidents = %s WHERE roadsegmen = %s'\n",
    "#    cur.execute(sql, (row['count'], row['roadsegmen']))\n",
    "for i in range(0,100):\n",
    "    row = n.iloc[i]\n",
    "    sq += 'UPDATE segments SET naccidents = {0} WHERE roadsegmen = {1};'.format(\n",
    "    int(row['count']), row['roadsegmen'])\n",
    "print(sq)\n",
    "cur.execute(sq)\n",
    "con.commit()\n",
    "con.close()"
   ]
  },
  {
   "cell_type": "code",
   "execution_count": null,
   "metadata": {
    "collapsed": false
   },
   "outputs": [],
   "source": [
    "con = psycopg2.connect(database=dbname, user=dbuser)\n",
    "query = \"\"\"\n",
    "SELECT naccidents FROM segments\n",
    "\"\"\"\n",
    "dupes = pd.read_sql_query(query, con)\n",
    "con.close()"
   ]
  },
  {
   "cell_type": "code",
   "execution_count": null,
   "metadata": {
    "collapsed": false
   },
   "outputs": [],
   "source": [
    "sq"
   ]
  },
  {
   "cell_type": "code",
   "execution_count": null,
   "metadata": {
    "collapsed": true
   },
   "outputs": [],
   "source": [
    "con.close()"
   ]
  },
  {
   "cell_type": "code",
   "execution_count": null,
   "metadata": {
    "collapsed": true
   },
   "outputs": [],
   "source": []
  },
  {
   "cell_type": "code",
   "execution_count": null,
   "metadata": {
    "collapsed": false
   },
   "outputs": [],
   "source": []
  },
  {
   "cell_type": "code",
   "execution_count": 1,
   "metadata": {
    "collapsed": true
   },
   "outputs": [],
   "source": [
    "import inventoryCleaner as iC\n",
    "import pandas as pd\n",
    "import numpy as np\n",
    "import psycopg2\n",
    "from sqlalchemy import create_engine\n",
    "from sqlalchemy_utils import database_exists, create_database\n",
    "from sqlalchemy import types\n",
    "dbname = 'roadInventory'\n",
    "dbuser = 'louisf'\n",
    "pswd = 'password'\n",
    "engine = create_engine('postgresql://%s:%s@localhost/%s'%(dbuser,pswd,dbname))\n",
    "fpath = '/home/louisf/Documents/Insight/massdriver/data/raw/shapefile/RoadInventory.geojson'\n",
    "pdinv = iC.PDInventory('roadInventory', 'test')\n",
    "\n",
    "con = psycopg2.connect(database=dbname, user=dbuser)"
   ]
  },
  {
   "cell_type": "code",
   "execution_count": 2,
   "metadata": {
    "collapsed": false
   },
   "outputs": [
    {
     "ename": "KeyboardInterrupt",
     "evalue": "",
     "output_type": "error",
     "traceback": [
      "\u001b[1;31m---------------------------------------------------------------------------\u001b[0m",
      "\u001b[1;31mKeyboardInterrupt\u001b[0m                         Traceback (most recent call last)",
      "\u001b[1;32m<ipython-input-2-f36a7c3251bb>\u001b[0m in \u001b[0;36m<module>\u001b[1;34m()\u001b[0m\n\u001b[1;32m----> 1\u001b[1;33m \u001b[0mpdinv\u001b[0m\u001b[1;33m.\u001b[0m\u001b[0mgeojsontodf\u001b[0m\u001b[1;33m(\u001b[0m\u001b[0mfpath\u001b[0m\u001b[1;33m)\u001b[0m\u001b[1;33m\u001b[0m\u001b[0m\n\u001b[0m",
      "\u001b[1;32m/home/louisf/Documents/Insight/massdriver/inventoryCleaner.py\u001b[0m in \u001b[0;36mgeojsontodf\u001b[1;34m(self, pathToFile)\u001b[0m\n\u001b[0;32m    130\u001b[0m             \u001b[0mtline\u001b[0m \u001b[1;33m=\u001b[0m \u001b[0mlines\u001b[0m\u001b[1;33m[\u001b[0m\u001b[1;33m:\u001b[0m\u001b[1;33m-\u001b[0m\u001b[1;36m2\u001b[0m\u001b[1;33m]\u001b[0m\u001b[1;33m\u001b[0m\u001b[0m\n\u001b[0;32m    131\u001b[0m             \u001b[1;32mif\u001b[0m \u001b[0mPDInventory\u001b[0m\u001b[1;33m.\u001b[0m\u001b[0mis_json\u001b[0m\u001b[1;33m(\u001b[0m\u001b[0mtline\u001b[0m\u001b[1;33m)\u001b[0m\u001b[1;33m:\u001b[0m\u001b[1;33m\u001b[0m\u001b[0m\n\u001b[1;32m--> 132\u001b[1;33m                 \u001b[0mjs\u001b[0m \u001b[1;33m=\u001b[0m \u001b[0mjson\u001b[0m\u001b[1;33m.\u001b[0m\u001b[0mloads\u001b[0m\u001b[1;33m(\u001b[0m\u001b[0mtline\u001b[0m\u001b[1;33m)\u001b[0m\u001b[1;33m\u001b[0m\u001b[0m\n\u001b[0m\u001b[0;32m    133\u001b[0m                 d = dict(\n\u001b[0;32m    134\u001b[0m                     (k.lower().replace(\" \",\"\") if isinstance(k, str)\n",
      "\u001b[1;32m/home/louisf/anaconda3/lib/python3.5/json/__init__.py\u001b[0m in \u001b[0;36mloads\u001b[1;34m(s, encoding, cls, object_hook, parse_float, parse_int, parse_constant, object_pairs_hook, **kw)\u001b[0m\n\u001b[0;32m    317\u001b[0m             \u001b[0mparse_int\u001b[0m \u001b[1;32mis\u001b[0m \u001b[1;32mNone\u001b[0m \u001b[1;32mand\u001b[0m \u001b[0mparse_float\u001b[0m \u001b[1;32mis\u001b[0m \u001b[1;32mNone\u001b[0m \u001b[1;32mand\u001b[0m\u001b[1;33m\u001b[0m\u001b[0m\n\u001b[0;32m    318\u001b[0m             parse_constant is None and object_pairs_hook is None and not kw):\n\u001b[1;32m--> 319\u001b[1;33m         \u001b[1;32mreturn\u001b[0m \u001b[0m_default_decoder\u001b[0m\u001b[1;33m.\u001b[0m\u001b[0mdecode\u001b[0m\u001b[1;33m(\u001b[0m\u001b[0ms\u001b[0m\u001b[1;33m)\u001b[0m\u001b[1;33m\u001b[0m\u001b[0m\n\u001b[0m\u001b[0;32m    320\u001b[0m     \u001b[1;32mif\u001b[0m \u001b[0mcls\u001b[0m \u001b[1;32mis\u001b[0m \u001b[1;32mNone\u001b[0m\u001b[1;33m:\u001b[0m\u001b[1;33m\u001b[0m\u001b[0m\n\u001b[0;32m    321\u001b[0m         \u001b[0mcls\u001b[0m \u001b[1;33m=\u001b[0m \u001b[0mJSONDecoder\u001b[0m\u001b[1;33m\u001b[0m\u001b[0m\n",
      "\u001b[1;32m/home/louisf/anaconda3/lib/python3.5/json/decoder.py\u001b[0m in \u001b[0;36mdecode\u001b[1;34m(self, s, _w)\u001b[0m\n\u001b[0;32m    337\u001b[0m \u001b[1;33m\u001b[0m\u001b[0m\n\u001b[0;32m    338\u001b[0m         \"\"\"\n\u001b[1;32m--> 339\u001b[1;33m         \u001b[0mobj\u001b[0m\u001b[1;33m,\u001b[0m \u001b[0mend\u001b[0m \u001b[1;33m=\u001b[0m \u001b[0mself\u001b[0m\u001b[1;33m.\u001b[0m\u001b[0mraw_decode\u001b[0m\u001b[1;33m(\u001b[0m\u001b[0ms\u001b[0m\u001b[1;33m,\u001b[0m \u001b[0midx\u001b[0m\u001b[1;33m=\u001b[0m\u001b[0m_w\u001b[0m\u001b[1;33m(\u001b[0m\u001b[0ms\u001b[0m\u001b[1;33m,\u001b[0m \u001b[1;36m0\u001b[0m\u001b[1;33m)\u001b[0m\u001b[1;33m.\u001b[0m\u001b[0mend\u001b[0m\u001b[1;33m(\u001b[0m\u001b[1;33m)\u001b[0m\u001b[1;33m)\u001b[0m\u001b[1;33m\u001b[0m\u001b[0m\n\u001b[0m\u001b[0;32m    340\u001b[0m         \u001b[0mend\u001b[0m \u001b[1;33m=\u001b[0m \u001b[0m_w\u001b[0m\u001b[1;33m(\u001b[0m\u001b[0ms\u001b[0m\u001b[1;33m,\u001b[0m \u001b[0mend\u001b[0m\u001b[1;33m)\u001b[0m\u001b[1;33m.\u001b[0m\u001b[0mend\u001b[0m\u001b[1;33m(\u001b[0m\u001b[1;33m)\u001b[0m\u001b[1;33m\u001b[0m\u001b[0m\n\u001b[0;32m    341\u001b[0m         \u001b[1;32mif\u001b[0m \u001b[0mend\u001b[0m \u001b[1;33m!=\u001b[0m \u001b[0mlen\u001b[0m\u001b[1;33m(\u001b[0m\u001b[0ms\u001b[0m\u001b[1;33m)\u001b[0m\u001b[1;33m:\u001b[0m\u001b[1;33m\u001b[0m\u001b[0m\n",
      "\u001b[1;32m/home/louisf/anaconda3/lib/python3.5/json/decoder.py\u001b[0m in \u001b[0;36mraw_decode\u001b[1;34m(self, s, idx)\u001b[0m\n\u001b[0;32m    353\u001b[0m         \"\"\"\n\u001b[0;32m    354\u001b[0m         \u001b[1;32mtry\u001b[0m\u001b[1;33m:\u001b[0m\u001b[1;33m\u001b[0m\u001b[0m\n\u001b[1;32m--> 355\u001b[1;33m             \u001b[0mobj\u001b[0m\u001b[1;33m,\u001b[0m \u001b[0mend\u001b[0m \u001b[1;33m=\u001b[0m \u001b[0mself\u001b[0m\u001b[1;33m.\u001b[0m\u001b[0mscan_once\u001b[0m\u001b[1;33m(\u001b[0m\u001b[0ms\u001b[0m\u001b[1;33m,\u001b[0m \u001b[0midx\u001b[0m\u001b[1;33m)\u001b[0m\u001b[1;33m\u001b[0m\u001b[0m\n\u001b[0m\u001b[0;32m    356\u001b[0m         \u001b[1;32mexcept\u001b[0m \u001b[0mStopIteration\u001b[0m \u001b[1;32mas\u001b[0m \u001b[0merr\u001b[0m\u001b[1;33m:\u001b[0m\u001b[1;33m\u001b[0m\u001b[0m\n\u001b[0;32m    357\u001b[0m             \u001b[1;32mraise\u001b[0m \u001b[0mJSONDecodeError\u001b[0m\u001b[1;33m(\u001b[0m\u001b[1;34m\"Expecting value\"\u001b[0m\u001b[1;33m,\u001b[0m \u001b[0ms\u001b[0m\u001b[1;33m,\u001b[0m \u001b[0merr\u001b[0m\u001b[1;33m.\u001b[0m\u001b[0mvalue\u001b[0m\u001b[1;33m)\u001b[0m \u001b[1;32mfrom\u001b[0m \u001b[1;32mNone\u001b[0m\u001b[1;33m\u001b[0m\u001b[0m\n",
      "\u001b[1;31mKeyboardInterrupt\u001b[0m: "
     ]
    }
   ],
   "source": [
    "pdinv.geojsontodf(fpath)"
   ]
  },
  {
   "cell_type": "code",
   "execution_count": null,
   "metadata": {
    "collapsed": false,
    "scrolled": true
   },
   "outputs": [],
   "source": [
    "for index, row in accidentSegments.iterrows():\n",
    "    #pdinv.table[pdinv.table['roadsegmen']==row['roadsegmen']]['naccidents']=row['count']\n",
    "    pdinv.table.loc[pdinv.table['roadsegmen']==row['roadsegmen'],'naccidents']=row['count']"
   ]
  },
  {
   "cell_type": "code",
   "execution_count": null,
   "metadata": {
    "collapsed": false
   },
   "outputs": [],
   "source": [
    "pdinv.table.to_csv('/home/louisf/Documents/Insight/massdriver/bkp.csv')"
   ]
  },
  {
   "cell_type": "code",
   "execution_count": 24,
   "metadata": {
    "collapsed": false
   },
   "outputs": [],
   "source": [
    "pdinv.table.to_sql('segments_full', engine, if_exists='replace', chunksize=20000, dtype=nametype)"
   ]
  },
  {
   "cell_type": "code",
   "execution_count": 3,
   "metadata": {
    "collapsed": false,
    "scrolled": true
   },
   "outputs": [
    {
     "name": "stderr",
     "output_type": "stream",
     "text": [
      "/home/louisf/anaconda3/lib/python3.5/site-packages/IPython/core/interactiveshell.py:2825: DtypeWarning: Columns (17,27,32,60,73) have mixed types. Specify dtype option on import or set low_memory=False.\n",
      "  if self.run_code(code, result):\n"
     ]
    }
   ],
   "source": [
    "pdinv.table = pd.DataFrame.from_csv('/home/louisf/Documents/Insight/massdriver/bkp.csv')"
   ]
  },
  {
   "cell_type": "code",
   "execution_count": 21,
   "metadata": {
    "collapsed": false
   },
   "outputs": [],
   "source": [
    "nametype = {}\n",
    "colnames = pdinv.table.columns\n",
    "it = 0\n",
    "for n in pdinv.table.dtypes:\n",
    "    if n=='int64':\n",
    "        nametype[colnames[it]]=types.INTEGER\n",
    "    if n=='float64':\n",
    "        nametype[colnames[it]]=types.FLOAT\n",
    "    if n=='object':\n",
    "        nametype[colnames[it]]=types.VARCHAR\n",
    "    it +=1"
   ]
  },
  {
   "cell_type": "code",
   "execution_count": 23,
   "metadata": {
    "collapsed": false
   },
   "outputs": [
    {
     "data": {
      "text/plain": [
       "accesscont      int64\n",
       "addedroadt      int64\n",
       "adt             int64\n",
       "adtderivat      int64\n",
       "adtstation      int64\n",
       "adtyear         int64\n",
       "assigned_1      int64\n",
       "assignedle    float64\n",
       "city            int64\n",
       "county         object\n",
       "crn            object\n",
       "curbs           int64\n",
       "dateactive     object\n",
       "equation_1    float64\n",
       "equationro    float64\n",
       "facilityty      int64\n",
       "federalaid     object\n",
       "federalfun      int64\n",
       "fromcity        int64\n",
       "fromendtyp      int64\n",
       "frommeasur    float64\n",
       "fromstate       int64\n",
       "fromstreet     object\n",
       "functional      int64\n",
       "futurefaci      int64\n",
       "hpmscode        int64\n",
       "hpmssample     object\n",
       "iri             int64\n",
       "iristatus       int64\n",
       "iriyear         int64\n",
       "               ...   \n",
       "routenumbe     object\n",
       "routequali      int64\n",
       "routesyste     object\n",
       "routeto       float64\n",
       "routetype       int64\n",
       "rpa            object\n",
       "shape_len     float64\n",
       "speedlimit      int64\n",
       "streetlist      int64\n",
       "streetna_1     object\n",
       "streetname     object\n",
       "streetoper      int64\n",
       "structural      int64\n",
       "subroute       object\n",
       "surfacetyp      int64\n",
       "surfacewid      int64\n",
       "terrain         int64\n",
       "tocity          int64\n",
       "toendtype       int64\n",
       "tollroad        int64\n",
       "tomeasure     float64\n",
       "tostate         int64\n",
       "tostreetna     object\n",
       "trucknetwo      int64\n",
       "truckroute      int64\n",
       "undivide_1      int64\n",
       "undividedl      int64\n",
       "urbanizeda      int64\n",
       "urbantype       int64\n",
       "naccidents    float64\n",
       "dtype: object"
      ]
     },
     "execution_count": 23,
     "metadata": {},
     "output_type": "execute_result"
    }
   ],
   "source": [
    "pdinv.table.dtypes"
   ]
  }
 ],
 "metadata": {
  "kernelspec": {
   "display_name": "Python 3",
   "language": "python",
   "name": "python3"
  },
  "language_info": {
   "codemirror_mode": {
    "name": "ipython",
    "version": 3
   },
   "file_extension": ".py",
   "mimetype": "text/x-python",
   "name": "python",
   "nbconvert_exporter": "python",
   "pygments_lexer": "ipython3",
   "version": "3.5.1"
  }
 },
 "nbformat": 4,
 "nbformat_minor": 0
}
