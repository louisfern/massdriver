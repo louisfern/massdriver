{
 "cells": [
  {
   "cell_type": "markdown",
   "metadata": {},
   "source": [
    "### First, let's bring in some data."
   ]
  },
  {
   "cell_type": "code",
   "execution_count": 1,
   "metadata": {
    "collapsed": false
   },
   "outputs": [],
   "source": [
    "# Imports and helper functions\n",
    "\n",
    "import accidentHandler as aH\n",
    "import numpy as np\n",
    "import pandas as pd\n",
    "import riskModelBuilder as rMB\n",
    "import seaborn as sb\n",
    "from matplotlib import pyplot as plt\n",
    "\n",
    "from sklearn import preprocessing as skpre\n",
    "from sklearn import linear_model\n",
    "from sklearn.cross_validation import cross_val_predict\n",
    "from sklearn.cross_validation import cross_val_score\n",
    "from sklearn.ensemble import RandomForestRegressor\n",
    "from sklearn.cross_validation import train_test_split\n",
    "from sklearn import metrics\n",
    "from sklearn.learning_curve import learning_curve\n",
    "%matplotlib inline"
   ]
  },
  {
   "cell_type": "markdown",
   "metadata": {},
   "source": [
    "### Accident data."
   ]
  },
  {
   "cell_type": "code",
   "execution_count": null,
   "metadata": {
    "collapsed": false
   },
   "outputs": [],
   "source": [
    "accdf = pd.read_csv('/home/louisf/Documents/Insight/massdriver/data/accidents_3yr', low_memory=False)"
   ]
  },
  {
   "cell_type": "markdown",
   "metadata": {},
   "source": [
    "### Next, let's load in a post-imputed data set. We then add a new column which is the number of accidents."
   ]
  },
  {
   "cell_type": "code",
   "execution_count": null,
   "metadata": {
    "collapsed": false,
    "scrolled": true
   },
   "outputs": [],
   "source": [
    "# roaddf = pd.read_csv('/home/louisf/Documents/Insight/massdriver/data/intermediateGraphDB.csv')\n",
    "roaddf = pd.read_csv('/home/louisf/Documents/Insight/massdriver/data/imputedDF.csv')\n"
   ]
  },
  {
   "cell_type": "code",
   "execution_count": null,
   "metadata": {
    "collapsed": true
   },
   "outputs": [],
   "source": [
    "accdf['numaccidents']=1"
   ]
  },
  {
   "cell_type": "code",
   "execution_count": null,
   "metadata": {
    "collapsed": false
   },
   "outputs": [],
   "source": [
    "grouped = accdf.groupby(by=\"roadsegmentid\")\n",
    "numaccidents = grouped.agg(sum).numaccidents\n",
    "numaccidents.index.name = 'roadsegmen'"
   ]
  },
  {
   "cell_type": "code",
   "execution_count": null,
   "metadata": {
    "collapsed": false,
    "scrolled": true
   },
   "outputs": [],
   "source": [
    "numaccidents"
   ]
  },
  {
   "cell_type": "code",
   "execution_count": null,
   "metadata": {
    "collapsed": false,
    "scrolled": true
   },
   "outputs": [],
   "source": [
    "df2 = roaddf.join(numaccidents, on='roadsegmen')\n",
    "df2.numaccidents[pd.isnull(df2.numaccidents)] = 0"
   ]
  },
  {
   "cell_type": "code",
   "execution_count": null,
   "metadata": {
    "collapsed": false
   },
   "outputs": [],
   "source": [
    "df2['accidentspersegment']=df2['numaccidents']/df2['assignedle']"
   ]
  },
  {
   "cell_type": "code",
   "execution_count": null,
   "metadata": {
    "collapsed": false,
    "scrolled": true
   },
   "outputs": [],
   "source": [
    "fig = plt.figure(figsize=(10,10))\n",
    "ax = plt.hist(df2.numaccidents, bins=300)\n",
    "plt.yscale('log')\n",
    "plt.title('Number of accidents per road segment')\n",
    "plt.xlabel('Number of accidents')\n",
    "plt.ylabel('Number of road segments')\n",
    "plt.savefig('numberofAccidents.png', dpi=300)"
   ]
  },
  {
   "cell_type": "code",
   "execution_count": null,
   "metadata": {
    "collapsed": false,
    "scrolled": true
   },
   "outputs": [],
   "source": [
    "fig = plt.figure(figsize=(10,10))\n",
    "ax = plt.hist(df2.accidentspersegment, bins=np.logspace(0.1, 4,150 )) #pl.hist(data, bins=np.logspace(0.1, 1.0, 50))\n",
    "plt.yscale('log')\n",
    "plt.xscale('log')\n",
    "plt.title('Accident rate per road segment')\n",
    "plt.xlabel('Accident rate')\n",
    "plt.ylabel('Number of road segments')\n",
    "plt.savefig('rateofAccidents.png', dpi=300)"
   ]
  },
  {
   "cell_type": "code",
   "execution_count": null,
   "metadata": {
    "collapsed": false,
    "scrolled": true
   },
   "outputs": [],
   "source": [
    "fig = plt.figure(figsize=(20,10))\n",
    "ax = plt.hist(2+df2.accidentspersegment, bins=np.logspace(.1,4,150)) #pl.hist(data, bins=np.logspace(0.1, 1.0, 50))\n",
    "plt.yscale('log')\n",
    "plt.xscale('log')\n",
    "plt.title('Accident rate per road segment')\n",
    "plt.xlabel('Accident rate + 1')\n",
    "plt.ylabel('Number of road segments')\n",
    "plt.savefig('rateofAccidents.png', dpi=300)"
   ]
  },
  {
   "cell_type": "markdown",
   "metadata": {},
   "source": [
    "### Now it's time to start assigning categorical variables to this mess."
   ]
  },
  {
   "cell_type": "code",
   "execution_count": null,
   "metadata": {
    "collapsed": true
   },
   "outputs": [],
   "source": [
    "# Bring in the requirements document.\n",
    "pathtoreqs = '/home/louisf/Documents/Insight/massdriver/docs/road_inventory_params.csv'\n",
    "reqs = pd.read_csv(pathtoreqs, delimiter = '^')"
   ]
  },
  {
   "cell_type": "code",
   "execution_count": null,
   "metadata": {
    "collapsed": false
   },
   "outputs": [],
   "source": [
    "replaceMe = reqs[(reqs['Categorical']==True) & (reqs['Disqualify']==False)]\n",
    "test = roaddf.copy()"
   ]
  },
  {
   "cell_type": "code",
   "execution_count": null,
   "metadata": {
    "collapsed": true
   },
   "outputs": [],
   "source": []
  },
  {
   "cell_type": "code",
   "execution_count": null,
   "metadata": {
    "collapsed": false,
    "scrolled": true
   },
   "outputs": [],
   "source": [
    "for variable in replaceMe.Variable:\n",
    "    dummycat = pd.get_dummies(test[variable], prefix=variable)\n",
    "    test.drop(variable, inplace=True, axis=1)\n",
    "    test = test.join(dummycat, how='right')"
   ]
  },
  {
   "cell_type": "code",
   "execution_count": null,
   "metadata": {
    "collapsed": false,
    "scrolled": true
   },
   "outputs": [],
   "source": [
    "dropdisq = reqs[reqs['Disqualify']==True]\n",
    "for var in dropdisq['Variable']:\n",
    "    try:\n",
    "        test.drop(var, inplace=True, axis=1)\n",
    "    except ValueError:\n",
    "        print(\"{} not found\".format(var))"
   ]
  },
  {
   "cell_type": "code",
   "execution_count": null,
   "metadata": {
    "collapsed": false
   },
   "outputs": [],
   "source": [
    "# Alternate method: replace the string variables with numbers, not dummy variables.\n",
    "# Random forest doesn't need dummy variables!\n",
    "test = df2.copy()\n",
    "r2 = reqs[reqs['Data type']=='string']\n",
    "target = r2[r2['Disqualify']==False]"
   ]
  },
  {
   "cell_type": "code",
   "execution_count": null,
   "metadata": {
    "collapsed": false
   },
   "outputs": [],
   "source": [
    "# county\n",
    "\n",
    "vals = [ord(char) - 64 for char in test['county']]\n",
    "\n",
    "test['county']=vals"
   ]
  },
  {
   "cell_type": "code",
   "execution_count": null,
   "metadata": {
    "collapsed": false
   },
   "outputs": [],
   "source": [
    "# mpo\n",
    "\n",
    "test.mpo.replace(to_replace={'Boston Region':1, \n",
    "                             'Northern Middlesex':2, \n",
    "                            'Southeastern Massachusetts':3, \n",
    "                            'Merrimack Valley':4, \n",
    "                            'Berkshire':5,\n",
    "                            'Montachusett':6, \n",
    "                            'Pioneer Valley':7, \n",
    "                            \"Martha's Vineyard\":8, \n",
    "                            'Central Massachusetts':9, \n",
    "                            'Cape Cod':10, \n",
    "                            'Franklin':11,\n",
    "                            'Old Colony':12,\n",
    "                            'Nantucket':13}, \n",
    "                inplace=True)"
   ]
  },
  {
   "cell_type": "code",
   "execution_count": null,
   "metadata": {
    "collapsed": false
   },
   "outputs": [],
   "source": [
    "# rpa\n",
    "test.rpa.replace(to_replace={'MAPC':1,\n",
    "                             'NMCOG':2,\n",
    "                             'SRPEDD':3,\n",
    "                             'MVPC':4,\n",
    "                             'BRPC':5,\n",
    "                             'MRPC':6,\n",
    "                             'PVPC':7,\n",
    "                             'MVC':8,\n",
    "                             'CMRPC':9,\n",
    "                             'CCC':10,\n",
    "                             'FRCOG':11,\n",
    "                             'OCPC':12,\n",
    "                             'NPEDC':13,\n",
    "                             'MAPC-OCPC':14},\n",
    "                inplace=True)\n"
   ]
  },
  {
   "cell_type": "code",
   "execution_count": null,
   "metadata": {
    "collapsed": false
   },
   "outputs": [],
   "source": [
    "# routesyste\n",
    "test.routesyste.replace(to_replace={'L':1,\n",
    "                                    np.nan:2,\n",
    "                                    'R':3,\n",
    "                                    'SR':4,\n",
    "                                    'N':5,\n",
    "                                    'US':6,\n",
    "                                    'B':7,\n",
    "                                    'I':8},\n",
    "                       inplace=True)"
   ]
  },
  {
   "cell_type": "code",
   "execution_count": null,
   "metadata": {
    "collapsed": false
   },
   "outputs": [],
   "source": [
    "test.drop('fromstreet',inplace=True, axis=1)"
   ]
  },
  {
   "cell_type": "code",
   "execution_count": null,
   "metadata": {
    "collapsed": false
   },
   "outputs": [],
   "source": [
    "test.to_csv('~/Documents/Insight/massdriver/data/noncategoricalDF.csv')"
   ]
  },
  {
   "cell_type": "markdown",
   "metadata": {},
   "source": [
    "###  Clear the memory here!"
   ]
  },
  {
   "cell_type": "code",
   "execution_count": null,
   "metadata": {
    "collapsed": false,
    "scrolled": true
   },
   "outputs": [],
   "source": [
    "del reqs\n",
    "del roaddf\n",
    "del grouped\n",
    "del dropdisq"
   ]
  },
  {
   "cell_type": "code",
   "execution_count": 2,
   "metadata": {
    "collapsed": false
   },
   "outputs": [],
   "source": [
    "#catDF = pd.DataFrame.from_csv('~/Documents/Insight/massdriver/data/categoricalDF.csv')\n",
    "catDF = pd.DataFrame.from_csv('~/Documents/Insight/massdriver/data/noncategoricalDF.csv')"
   ]
  },
  {
   "cell_type": "code",
   "execution_count": null,
   "metadata": {
    "collapsed": true
   },
   "outputs": [],
   "source": [
    "dummycat = pd.get_dummies(catDF['county'], prefix='county')\n",
    "catDF.drop('county', inplace=True, axis=1)\n",
    "catDF = catDF.join(dummycat, how='right')\n",
    "\n",
    "dummycat = pd.get_dummies(catDF['city'], prefix='city')\n",
    "catDF.drop('city', inplace=True, axis=1)\n",
    "catDF = catDF.join(dummycat, how='right')\n"
   ]
  },
  {
   "cell_type": "code",
   "execution_count": 3,
   "metadata": {
    "collapsed": true
   },
   "outputs": [],
   "source": [
    "nparr = np.asarray(catDF)"
   ]
  },
  {
   "cell_type": "code",
   "execution_count": null,
   "metadata": {
    "collapsed": false,
    "scrolled": false
   },
   "outputs": [],
   "source": [
    "colnames = catDF.columns\n",
    "print(colnames[0])\n",
    "print(colnames[7])\n",
    "print(colnames[39])\n",
    "print(colnames[61])\n",
    "print(colnames[62])"
   ]
  },
  {
   "cell_type": "markdown",
   "metadata": {},
   "source": [
    "### Predict!"
   ]
  },
  {
   "cell_type": "code",
   "execution_count": 4,
   "metadata": {
    "collapsed": false
   },
   "outputs": [],
   "source": [
    "m = rMB.Model()"
   ]
  },
  {
   "cell_type": "code",
   "execution_count": 5,
   "metadata": {
    "collapsed": false
   },
   "outputs": [],
   "source": [
    "# Split up the data \n",
    "colnames = catDF.columns\n",
    "test_size = 0.2\n",
    "\n",
    "# CURRENTLY LEAVING IN assignedle\n",
    "coltodropCAT = [0, 7, 37, 59, 60] # don't consider unnamed index, roadsegmen, numaccidents, accidentspersegment 38, 43,\n",
    "coltodrop = [0, 7, 39, 61, 62]\n",
    "X = np.delete(nparr, coltodrop, axis=1)\n",
    "# X = X[1:20000,:]\n",
    "y = np.log(1+nparr[:,62])\n",
    "# y = y[1:20000]\n",
    "x_train, x_test, y_train, y_test = train_test_split(\n",
    "            X, y, test_size=test_size, random_state = 127)\n",
    "\n",
    "del nparr"
   ]
  },
  {
   "cell_type": "code",
   "execution_count": null,
   "metadata": {
    "collapsed": false
   },
   "outputs": [],
   "source": []
  },
  {
   "cell_type": "code",
   "execution_count": null,
   "metadata": {
    "collapsed": false
   },
   "outputs": [],
   "source": [
    "colnames[2]"
   ]
  },
  {
   "cell_type": "code",
   "execution_count": 6,
   "metadata": {
    "collapsed": false
   },
   "outputs": [],
   "source": [
    "colnames = list(catDF.columns.values)\n",
    "for i in sorted(coltodrop, reverse=True):\n",
    "    del colnames[i]"
   ]
  },
  {
   "cell_type": "code",
   "execution_count": null,
   "metadata": {
    "collapsed": false,
    "scrolled": true
   },
   "outputs": [],
   "source": [
    "n_estimators = [50, 100, 200, 300, 400]\n",
    "#n_estimators = [20]\n",
    "scores = []\n",
    "oob_scores = []\n",
    "rf_preds = []\n",
    "xvs = []\n",
    "yvs = []\n",
    "rfs = []\n",
    "\n",
    "for n in n_estimators:\n",
    "    score, oob_score, rf_pred, xv, yv, rf = m.rf_regression(x_train, y_train, n, .3, 4)\n",
    "    scores.append(score)\n",
    "    oob_scores.append(oob_score)\n",
    "    rfs.append(rf)\n",
    "    print('n estimators: {} completed'.format(n))"
   ]
  },
  {
   "cell_type": "code",
   "execution_count": 7,
   "metadata": {
    "collapsed": false
   },
   "outputs": [],
   "source": [
    "predicted, scores = m.rf_regression_crossval(x_train, y_train, 100, 5, 4)"
   ]
  },
  {
   "cell_type": "code",
   "execution_count": 12,
   "metadata": {
    "collapsed": false
   },
   "outputs": [
    {
     "data": {
      "text/plain": [
       "<matplotlib.collections.PathCollection at 0x7faee46800f0>"
      ]
     },
     "execution_count": 12,
     "metadata": {},
     "output_type": "execute_result"
    },
    {
     "data": {
      "image/png": "[encoded data removed]",
      "text/plain": [
       "<matplotlib.figure.Figure at 0x7faee57936d8>"
      ]
     },
     "metadata": {},
     "output_type": "display_data"
    }
   ],
   "source": [
    "x = np.linspace(0, 10)\n",
    "y = np.linspace(0, 10)\n",
    "fig = plt.figure(figsize=(10, 10), dpi=300)\n",
    "ax = fig.add_subplot(1, 1, 1)\n",
    "ax.plot(x, y, '-')\n",
    "plt.scatter(y_train, predicted)"
   ]
  },
  {
   "cell_type": "code",
   "execution_count": null,
   "metadata": {
    "collapsed": false
   },
   "outputs": [],
   "source": [
    "rf.feature_importances_"
   ]
  },
  {
   "cell_type": "code",
   "execution_count": null,
   "metadata": {
    "collapsed": false,
    "scrolled": true
   },
   "outputs": [],
   "source": [
    "rf = RandomForestRegressor(n_estimators=200, oob_score=True, n_jobs=4)\n",
    "train_sizes, train_scores, test_scores = learning_curve(rf, x_train, y_train, cv=5, train_sizes=np.linspace(.1, 1.0, 10))\n",
    "plt.errorbar(train_sizes, np.mean(train_scores, axis=1), np.std(train_scores, axis=1))\n",
    "plt.errorbar(train_sizes, np.mean(test_scores, axis=1), np.std(test_scores, axis=1))"
   ]
  },
  {
   "cell_type": "code",
   "execution_count": null,
   "metadata": {
    "collapsed": false,
    "scrolled": true
   },
   "outputs": [],
   "source": [
    "plt.errorbar(train_sizes, np.mean(train_scores, axis=1), np.std(train_scores, axis=1))\n",
    "plt.errorbar(train_sizes, np.mean(test_scores, axis=1), np.std(test_scores, axis=1))\n",
    "plt.xlabel(\"Number of samples used\")\n",
    "plt.ylabel(\"R$^2$\")\n",
    "plt.title(\"Learning curve for 100 estimators, default parameters, RF\")\n",
    "plt.savefig('RF_n100_defaults_learning_curve.png')"
   ]
  },
  {
   "cell_type": "markdown",
   "metadata": {},
   "source": [
    "### Let's use a copy-paste approach to tune parameters"
   ]
  },
  {
   "cell_type": "code",
   "execution_count": 7,
   "metadata": {
    "collapsed": false
   },
   "outputs": [
    {
     "name": "stdout",
     "output_type": "stream",
     "text": [
      "RandomizedSearchCV took 7685.36 seconds for 20 candidates parameter settings.\n",
      "Model with rank: 1\n",
      "Mean validation score: 0.413 (std: 0.002)\n",
      "Parameters: {'bootstrap': False, 'max_features': 0.3, 'max_depth': None, 'min_samples_split': 12, 'min_samples_leaf': 8}\n",
      "\n",
      "Model with rank: 2\n",
      "Mean validation score: 0.412 (std: 0.002)\n",
      "Parameters: {'bootstrap': True, 'max_features': 0.3, 'max_depth': 16, 'min_samples_split': 4, 'min_samples_leaf': 1}\n",
      "\n",
      "Model with rank: 3\n",
      "Mean validation score: 0.412 (std: 0.002)\n",
      "Parameters: {'bootstrap': True, 'max_features': 0.3, 'max_depth': 16, 'min_samples_split': 4, 'min_samples_leaf': 4}\n",
      "\n"
     ]
    },
    {
     "data": {
      "text/plain": [
       "'# use a full grid over all parameters\\nparam_grid = {\"max_depth\": [3, None],\\n              \"max_features\": [1, 10, 20],\\n              \"min_samples_split\": [1, 10, 20],\\n              \"min_samples_leaf\": [1, 10, 20],\\n              \"bootstrap\": [True, False],\\n              \"criterion\": [\"gini\", \"entropy\"]}\\n\\n# run grid search\\ngrid_search = GridSearchCV(clf, param_grid=param_grid)\\nstart = time()\\ngrid_search.fit(X, y)\\n\\nprint(\"GridSearchCV took %.2f seconds for %d candidate parameter settings.\"\\n      % (time() - start, len(grid_search.grid_scores_)))\\nreport(grid_search.grid_scores_)'"
      ]
     },
     "execution_count": 7,
     "metadata": {},
     "output_type": "execute_result"
    }
   ],
   "source": [
    "import numpy as np\n",
    "\n",
    "from time import time\n",
    "from operator import itemgetter\n",
    "from scipy.stats import randint as sp_randint\n",
    "\n",
    "from sklearn.grid_search import GridSearchCV, RandomizedSearchCV\n",
    "from sklearn.datasets import load_digits\n",
    "from sklearn.ensemble import RandomForestClassifier\n",
    "\n",
    "# get some data\n",
    "X, y = x_train, y_train\n",
    "\n",
    "# build a classifier\n",
    "clf = RandomForestRegressor(n_estimators=300, n_jobs=4)\n",
    "\n",
    "\n",
    "# Utility function to report best scores\n",
    "def report(grid_scores, n_top=3):\n",
    "    top_scores = sorted(grid_scores, key=itemgetter(1), reverse=True)[:n_top]\n",
    "    for i, score in enumerate(top_scores):\n",
    "        print(\"Model with rank: {0}\".format(i + 1))\n",
    "        print(\"Mean validation score: {0:.3f} (std: {1:.3f})\".format(\n",
    "              score.mean_validation_score,\n",
    "              np.std(score.cv_validation_scores)))\n",
    "        print(\"Parameters: {0}\".format(score.parameters))\n",
    "        print(\"\")\n",
    "\n",
    "\n",
    "# specify parameters and distributions to sample from\n",
    "param_dist = {\"max_depth\": [5, 16, None],\n",
    "              \"max_features\": [0.1, 0.3, 0.5, 0.75, 1.0],\n",
    "              \"min_samples_split\": sp_randint(1, 30),\n",
    "              \"min_samples_leaf\": sp_randint(1, 30),\n",
    "              \"bootstrap\": [True, False]}\n",
    "\n",
    "# run randomized search\n",
    "n_iter_search = 20\n",
    "random_search = RandomizedSearchCV(clf, param_distributions=param_dist,\n",
    "                                   n_iter=n_iter_search)\n",
    "\n",
    "start = time()\n",
    "random_search.fit(X, y)\n",
    "print(\"RandomizedSearchCV took %.2f seconds for %d candidates\"\n",
    "      \" parameter settings.\" % ((time() - start), n_iter_search))\n",
    "report(random_search.grid_scores_)\n",
    "\n",
    "\"\"\"# use a full grid over all parameters\n",
    "param_grid = {\"max_depth\": [3, None],\n",
    "              \"max_features\": [1, 10, 20],\n",
    "              \"min_samples_split\": [1, 10, 20],\n",
    "              \"min_samples_leaf\": [1, 10, 20],\n",
    "              \"bootstrap\": [True, False],\n",
    "              \"criterion\": [\"gini\", \"entropy\"]}\n",
    "\n",
    "# run grid search\n",
    "grid_search = GridSearchCV(clf, param_grid=param_grid)\n",
    "start = time()\n",
    "grid_search.fit(X, y)\n",
    "\n",
    "print(\"GridSearchCV took %.2f seconds for %d candidate parameter settings.\"\n",
    "      % (time() - start, len(grid_search.grid_scores_)))\n",
    "report(grid_search.grid_scores_)\"\"\""
   ]
  },
  {
   "cell_type": "code",
   "execution_count": null,
   "metadata": {
    "collapsed": false
   },
   "outputs": [],
   "source": [
    "rf = RandomForestRegressor(n_estimators=100, oob_score=True)"
   ]
  },
  {
   "cell_type": "code",
   "execution_count": null,
   "metadata": {
    "collapsed": false,
    "scrolled": true
   },
   "outputs": [],
   "source": [
    "importances = rf.feature_importances_\n",
    "indices = np.argsort(importances)[::-1]\n",
    "print(\"Feature ranking:\")\n",
    "\n",
    "for f in range(X.shape[1]):\n",
    "    print(\"%d. feature %d (%f)\" % (f + 1, indices[f], importances[indices[f]]))\n",
    "    \n",
    "plt.title(\"Feature importances\")\n",
    "plt.bar(range(x_train.shape[1]), importances[indices],\n",
    "       color=\"r\", align=\"center\")\n",
    "plt.xticks(range(x_train.shape[1]), indices)\n",
    "plt.xlim([-1, x_train.shape[1]])"
   ]
  },
  {
   "cell_type": "code",
   "execution_count": null,
   "metadata": {
    "collapsed": false
   },
   "outputs": [],
   "source": [
    "from scipy.stats import randint as sp_randint\n",
    "sp_randint(1,100)/100"
   ]
  },
  {
   "cell_type": "code",
   "execution_count": null,
   "metadata": {
    "collapsed": false
   },
   "outputs": [],
   "source": [
    "# Perform 5 fold cross validation during training\n",
    "\n",
    "predicted = m.rf_regression_crossval(x_train, y_train, 100, 5)"
   ]
  },
  {
   "cell_type": "code",
   "execution_count": null,
   "metadata": {
    "collapsed": false
   },
   "outputs": [],
   "source": [
    "metrics.r2_score(y_train, predicted)"
   ]
  },
  {
   "cell_type": "code",
   "execution_count": null,
   "metadata": {
    "collapsed": false
   },
   "outputs": [],
   "source": [
    "m.linear_crossval(x_train, y_train, 5)"
   ]
  },
  {
   "cell_type": "code",
   "execution_count": null,
   "metadata": {
    "collapsed": true
   },
   "outputs": [],
   "source": [
    "# Perform training \n",
    "score, oob_score, rf_pred, x_val, y_val, rf = m.rf_regression(x_train, y_train, 100, 0.2)"
   ]
  },
  {
   "cell_type": "code",
   "execution_count": null,
   "metadata": {
    "collapsed": false
   },
   "outputs": [],
   "source": [
    "score2, oob_score2, rf_pred2, x_val2, y_val2, rf2 = m.rf_regression(x_train, y_train, 200, 0.2)"
   ]
  },
  {
   "cell_type": "code",
   "execution_count": null,
   "metadata": {
    "collapsed": true
   },
   "outputs": [],
   "source": [
    "# silly string\n",
    "string = path%5B0%5D%5B%5D=-71.29214522865368&path%5B0%5D%5B%5D=42.29685223455989&path%5B1%5D%5B%5D=-71.29184100186349&path%5B1%5D%5B%5D=42.29696000242845&path%5B2%5D%5B%5D=-71.28988204853896&path%5B2%5D%5B%5D=42.29766899619312&path%5B3%5D%5B%5D=-71.28961003347189&path%5B3%5D%5B%5D=42.29786997044016&path%5B4%5D%5B%5D=-71.2879424945581&path%5B4%5D%5B%5D=42.3001812282949&path%5B5%5D%5B%5D=-71.28785259794424&path%5B5%5D%5B%5D=42.30031054314406&path%5B6%5D%5B%5D=-71.28733443615482&path%5B6%5D%5B%5D=42.30103407843166&path%5B7%5D%5B%5D=-71.28659065564071&path%5B7%5D%5B%5D=42.301947182093805"
   ]
  }
 ],
 "metadata": {
  "kernelspec": {
   "display_name": "Python 3",
   "language": "python",
   "name": "python3"
  },
  "language_info": {
   "codemirror_mode": {
    "name": "ipython",
    "version": 3
   },
   "file_extension": ".py",
   "mimetype": "text/x-python",
   "name": "python",
   "nbconvert_exporter": "python",
   "pygments_lexer": "ipython3",
   "version": "3.5.1"
  }
 },
 "nbformat": 4,
 "nbformat_minor": 0
}
