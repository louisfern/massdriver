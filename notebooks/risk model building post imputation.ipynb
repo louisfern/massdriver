{
 "cells": [
  {
   "cell_type": "markdown",
   "metadata": {},
   "source": [
    "### First, let's bring in some data."
   ]
  },
  {
   "cell_type": "code",
   "execution_count": 10,
   "metadata": {
    "collapsed": false
   },
   "outputs": [],
   "source": [
    "# Imports and helper functions\n",
    "\n",
    "import accidentHandler as aH\n",
    "import numpy as np\n",
    "import pandas as pd\n",
    "import riskModelBuilder as rMB\n",
    "import seaborn as sb\n",
    "from matplotlib import pyplot as plt\n",
    "\n",
    "from sklearn import preprocessing as skpre\n",
    "from sklearn import linear_model\n",
    "from sklearn.cross_validation import cross_val_predict\n",
    "from sklearn.cross_validation import cross_val_score\n",
    "from sklearn.ensemble import RandomForestRegressor\n",
    "from sklearn.cross_validation import train_test_split\n",
    "from sklearn import metrics\n",
    "\n",
    "%matplotlib inline"
   ]
  },
  {
   "cell_type": "markdown",
   "metadata": {},
   "source": [
    "### Accident data."
   ]
  },
  {
   "cell_type": "code",
   "execution_count": null,
   "metadata": {
    "collapsed": false
   },
   "outputs": [],
   "source": [
    "accdf = pd.read_csv('/home/louisf/Documents/Insight/massdriver/data/accidents_3yr', low_memory=False)"
   ]
  },
  {
   "cell_type": "markdown",
   "metadata": {},
   "source": [
    "### Next, let's load in a post-imputed data set. We then add a new column which is the number of accidents."
   ]
  },
  {
   "cell_type": "code",
   "execution_count": null,
   "metadata": {
    "collapsed": true
   },
   "outputs": [],
   "source": [
    "roaddf = pd.read_csv('/home/louisf/Documents/Insight/massdriver/data/intermediateGraphDB.csv')\n",
    "\n"
   ]
  },
  {
   "cell_type": "code",
   "execution_count": null,
   "metadata": {
    "collapsed": false,
    "scrolled": true
   },
   "outputs": [],
   "source": [
    "accdf.columns"
   ]
  },
  {
   "cell_type": "code",
   "execution_count": null,
   "metadata": {
    "collapsed": true
   },
   "outputs": [],
   "source": [
    "accdf['numaccidents']=1"
   ]
  },
  {
   "cell_type": "code",
   "execution_count": null,
   "metadata": {
    "collapsed": false
   },
   "outputs": [],
   "source": []
  },
  {
   "cell_type": "code",
   "execution_count": null,
   "metadata": {
    "collapsed": false
   },
   "outputs": [],
   "source": [
    "numaccidents = grouped.agg(sum).numaccidents\n",
    "numaccidents.index.name = 'roadsegmen'"
   ]
  },
  {
   "cell_type": "code",
   "execution_count": null,
   "metadata": {
    "collapsed": false,
    "scrolled": true
   },
   "outputs": [],
   "source": [
    "df2 = roaddf.join(numaccidents, on=road)\n",
    "df2.numaccidents[pd.isnull(df2.numaccidents)] = 0"
   ]
  },
  {
   "cell_type": "code",
   "execution_count": null,
   "metadata": {
    "collapsed": false
   },
   "outputs": [],
   "source": [
    "df2['accidentspersegment']=df2['numaccidents']/df2['assignedle']"
   ]
  },
  {
   "cell_type": "code",
   "execution_count": null,
   "metadata": {
    "collapsed": false,
    "scrolled": true
   },
   "outputs": [],
   "source": [
    "fig = plt.figure(figsize=(10,10))\n",
    "ax = plt.hist(df2.numaccidents/df2., bins=300)\n",
    "plt.yscale('log')\n",
    "plt.title('Number of accidents per road segment')\n",
    "plt.xlabel('Number of accidents')\n",
    "plt.ylabel('Number of road segments')\n",
    "plt.savefig('numberofAccidents.png', dpi=300)"
   ]
  },
  {
   "cell_type": "code",
   "execution_count": null,
   "metadata": {
    "collapsed": false,
    "scrolled": true
   },
   "outputs": [],
   "source": [
    "fig = plt.figure(figsize=(10,10))\n",
    "ax = plt.hist(df2.accidentspersegment, bins=np.logspace(0.1, 4,150 )) #pl.hist(data, bins=np.logspace(0.1, 1.0, 50))\n",
    "plt.yscale('log')\n",
    "plt.xscale('log')\n",
    "plt.title('Accident rate per road segment')\n",
    "plt.xlabel('Accident rate')\n",
    "plt.ylabel('Number of road segments')\n",
    "plt.savefig('rateofAccidents.png', dpi=300)"
   ]
  },
  {
   "cell_type": "code",
   "execution_count": null,
   "metadata": {
    "collapsed": false,
    "scrolled": true
   },
   "outputs": [],
   "source": [
    "fig = plt.figure(figsize=(20,10))\n",
    "ax = plt.hist(2+df2.accidentspersegment, bins=np.logspace(.1,4,150)) #pl.hist(data, bins=np.logspace(0.1, 1.0, 50))\n",
    "plt.yscale('log')\n",
    "plt.xscale('log')\n",
    "plt.title('Accident rate per road segment')\n",
    "plt.xlabel('Accident rate + 1')\n",
    "plt.ylabel('Number of road segments')\n",
    "plt.savefig('rateofAccidents.png', dpi=300)"
   ]
  },
  {
   "cell_type": "markdown",
   "metadata": {},
   "source": [
    "### Now it's time to start assigning categorical variables to this mess."
   ]
  },
  {
   "cell_type": "code",
   "execution_count": null,
   "metadata": {
    "collapsed": true
   },
   "outputs": [],
   "source": [
    "# Bring in the requirements document.\n",
    "pathtoreqs = '/home/louisf/Documents/Insight/massdriver/docs/road_inventory_params.csv'\n",
    "reqs = pd.read_csv(pathtoreqs, delimiter = '^')"
   ]
  },
  {
   "cell_type": "code",
   "execution_count": null,
   "metadata": {
    "collapsed": false
   },
   "outputs": [],
   "source": [
    "replaceMe = reqs[(reqs['Categorical']==True) & (reqs['Disqualify']==False)]\n",
    "test = roaddf.copy()"
   ]
  },
  {
   "cell_type": "code",
   "execution_count": null,
   "metadata": {
    "collapsed": false
   },
   "outputs": [],
   "source": [
    "for variable in replaceMe.Variable:\n",
    "    dummycat = pd.get_dummies(test[variable], prefix=variable)\n",
    "    test.drop(variable, inplace=True, axis=1)\n",
    "    test = test.join(dummycat, how='right')"
   ]
  },
  {
   "cell_type": "code",
   "execution_count": null,
   "metadata": {
    "collapsed": false,
    "scrolled": true
   },
   "outputs": [],
   "source": [
    "dropdisq = reqs[reqs['Disqualify']==True]\n",
    "for var in dropdisq['Variable']:\n",
    "    try:\n",
    "        test.drop(var, inplace=True, axis=1)\n",
    "    except ValueError:\n",
    "        print(\"{} not found\".format(var))"
   ]
  },
  {
   "cell_type": "markdown",
   "metadata": {},
   "source": [
    "###  Clear the memory here!"
   ]
  },
  {
   "cell_type": "code",
   "execution_count": null,
   "metadata": {
    "collapsed": false
   },
   "outputs": [],
   "source": [
    "del reqs\n",
    "del roaddf\n",
    "del grouped\n",
    "del dropdisq"
   ]
  },
  {
   "cell_type": "code",
   "execution_count": 2,
   "metadata": {
    "collapsed": true
   },
   "outputs": [],
   "source": [
    "catDF = pd.DataFrame.from_csv('~/Documents/Insight/massdriver/data/categoricalDF.csv')"
   ]
  },
  {
   "cell_type": "code",
   "execution_count": 3,
   "metadata": {
    "collapsed": true
   },
   "outputs": [],
   "source": [
    "nparr = np.asarray(catDF)"
   ]
  },
  {
   "cell_type": "markdown",
   "metadata": {},
   "source": [
    "### Predict!"
   ]
  },
  {
   "cell_type": "code",
   "execution_count": 4,
   "metadata": {
    "collapsed": false
   },
   "outputs": [],
   "source": [
    "m = rMB.Model()"
   ]
  },
  {
   "cell_type": "code",
   "execution_count": 5,
   "metadata": {
    "collapsed": false
   },
   "outputs": [],
   "source": [
    "# Split up the data \n",
    "\n",
    "test_size = 0.2\n",
    "\n",
    "coltodrop = [0, 14, 640, 641]\n",
    "X = np.delete(nparr, coltodrop, axis=1)\n",
    "y = nparr[:,-2]\n",
    "\n",
    "x_train, x_test, y_train, y_test = train_test_split(\n",
    "            X, y, test_size=test_size)\n",
    "\n",
    "del nparr"
   ]
  },
  {
   "cell_type": "code",
   "execution_count": 6,
   "metadata": {
    "collapsed": false
   },
   "outputs": [],
   "source": [
    "# Perform 5 fold cross validation during training\n",
    "\n",
    "predicted = m.rf_regression_crossval(x_train, y_train, 100, 5)"
   ]
  },
  {
   "cell_type": "code",
   "execution_count": 13,
   "metadata": {
    "collapsed": false
   },
   "outputs": [
    {
     "data": {
      "text/plain": [
       "0.35651349434367741"
      ]
     },
     "execution_count": 13,
     "metadata": {},
     "output_type": "execute_result"
    }
   ],
   "source": [
    "metrics.r2_score(y_train, predicted)"
   ]
  },
  {
   "cell_type": "code",
   "execution_count": 15,
   "metadata": {
    "collapsed": false
   },
   "outputs": [],
   "source": [
    "m.linear_crossval(x_train, y_train, 5)"
   ]
  },
  {
   "cell_type": "code",
   "execution_count": null,
   "metadata": {
    "collapsed": true
   },
   "outputs": [],
   "source": [
    "# Perform training \n",
    "score, oob_score, rf_pred, x_val, y_val, rf = m.rf_regression(x_train, y_train, 100, 0.2)"
   ]
  },
  {
   "cell_type": "code",
   "execution_count": null,
   "metadata": {
    "collapsed": false
   },
   "outputs": [],
   "source": [
    "score2, oob_score2, rf_pred2, x_val2, y_val2, rf2 = m.rf_regression(x_train, y_train, 200, 0.2)"
   ]
  },
  {
   "cell_type": "code",
   "execution_count": null,
   "metadata": {
    "collapsed": true
   },
   "outputs": [],
   "source": []
  }
 ],
 "metadata": {
  "kernelspec": {
   "display_name": "Python 3",
   "language": "python",
   "name": "python3"
  },
  "language_info": {
   "codemirror_mode": {
    "name": "ipython",
    "version": 3
   },
   "file_extension": ".py",
   "mimetype": "text/x-python",
   "name": "python",
   "nbconvert_exporter": "python",
   "pygments_lexer": "ipython3",
   "version": "3.5.1"
  }
 },
 "nbformat": 4,
 "nbformat_minor": 0
}
