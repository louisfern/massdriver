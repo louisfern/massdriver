{
 "cells": [
  {
   "cell_type": "markdown",
   "metadata": {},
   "source": [
    "# Cleaning of the road inventory"
   ]
  },
  {
   "cell_type": "markdown",
   "metadata": {},
   "source": [
    "## The first part of this notebook uses the road inventory dictionary to constrain the values of data from the shapefile."
   ]
  },
  {
   "cell_type": "code",
   "execution_count": 1,
   "metadata": {
    "collapsed": false
   },
   "outputs": [],
   "source": [
    "# First, import and load in data.\n",
    "\n",
    "import inventoryCleaner as iC\n",
    "import pandas as pd\n",
    "import numpy as np\n",
    "import csv\n",
    "import string\n",
    "%matplotlib inline\n",
    "\n",
    "fpath = '/home/louisf/Documents/Insight/massdriver/data/raw/shapefile/RoadInventory.geojson'\n",
    "pdinv = iC.PDInventory('roadInventory', 'test')\n",
    "\n",
    "pdinv.geojsontodf(fpath)\n",
    "\n",
    "\n"
   ]
  },
  {
   "cell_type": "code",
   "execution_count": 10,
   "metadata": {
    "collapsed": false
   },
   "outputs": [
    {
     "data": {
      "text/plain": [
       "0"
      ]
     },
     "execution_count": 10,
     "metadata": {},
     "output_type": "execute_result"
    }
   ],
   "source": [
    "# Combine the two street name variables and remove the old ones\n",
    "nu = pd.isnull(pdinv.table.streetname)\n",
    "nu2 = pd.isnull(pdinv.table.streetna_1)\n",
    "\n",
    "pdinv.table.streetname[nu]=''\n",
    "pdinv.table.streetna_1[nu2]=''\n",
    "\n",
    "pdinv.table[\"newstreetn\"] = pdinv.table[\"streetname\"].map(str) + pdinv.table[\"streetna_1\"]\n",
    "\n",
    "pdinv.table.drop('streetname', axis=1, inplace=True)\n",
    "pdinv.table.drop('streetna_1', axis=1, inplace=True)"
   ]
  },
  {
   "cell_type": "code",
   "execution_count": 17,
   "metadata": {
    "collapsed": false,
    "scrolled": true
   },
   "outputs": [
    {
     "data": {
      "text/plain": [
       "Index(['accesscont', 'addedroadt', 'adt', 'adtderivat', 'adtstation',\n",
       "       'adtyear', 'assigned_1', 'assignedle', 'city', 'county', 'crn', 'curbs',\n",
       "       'dateactive', 'equation_1', 'equationro', 'facilityty', 'federalaid',\n",
       "       'federalfun', 'fromcity', 'fromendtyp', 'frommeasur', 'fromstate',\n",
       "       'fromstreet', 'functional', 'futurefaci', 'hpmscode', 'hpmssample',\n",
       "       'iri', 'iristatus', 'iriyear', 'item_id', 'jurisdicti', 'leftshou_1',\n",
       "       'leftshould', 'leftsidewa', 'lifecycles', 'massdothig', 'mediantype',\n",
       "       'medianwidt', 'mhs', 'mileagecou', 'mpo', 'municipals', 'nhsstatus',\n",
       "       'numberofpe', 'numberoftr', 'opposingdi', 'oppositenu', 'psi',\n",
       "       'psiyear', 'rightofway', 'rightsho_1', 'rightshoul', 'rightsidew',\n",
       "       'roadinvent', 'roadsegmen', 'routedirec', 'routefrom', 'routekey',\n",
       "       'routenumbe', 'routequali', 'routesyste', 'routeto', 'routetype', 'rpa',\n",
       "       'shape_len', 'speedlimit', 'streetlist', 'streetoper', 'structural',\n",
       "       'subroute', 'surfacetyp', 'surfacewid', 'terrain', 'tocity',\n",
       "       'toendtype', 'tollroad', 'tomeasure', 'tostate', 'tostreetna',\n",
       "       'trucknetwo', 'truckroute', 'undivide_1', 'undividedl', 'urbanizeda',\n",
       "       'urbantype', 'naccidents', 'newstreetn'],\n",
       "      dtype='object')"
      ]
     },
     "execution_count": 17,
     "metadata": {},
     "output_type": "execute_result"
    }
   ],
   "source": [
    "pdinv.table.columns"
   ]
  },
  {
   "cell_type": "code",
   "execution_count": 2,
   "metadata": {
    "collapsed": false,
    "scrolled": true
   },
   "outputs": [],
   "source": [
    "# This cell loads in a table of requrements I collated.\n",
    "pathtoreqs = '/home/louisf/Documents/Insight/massdriver/docs/road_inventory_params.csv'\n",
    "reqs = pd.read_csv(pathtoreqs, delimiter = '^')"
   ]
  },
  {
   "cell_type": "code",
   "execution_count": 3,
   "metadata": {
    "collapsed": false,
    "scrolled": false
   },
   "outputs": [],
   "source": [
    "# I now go over each variable in the table and summarize it. \n",
    "\n",
    "coldesc = {}\n",
    "\n",
    "for col in pdinv.table.columns:\n",
    "    coldesc[col] = {'type':str(pdinv.table.dtypes[col]), \n",
    "                    'uniques':pdinv.table[col].unique()\n",
    "                   }"
   ]
  },
  {
   "cell_type": "code",
   "execution_count": 50,
   "metadata": {
    "collapsed": false,
    "scrolled": false
   },
   "outputs": [
    {
     "name": "stdout",
     "output_type": "stream",
     "text": [
      "variable : assigned_1, null values: 0\n",
      "All values within reasonable range: True\n",
      "variable : assignedle, null values: 0\n",
      "variable : city, null values: 0\n",
      "All values within reasonable range: True\n",
      "variable : county, null values: 0\n",
      "All values within reasonable range: True\n",
      "variable : crn, null values: 0\n",
      "variable : dateactive, null values: 0\n",
      "variable : fromcity, null values: 0\n",
      "All values within reasonable range: False\n",
      "variable : fromendtyp, null values: 0\n",
      "All values within reasonable range: False\n",
      "variable : frommeasur, null values: 0\n",
      "variable : item_id, null values: 0\n",
      "variable : leftshou_1, null values: 0\n",
      "variable : lifecycles, null values: 0\n",
      "All values within reasonable range: True\n",
      "variable : massdothig, null values: 0\n",
      "All values within reasonable range: True\n",
      "variable : mileagecou, null values: 0\n",
      "All values within reasonable range: True\n",
      "variable : mpo, null values: 0\n",
      "variable : municipals, null values: 0\n",
      "All values within reasonable range: True\n",
      "variable : roadinvent, null values: 0\n",
      "variable : roadsegmen, null values: 0\n",
      "variable : routesyste, null values: 183337\n",
      "variable : rpa, null values: 0\n",
      "variable : streetlist, null values: 0\n",
      "variable : streetname, null values: 0\n",
      "variable : terrain, null values: 0\n",
      "All values within reasonable range: True\n",
      "variable : tomeasure, null values: 0\n",
      "variable : undivide_1, null values: 0\n",
      "variable : undividedl, null values: 0\n",
      "All values within reasonable range: True\n",
      "variable : urbantype, null values: 0\n",
      "All values within reasonable range: False\n"
     ]
    }
   ],
   "source": [
    "it = 0\n",
    "for row in reqs.iterrows():\n",
    "    if it == 0:\n",
    "        it += 1\n",
    "        continue\n",
    "    a = row[1]\n",
    "    varname = a['Variable']\n",
    "    vartype = a['Data type']\n",
    "    t = pdinv.table[varname]\n",
    "    if a['Required'] == 'yes':\n",
    "        vals = pdinv.table[varname]\n",
    "        print('variable : ' + varname + ', null values: ' + str(sum(pd.isnull(vals))))\n",
    "        if pd.notnull(a['Reasonable range']):\n",
    "            s = a['Reasonable range'].split('-')\n",
    "            if s[0] in string.ascii_letters:\n",
    "                rlower = s[0]\n",
    "                rupper = s[1]\n",
    "                r = string.ascii_letters\n",
    "            else:\n",
    "                rlower = int(s[0])\n",
    "                rupper = int(s[1])\n",
    "                r = range(rlower, rupper + 1)\n",
    "            \n",
    "            print('All values within reasonable range: ' + str(vals.all() in r))\n",
    "    it+=1\n",
    "    \n",
    "    \n",
    "    \n",
    "    \n",
    "# Based on my analysis so far, I should be dropping routesyste and the old streetname variables from consideration."
   ]
  },
  {
   "cell_type": "code",
   "execution_count": 62,
   "metadata": {
    "collapsed": false,
    "scrolled": true
   },
   "outputs": [
    {
     "data": {
      "text/plain": [
       "6"
      ]
     },
     "execution_count": 62,
     "metadata": {},
     "output_type": "execute_result"
    }
   ],
   "source": [
    "np.max(pdinv.table['fromendtyp'])"
   ]
  },
  {
   "cell_type": "code",
   "execution_count": 45,
   "metadata": {
    "collapsed": false,
    "scrolled": true
   },
   "outputs": [
    {
     "data": {
      "text/plain": [
       "'ABCDEFGHIJKLMNOPQRSTUVWXYZ'"
      ]
     },
     "execution_count": 45,
     "metadata": {},
     "output_type": "execute_result"
    }
   ],
   "source": [
    "string.ascii_uppercase"
   ]
  },
  {
   "cell_type": "code",
   "execution_count": 28,
   "metadata": {
    "collapsed": false
   },
   "outputs": [
    {
     "name": "stdout",
     "output_type": "stream",
     "text": [
      "0\n",
      "2\n",
      "range(0, 3)\n"
     ]
    }
   ],
   "source": [
    "s = a['Reasonable range'].split('-')\n",
    "rlower = int(s[0])\n",
    "print(rlower)\n",
    "rupper = int(s[1])\n",
    "print(rupper)\n",
    "print(range(rlower, rupper+1))"
   ]
  }
 ],
 "metadata": {
  "kernelspec": {
   "display_name": "Python 3",
   "language": "python",
   "name": "python3"
  },
  "language_info": {
   "codemirror_mode": {
    "name": "ipython",
    "version": 3
   },
   "file_extension": ".py",
   "mimetype": "text/x-python",
   "name": "python",
   "nbconvert_exporter": "python",
   "pygments_lexer": "ipython3",
   "version": "3.5.3"
  }
 },
 "nbformat": 4,
 "nbformat_minor": 0
}
