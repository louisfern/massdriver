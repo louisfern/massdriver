{
 "cells": [
  {
   "cell_type": "code",
   "execution_count": null,
   "metadata": {
    "collapsed": false
   },
   "outputs": [],
   "source": [
    "from osgeo import ogr, osr\n",
    "import networkx as nx\n",
    "from matplotlib import pyplot as plt\n",
    "%matplotlib inline\n",
    "\n",
    "driver = ogr.GetDriverByName('ESRI Shapefile')\n",
    "filepath = '/home/louisf/Documents/Insight/massdriver/data/raw/shapefile/RI_converted.shp'\n",
    "dataset = driver.Open(filepath)\n",
    "\n",
    "# from Layer\n",
    "layer = dataset.GetLayer()\n",
    "spatialRef = layer.GetSpatialRef()\n",
    "# from Geometry\n",
    "feature = layer.GetNextFeature()\n",
    "geom = feature.GetGeometryRef()\n",
    "spatialRef = geom.GetSpatialReference()\n",
    "\n",
    "shp = ogr.Open(filepath)"
   ]
  },
  {
   "cell_type": "code",
   "execution_count": null,
   "metadata": {
    "collapsed": false
   },
   "outputs": [],
   "source": [
    "g = read_shp2(filepath, ['RoadSegmen', 'AssignedLe'], simplify=True)"
   ]
  },
  {
   "cell_type": "code",
   "execution_count": null,
   "metadata": {
    "collapsed": false,
    "scrolled": true
   },
   "outputs": [],
   "source": [
    "first = g.edges()[0]\n",
    "g.edge[(-71.10891187098966, 42.474431813774984)][(-71.10750084168293, 42.47446692343721)]['AssignedLe']"
   ]
  },
  {
   "cell_type": "code",
   "execution_count": null,
   "metadata": {
    "collapsed": false
   },
   "outputs": [],
   "source": [
    "g2 = g\n",
    "nx.convert_node_labels_to_integers(g, label_attribute=\"oldLabels\")"
   ]
  },
  {
   "cell_type": "code",
   "execution_count": null,
   "metadata": {
    "collapsed": false,
    "scrolled": true
   },
   "outputs": [],
   "source": [
    "g.node"
   ]
  },
  {
   "cell_type": "code",
   "execution_count": null,
   "metadata": {
    "collapsed": false,
    "scrolled": true
   },
   "outputs": [],
   "source": [
    "it = 0\n",
    "for n in g.nodes_iter():\n",
    "    it+=1\n",
    "    if (it%100 == 0):\n",
    "        print(n)"
   ]
  },
  {
   "cell_type": "code",
   "execution_count": null,
   "metadata": {
    "collapsed": false
   },
   "outputs": [],
   "source": [
    "def read_shp2(path, fields, simplify=True):\n",
    "    \"\"\"Generates a networkx.Graph from shapefiles. Point geometries are\n",
    "    translated into nodes, lines into edges. Coordinate tuples are used as\n",
    "    keys. Attributes are preserved, line geometries are simplified into start\n",
    "    and end coordinates. Accepts a single shapefile or directory of many\n",
    "    shapefiles.\n",
    "\n",
    "    \"The Esri Shapefile or simply a shapefile is a popular geospatial vector\n",
    "    data format for geographic information systems software [1]_.\"\n",
    "\n",
    "    Parameters\n",
    "    ----------\n",
    "    path : file or string\n",
    "       File, directory, or filename to read.\n",
    "    \n",
    "    fields: list\n",
    "       A list of fields to pass on to the graph edges. \n",
    "\n",
    "    simplify:  bool\n",
    "        If ``True``, simplify line geometries to start and end coordinates.\n",
    "        If ``False``, and line feature geometry has multiple segments, the \n",
    "        non-geometric attributes for that feature will be repeated for each \n",
    "        edge comprising that feature.\n",
    "\n",
    "    Returns\n",
    "    -------\n",
    "    G : NetworkX graph\n",
    "\n",
    "    Examples\n",
    "    --------\n",
    "    >>> G=nx.read_shp('test.shp') # doctest: +SKIP\n",
    "\n",
    "    References\n",
    "    ----------\n",
    "    .. [1] http://en.wikipedia.org/wiki/Shapefile\n",
    "    \"\"\"\n",
    "    try:\n",
    "        from osgeo import ogr\n",
    "    except ImportError:\n",
    "        raise ImportError(\"read_shp requires OGR: http://www.gdal.org/\")\n",
    "\n",
    "    if not isinstance(path, str):\n",
    "        return\n",
    "\n",
    "    net = nx.Graph()\n",
    "    shp = ogr.Open(path)\n",
    "    for lyr in shp:\n",
    "        # fields = [x.GetName() for x in lyr.schema]\n",
    "        layerit = 0\n",
    "        nbad = 0\n",
    "        ngood = 0\n",
    "        for f in lyr:\n",
    "            layerit += 1\n",
    "            flddata = [f.GetField(f.GetFieldIndex(x)) for x in fields]\n",
    "            g = f.geometry()\n",
    "            if g is None:\n",
    "                print('g is None, layer iteration: {0}'.format(str(layerit)))\n",
    "                nbad += 1\n",
    "                continue\n",
    "            attributes = dict(zip(fields, flddata))\n",
    "            attributes[\"ShpName\"] = lyr.GetName()\n",
    "            if g.GetGeometryType() == 1:  # point\n",
    "                net.add_node((g.GetPoint_2D(0)), attributes)\n",
    "            if g.GetGeometryType() == 2:  # linestring\n",
    "                last = g.GetPointCount() - 1\n",
    "                if simplify:\n",
    "                    attributes[\"Wkb\"] = g.ExportToWkb()\n",
    "                    attributes[\"Wkt\"] = g.ExportToWkt()\n",
    "                    attributes[\"Json\"] = g.ExportToJson()\n",
    "                    net.add_edge(g.GetPoint_2D(0), g.GetPoint_2D(last), attributes)\n",
    "                else:\n",
    "                    # separate out each segment as individual edge\n",
    "                    for i in range(last):\n",
    "                        pt1 = g.GetPoint_2D(i)\n",
    "                        pt2 = g.GetPoint_2D(i + 1)\n",
    "                        segment = ogr.Geometry(ogr.wkbLineString)\n",
    "                        segment.AddPoint_2D(pt1[0], pt1[1])\n",
    "                        segment.AddPoint_2D(pt2[0], pt2[1])\n",
    "                        attributes[\"Wkb\"] = segment.ExportToWkb()\n",
    "                        attributes[\"Wkt\"] = segment.ExportToWkt()\n",
    "                        attributes[\"Json\"] = segment.ExportToJson()\n",
    "                        del segment\n",
    "                        net.add_edge(pt1, pt2, attributes)\n",
    "            ngood += 1\n",
    "        print('good = {0}, bad = {1}'.format(str(ngood), str(nbad)))\n",
    "    return net"
   ]
  },
  {
   "cell_type": "code",
   "execution_count": null,
   "metadata": {
    "collapsed": false
   },
   "outputs": [],
   "source": [
    "g.to_undirected()"
   ]
  },
  {
   "cell_type": "code",
   "execution_count": null,
   "metadata": {
    "collapsed": false
   },
   "outputs": [],
   "source": [
    "n = g.nodes()\n",
    "\n",
    "p = nx.shortest_path(g, source=n[0], target = n[3])\n",
    "len(p)"
   ]
  },
  {
   "cell_type": "code",
   "execution_count": null,
   "metadata": {
    "collapsed": false,
    "scrolled": true
   },
   "outputs": [],
   "source": [
    "import networkx as nx\n",
    "G = nx.complete_graph(5)\n",
    "from networkx.drawing.nx_agraph import graphviz_layout\n",
    "pos = graphviz_layout(G)\n",
    "nx.draw(G, pos)"
   ]
  },
  {
   "cell_type": "code",
   "execution_count": null,
   "metadata": {
    "collapsed": false,
    "scrolled": true
   },
   "outputs": [],
   "source": [
    "help(nx.Graph.add_edge)"
   ]
  },
  {
   "cell_type": "code",
   "execution_count": null,
   "metadata": {
    "collapsed": true
   },
   "outputs": [],
   "source": []
  },
  {
   "cell_type": "code",
   "execution_count": null,
   "metadata": {
    "collapsed": true
   },
   "outputs": [],
   "source": [
    "import matplotlib.pyplot as plt\n",
    "from mpl_toolkits.basemap import Basemap\n",
    "from matplotlib.patches import Polygon"
   ]
  },
  {
   "cell_type": "code",
   "execution_count": null,
   "metadata": {
    "collapsed": false
   },
   "outputs": [
    {
     "name": "stdout",
     "output_type": "stream",
     "text": [
      "g is None, layer iteration: 7508\n",
      "g is None, layer iteration: 8378\n",
      "g is None, layer iteration: 8843\n",
      "g is None, layer iteration: 10532\n",
      "g is None, layer iteration: 33857\n",
      "g is None, layer iteration: 36465\n",
      "g is None, layer iteration: 95844\n",
      "g is None, layer iteration: 101579\n",
      "g is None, layer iteration: 101660\n",
      "g is None, layer iteration: 102926\n",
      "g is None, layer iteration: 106601\n",
      "g is None, layer iteration: 130559\n",
      "g is None, layer iteration: 131374\n",
      "g is None, layer iteration: 131414\n"
     ]
    }
   ],
   "source": [
    "import graphHandler as gh\n",
    "\n",
    "graph = gh.NetworkGenerator()\n",
    "filepath = '/home/louisf/Documents/Insight/massdriver/data/raw/shapefile/RI_converted.shp'\n",
    "graph.loadGraph(filepath=filepath, fields=['RoadSegmen', 'AssignedLe'], simplify=False)"
   ]
  },
  {
   "cell_type": "code",
   "execution_count": 6,
   "metadata": {
    "collapsed": false
   },
   "outputs": [
    {
     "data": {
      "text/plain": [
       "<networkx.classes.graph.Graph at 0x7fe51ca56860>"
      ]
     },
     "execution_count": 6,
     "metadata": {},
     "output_type": "execute_result"
    }
   ],
   "source": [
    "graph.net"
   ]
  }
 ],
 "metadata": {
  "kernelspec": {
   "display_name": "Python 3",
   "language": "python",
   "name": "python3"
  },
  "language_info": {
   "codemirror_mode": {
    "name": "ipython",
    "version": 3
   },
   "file_extension": ".py",
   "mimetype": "text/x-python",
   "name": "python",
   "nbconvert_exporter": "python",
   "pygments_lexer": "ipython3",
   "version": "3.5.1"
  }
 },
 "nbformat": 4,
 "nbformat_minor": 0
}
