{
 "cells": [
  {
   "cell_type": "code",
   "execution_count": 1,
   "metadata": {
    "collapsed": false
   },
   "outputs": [],
   "source": [
    "from osgeo import ogr, osr\n",
    "import networkx as nx\n",
    "from matplotlib import pyplot as plt\n",
    "%matplotlib inline\n",
    "\n",
    "driver = ogr.GetDriverByName('ESRI Shapefile')\n",
    "filepath = '/home/louisf/Documents/Insight/massdriver/data/raw/shapefile/RI_converted.shp'\n",
    "dataset = driver.Open(filepath)\n",
    "\n",
    "# from Layer\n",
    "layer = dataset.GetLayer()\n",
    "spatialRef = layer.GetSpatialRef()\n",
    "# from Geometry\n",
    "feature = layer.GetNextFeature()\n",
    "geom = feature.GetGeometryRef()\n",
    "spatialRef = geom.GetSpatialReference()\n",
    "\n",
    "net = nx.DiGraph()\n",
    "shp = ogr.Open(filepath)"
   ]
  },
  {
   "cell_type": "code",
   "execution_count": null,
   "metadata": {
    "collapsed": false
   },
   "outputs": [],
   "source": [
    "for lyr in shp:\n",
    "    fields = [x.GetName() for x in lyr.schema]\n",
    "    for f in lyr:\n",
    "        flddata = [f.GetField(f.GetFieldIndex(x)) for x in fields]\n",
    "        g = f.geometry()\n",
    "        break"
   ]
  },
  {
   "cell_type": "code",
   "execution_count": 22,
   "metadata": {
    "collapsed": false,
    "scrolled": true
   },
   "outputs": [
    {
     "name": "stdout",
     "output_type": "stream",
     "text": [
      "g is None, layer iteration: 7508\n",
      "g is None, layer iteration: 8378\n",
      "g is None, layer iteration: 8843\n",
      "g is None, layer iteration: 10532\n",
      "g is None, layer iteration: 33857\n",
      "g is None, layer iteration: 36465\n",
      "g is None, layer iteration: 95844\n",
      "g is None, layer iteration: 101579\n",
      "g is None, layer iteration: 101660\n",
      "g is None, layer iteration: 102926\n",
      "g is None, layer iteration: 106601\n",
      "g is None, layer iteration: 130559\n",
      "g is None, layer iteration: 131374\n",
      "g is None, layer iteration: 131414\n",
      "g is None, layer iteration: 142744\n",
      "g is None, layer iteration: 148598\n",
      "g is None, layer iteration: 168632\n",
      "g is None, layer iteration: 207458\n",
      "g is None, layer iteration: 246274\n",
      "g is None, layer iteration: 300517\n",
      "g is None, layer iteration: 357943\n",
      "g is None, layer iteration: 388285\n",
      "g is None, layer iteration: 388408\n",
      "g is None, layer iteration: 388464\n",
      "g is None, layer iteration: 390572\n",
      "g is None, layer iteration: 399274\n",
      "g is None, layer iteration: 417568\n",
      "g is None, layer iteration: 434842\n",
      "g is None, layer iteration: 458586\n",
      "g is None, layer iteration: 459510\n",
      "good = 481430, bad = 30\n"
     ]
    }
   ],
   "source": [
    "g = read_shp2(filepath, ['RoadSegmen', 'AssignedLe'])"
   ]
  },
  {
   "cell_type": "code",
   "execution_count": 23,
   "metadata": {
    "collapsed": false
   },
   "outputs": [
    {
     "data": {
      "text/plain": [
       "378740"
      ]
     },
     "execution_count": 23,
     "metadata": {},
     "output_type": "execute_result"
    }
   ],
   "source": [
    "g.number_of_nodes()"
   ]
  },
  {
   "cell_type": "code",
   "execution_count": 5,
   "metadata": {
    "collapsed": false
   },
   "outputs": [],
   "source": [
    "def read_shp2(path, fields, simplify=True):\n",
    "    \"\"\"Generates a networkx.Graph from shapefiles. Point geometries are\n",
    "    translated into nodes, lines into edges. Coordinate tuples are used as\n",
    "    keys. Attributes are preserved, line geometries are simplified into start\n",
    "    and end coordinates. Accepts a single shapefile or directory of many\n",
    "    shapefiles.\n",
    "\n",
    "    \"The Esri Shapefile or simply a shapefile is a popular geospatial vector\n",
    "    data format for geographic information systems software [1]_.\"\n",
    "\n",
    "    Parameters\n",
    "    ----------\n",
    "    path : file or string\n",
    "       File, directory, or filename to read.\n",
    "    \n",
    "    fields: list\n",
    "       A list of fields to pass on to the graph edges. \n",
    "\n",
    "    simplify:  bool\n",
    "        If ``True``, simplify line geometries to start and end coordinates.\n",
    "        If ``False``, and line feature geometry has multiple segments, the \n",
    "        non-geometric attributes for that feature will be repeated for each \n",
    "        edge comprising that feature.\n",
    "\n",
    "    Returns\n",
    "    -------\n",
    "    G : NetworkX graph\n",
    "\n",
    "    Examples\n",
    "    --------\n",
    "    >>> G=nx.read_shp('test.shp') # doctest: +SKIP\n",
    "\n",
    "    References\n",
    "    ----------\n",
    "    .. [1] http://en.wikipedia.org/wiki/Shapefile\n",
    "    \"\"\"\n",
    "    try:\n",
    "        from osgeo import ogr\n",
    "    except ImportError:\n",
    "        raise ImportError(\"read_shp requires OGR: http://www.gdal.org/\")\n",
    "\n",
    "    if not isinstance(path, str):\n",
    "        return\n",
    "\n",
    "    net = nx.Graph()\n",
    "    shp = ogr.Open(path)\n",
    "    for lyr in shp:\n",
    "        # fields = [x.GetName() for x in lyr.schema]\n",
    "        layerit = 0\n",
    "        nbad = 0\n",
    "        ngood = 0\n",
    "        for f in lyr:\n",
    "            layerit += 1\n",
    "            flddata = [f.GetField(f.GetFieldIndex(x)) for x in fields]\n",
    "            g = f.geometry()\n",
    "            if g is None:\n",
    "                print('g is None, layer iteration: {0}'.format(str(layerit)))\n",
    "                nbad += 1\n",
    "                continue\n",
    "            attributes = dict(zip(fields, flddata))\n",
    "            attributes[\"ShpName\"] = lyr.GetName()\n",
    "            if g.GetGeometryType() == 1:  # point\n",
    "                net.add_node((g.GetPoint_2D(0)), attributes)\n",
    "            if g.GetGeometryType() == 2:  # linestring\n",
    "                last = g.GetPointCount() - 1\n",
    "                if simplify:\n",
    "                    attributes[\"Wkb\"] = g.ExportToWkb()\n",
    "                    attributes[\"Wkt\"] = g.ExportToWkt()\n",
    "                    attributes[\"Json\"] = g.ExportToJson()\n",
    "                    net.add_edge(g.GetPoint_2D(0), g.GetPoint_2D(last), attributes)\n",
    "                else:\n",
    "                    # separate out each segment as individual edge\n",
    "                    for i in range(last):\n",
    "                        pt1 = g.GetPoint_2D(i)\n",
    "                        pt2 = g.GetPoint_2D(i + 1)\n",
    "                        segment = ogr.Geometry(ogr.wkbLineString)\n",
    "                        segment.AddPoint_2D(pt1[0], pt1[1])\n",
    "                        segment.AddPoint_2D(pt2[0], pt2[1])\n",
    "                        attributes[\"Wkb\"] = segment.ExportToWkb()\n",
    "                        attributes[\"Wkt\"] = segment.ExportToWkt()\n",
    "                        attributes[\"Json\"] = segment.ExportToJson()\n",
    "                        del segment\n",
    "                        net.add_edge(pt1, pt2, attributes)\n",
    "            ngood += 1\n",
    "        print('good = {0}, bad = {1}'.format(str(ngood), str(nbad)))\n",
    "    return net"
   ]
  },
  {
   "cell_type": "code",
   "execution_count": 4,
   "metadata": {
    "collapsed": false
   },
   "outputs": [
    {
     "data": {
      "text/plain": [
       "<networkx.classes.graph.Graph at 0x7fa9d4581160>"
      ]
     },
     "execution_count": 4,
     "metadata": {},
     "output_type": "execute_result"
    }
   ],
   "source": [
    "g.to_undirected()"
   ]
  },
  {
   "cell_type": "code",
   "execution_count": 25,
   "metadata": {
    "collapsed": false
   },
   "outputs": [
    {
     "data": {
      "text/plain": [
       "57"
      ]
     },
     "execution_count": 25,
     "metadata": {},
     "output_type": "execute_result"
    }
   ],
   "source": [
    "n = g.nodes()\n",
    "\n",
    "p = nx.shortest_path(g, source=n[0], target = n[3])\n",
    "len(p)"
   ]
  },
  {
   "cell_type": "code",
   "execution_count": null,
   "metadata": {
    "collapsed": false,
    "scrolled": true
   },
   "outputs": [],
   "source": [
    "import networkx as nx\n",
    "G = nx.complete_graph(5)\n",
    "from networkx.drawing.nx_agraph import graphviz_layout\n",
    "pos = graphviz_layout(G)\n",
    "nx.draw(G, pos)"
   ]
  },
  {
   "cell_type": "code",
   "execution_count": 21,
   "metadata": {
    "collapsed": false,
    "scrolled": true
   },
   "outputs": [
    {
     "name": "stdout",
     "output_type": "stream",
     "text": [
      "Help on function shortest_path in module networkx.algorithms.shortest_paths.generic:\n",
      "\n",
      "shortest_path(G, source=None, target=None, weight=None)\n",
      "    Compute shortest paths in the graph.\n",
      "    \n",
      "    Parameters\n",
      "    ----------\n",
      "    G : NetworkX graph\n",
      "    \n",
      "    source : node, optional\n",
      "        Starting node for path.\n",
      "        If not specified, compute shortest paths using all nodes as source nodes.\n",
      "    \n",
      "    target : node, optional\n",
      "        Ending node for path.\n",
      "        If not specified, compute shortest paths using all nodes as target nodes.\n",
      "    \n",
      "    weight : None or string, optional (default = None)\n",
      "        If None, every edge has weight/distance/cost 1.\n",
      "        If a string, use this edge attribute as the edge weight.\n",
      "        Any edge attribute not present defaults to 1.\n",
      "    \n",
      "    Returns\n",
      "    -------\n",
      "    path: list or dictionary\n",
      "        All returned paths include both the source and target in the path.\n",
      "    \n",
      "        If the source and target are both specified, return a single list\n",
      "        of nodes in a shortest path from the source to the target.\n",
      "    \n",
      "        If only the source is specified, return a dictionary keyed by\n",
      "        targets with a list of nodes in a shortest path from the source\n",
      "        to one of the targets.\n",
      "    \n",
      "        If only the target is specified, return a dictionary keyed by\n",
      "        sources with a list of nodes in a shortest path from one of the\n",
      "        sources to the target.\n",
      "    \n",
      "        If neither the source nor target are specified return a dictionary\n",
      "        of dictionaries with path[source][target]=[list of nodes in path].\n",
      "    \n",
      "    Examples\n",
      "    --------\n",
      "    >>> G=nx.path_graph(5)\n",
      "    >>> print(nx.shortest_path(G,source=0,target=4))\n",
      "    [0, 1, 2, 3, 4]\n",
      "    >>> p=nx.shortest_path(G,source=0) # target not specified\n",
      "    >>> p[4]\n",
      "    [0, 1, 2, 3, 4]\n",
      "    >>> p=nx.shortest_path(G,target=4) # source not specified\n",
      "    >>> p[0]\n",
      "    [0, 1, 2, 3, 4]\n",
      "    >>> p=nx.shortest_path(G) # source,target not specified\n",
      "    >>> p[0][4]\n",
      "    [0, 1, 2, 3, 4]\n",
      "    \n",
      "    Notes\n",
      "    -----\n",
      "    There may be more than one shortest path between a source and target.\n",
      "    This returns only one of them.\n",
      "    \n",
      "    See Also\n",
      "    --------\n",
      "    all_pairs_shortest_path()\n",
      "    all_pairs_dijkstra_path()\n",
      "    single_source_shortest_path()\n",
      "    single_source_dijkstra_path()\n",
      "\n"
     ]
    }
   ],
   "source": [
    "help(nx.shortest_path)"
   ]
  },
  {
   "cell_type": "code",
   "execution_count": null,
   "metadata": {
    "collapsed": true
   },
   "outputs": [],
   "source": []
  },
  {
   "cell_type": "code",
   "execution_count": null,
   "metadata": {
    "collapsed": true
   },
   "outputs": [],
   "source": [
    "import matplotlib.pyplot as plt\n",
    "from mpl_toolkits.basemap import Basemap\n",
    "from matplotlib.patches import Polygon"
   ]
  },
  {
   "cell_type": "code",
   "execution_count": null,
   "metadata": {
    "collapsed": false
   },
   "outputs": [],
   "source": []
  }
 ],
 "metadata": {
  "kernelspec": {
   "display_name": "Python 3",
   "language": "python",
   "name": "python3"
  },
  "language_info": {
   "codemirror_mode": {
    "name": "ipython",
    "version": 3
   },
   "file_extension": ".py",
   "mimetype": "text/x-python",
   "name": "python",
   "nbconvert_exporter": "python",
   "pygments_lexer": "ipython3",
   "version": "3.5.1"
  }
 },
 "nbformat": 4,
 "nbformat_minor": 0
}
