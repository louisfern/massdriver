{
 "cells": [
  {
   "cell_type": "code",
   "execution_count": null,
   "metadata": {
    "collapsed": false
   },
   "outputs": [],
   "source": [
    "from osgeo import ogr, osr\n",
    "import networkx as nx\n",
    "from matplotlib import pyplot as plt\n",
    "%matplotlib inline\n",
    "\n",
    "driver = ogr.GetDriverByName('ESRI Shapefile')\n",
    "filepath = '/home/louisf/Documents/Insight/massdriver/data/raw/shapefile/RI_converted.shp'\n",
    "dataset = driver.Open(filepath)\n",
    "\n",
    "# from Layer\n",
    "layer = dataset.GetLayer()\n",
    "spatialRef = layer.GetSpatialRef()\n",
    "# from Geometry\n",
    "feature = layer.GetNextFeature()\n",
    "geom = feature.GetGeometryRef()\n",
    "spatialRef = geom.GetSpatialReference()\n",
    "\n",
    "shp = ogr.Open(filepath)"
   ]
  },
  {
   "cell_type": "code",
   "execution_count": null,
   "metadata": {
    "collapsed": false
   },
   "outputs": [],
   "source": [
    "g = read_shp2(filepath, ['RoadSegmen', 'AssignedLe'], simplify=True)"
   ]
  },
  {
   "cell_type": "code",
   "execution_count": null,
   "metadata": {
    "collapsed": false,
    "scrolled": true
   },
   "outputs": [],
   "source": [
    "first = g.edges()[0]\n",
    "g.edge[(-71.10891187098966, 42.474431813774984)][(-71.10750084168293, 42.47446692343721)]['AssignedLe']"
   ]
  },
  {
   "cell_type": "code",
   "execution_count": null,
   "metadata": {
    "collapsed": false
   },
   "outputs": [],
   "source": [
    "g2 = g\n",
    "nx.convert_node_labels_to_integers(g, label_attribute=\"oldLabels\")"
   ]
  },
  {
   "cell_type": "code",
   "execution_count": null,
   "metadata": {
    "collapsed": false,
    "scrolled": true
   },
   "outputs": [],
   "source": [
    "g.node"
   ]
  },
  {
   "cell_type": "code",
   "execution_count": null,
   "metadata": {
    "collapsed": false,
    "scrolled": true
   },
   "outputs": [],
   "source": [
    "it = 0\n",
    "for n in g.nodes_iter():\n",
    "    it+=1\n",
    "    if (it%100 == 0):\n",
    "        print(n)"
   ]
  },
  {
   "cell_type": "code",
   "execution_count": null,
   "metadata": {
    "collapsed": false
   },
   "outputs": [],
   "source": [
    "n = g.nodes()\n",
    "\n",
    "p = nx.shortest_path(g, source=n[0], target = n[3])\n",
    "len(p)"
   ]
  },
  {
   "cell_type": "code",
   "execution_count": null,
   "metadata": {
    "collapsed": false,
    "scrolled": true
   },
   "outputs": [],
   "source": [
    "import numpy as np\n",
    "import scipy.spatial.distance as distance"
   ]
  },
  {
   "cell_type": "code",
   "execution_count": null,
   "metadata": {
    "collapsed": false,
    "scrolled": true
   },
   "outputs": [],
   "source": [
    "it=0\n",
    "lat = 42.198\n",
    "long = -70.9987\n",
    "ar = np.empty((0, int(graph.net.number_of_nodes())))\n",
    "it = 0 \n",
    "for longitude, latitude in graph.net.nodes_iter():\n",
    "    ar = np.append(ar, [[longitude, latitude]], axis=0)\n",
    "    it+=1"
   ]
  },
  {
   "cell_type": "code",
   "execution_count": null,
   "metadata": {
    "collapsed": false
   },
   "outputs": [],
   "source": [
    "graph.net.number_of_nodes()"
   ]
  },
  {
   "cell_type": "code",
   "execution_count": null,
   "metadata": {
    "collapsed": false
   },
   "outputs": [],
   "source": [
    "from scipy.spatial.distance import cdist\n",
    "a = np.array([[long, lat]])\n",
    "others = np.asarray(graph.net.nodes())\n",
    "def closest_point(pt, others):\n",
    "    distances = cdist(pt, others)\n",
    "    return distances.argmin()\n",
    "closest_point(a, others)"
   ]
  },
  {
   "cell_type": "code",
   "execution_count": null,
   "metadata": {
    "collapsed": false
   },
   "outputs": [],
   "source": [
    "np.asarray(others)"
   ]
  },
  {
   "cell_type": "code",
   "execution_count": null,
   "metadata": {
    "collapsed": true
   },
   "outputs": [],
   "source": [
    "import matplotlib.pyplot as plt\n",
    "from mpl_toolkits.basemap import Basemap\n",
    "from matplotlib.patches import Polygon"
   ]
  },
  {
   "cell_type": "code",
   "execution_count": 9,
   "metadata": {
    "collapsed": false
   },
   "outputs": [
    {
     "name": "stdout",
     "output_type": "stream",
     "text": [
      "good = 481430, bad = 30\n"
     ]
    }
   ],
   "source": [
    "import graphHandler as gh\n",
    "\n",
    "\n",
    "graph = gh.NetworkGenerator()\n",
    "filepath = '/home/louisf/Documents/Insight/massdriver/data/raw/shapefile/RI_converted.shp'\n",
    "graph.loadGraph(filepath=filepath, fields=['RoadSegmen', 'AssignedLe'], simplify=True)"
   ]
  },
  {
   "cell_type": "code",
   "execution_count": null,
   "metadata": {
    "collapsed": false
   },
   "outputs": [],
   "source": [
    "lat1 = 42.198\n",
    "long1 = -70.9987\n",
    "start = gh.findClosestNode(graph.net, lat1, long1)\n",
    "end = gh.findClosestNode(graph.net, lat1+.035, long1+.006)"
   ]
  },
  {
   "cell_type": "code",
   "execution_count": null,
   "metadata": {
    "collapsed": false
   },
   "outputs": [],
   "source": [
    "path = gh.getShortestPath(graph.net, tuple(start), tuple(end))"
   ]
  },
  {
   "cell_type": "code",
   "execution_count": 12,
   "metadata": {
    "collapsed": false,
    "scrolled": true
   },
   "outputs": [],
   "source": [
    "import pickle\n",
    "\n",
    "\n",
    "with open('graph.pickle', 'wb') as f:\n",
    "    # Pickle the 'data' dictionary using the highest protocol available.\n",
    "    pickle.dump(graph, f, pickle.HIGHEST_PROTOCOL)"
   ]
  },
  {
   "cell_type": "code",
   "execution_count": 10,
   "metadata": {
    "collapsed": false
   },
   "outputs": [],
   "source": [
    "b=np.asarray(path)"
   ]
  },
  {
   "cell_type": "code",
   "execution_count": 20,
   "metadata": {
    "collapsed": false,
    "scrolled": true
   },
   "outputs": [
    {
     "data": {
      "text/plain": [
       "array([[-70.99964396,  42.19817125],\n",
       "       [-70.99840391,  42.20040019],\n",
       "       [-70.99829501,  42.203383  ],\n",
       "       [-70.99940306,  42.20490686],\n",
       "       [-70.99954596,  42.20512096],\n",
       "       [-71.00001868,  42.20875155],\n",
       "       [-71.000001  ,  42.209043  ],\n",
       "       [-70.999594  ,  42.20916   ],\n",
       "       [-70.99720812,  42.20939783],\n",
       "       [-70.997105  ,  42.209316  ],\n",
       "       [-70.99539973,  42.20974868],\n",
       "       [-70.99288439,  42.20589615],\n",
       "       [-70.98740088,  42.20401209],\n",
       "       [-70.97169757,  42.2000219 ],\n",
       "       [-70.95972   ,  42.19597   ],\n",
       "       [-70.95621563,  42.19480093],\n",
       "       [-70.95171   ,  42.19362   ],\n",
       "       [-70.92113514,  42.18255656],\n",
       "       [-70.91945706,  42.18157   ],\n",
       "       [-70.91461577,  42.18016684],\n",
       "       [-70.9128501 ,  42.17966056],\n",
       "       [-70.91232059,  42.17979627],\n",
       "       [-70.90902505,  42.17934273],\n",
       "       [-70.90909885,  42.18016067],\n",
       "       [-70.9073533 ,  42.18028165],\n",
       "       [-70.90624709,  42.18035639],\n",
       "       [-70.90551   ,  42.18041483],\n",
       "       [-70.9034096 ,  42.18054143],\n",
       "       [-70.90037924,  42.18063817],\n",
       "       [-70.90012813,  42.18099192],\n",
       "       [-70.88974473,  42.18684726],\n",
       "       [-70.88293651,  42.18828757],\n",
       "       [-70.88287323,  42.18868993],\n",
       "       [-70.88271813,  42.18958324],\n",
       "       [-70.88253473,  42.19064183],\n",
       "       [-70.87856478,  42.1907425 ],\n",
       "       [-70.87453286,  42.19146729],\n",
       "       [-70.8704774 ,  42.19146313],\n",
       "       [-70.86817465,  42.19153767],\n",
       "       [-70.8689308 ,  42.19362667],\n",
       "       [-70.86911054,  42.19571643],\n",
       "       [-70.86899473,  42.1998455 ],\n",
       "       [-70.86903403,  42.20242933],\n",
       "       [-70.86919264,  42.20305965],\n",
       "       [-70.86601776,  42.20417544],\n",
       "       [-70.8635821 ,  42.20484383],\n",
       "       [-70.86064413,  42.2058523 ],\n",
       "       [-70.86015833,  42.20692887],\n",
       "       [-70.85881486,  42.21097286],\n",
       "       [-70.86259027,  42.21715947],\n",
       "       [-70.86388934,  42.21805744],\n",
       "       [-70.86191277,  42.22067688],\n",
       "       [-70.85530976,  42.22567473],\n",
       "       [-70.85602758,  42.22654195],\n",
       "       [-70.85753611,  42.22782093],\n",
       "       [-70.85784085,  42.22920499],\n",
       "       [-70.858721  ,  42.23032696],\n",
       "       [-70.86527811,  42.23334707],\n",
       "       [-70.86229522,  42.23531829],\n",
       "       [-70.86186519,  42.23545927],\n",
       "       [-70.86085707,  42.23586314],\n",
       "       [-70.85808741,  42.23667028],\n",
       "       [-70.85885797,  42.24105138],\n",
       "       [-70.85960698,  42.24250677],\n",
       "       [-70.8585956 ,  42.24283177],\n",
       "       [-70.85839759,  42.24313813],\n",
       "       [-70.86579264,  42.24340992],\n",
       "       [-70.8643669 ,  42.24519593],\n",
       "       [-70.86385721,  42.24583741],\n",
       "       [-70.86310353,  42.24737672],\n",
       "       [-70.86145581,  42.25052584],\n",
       "       [-70.86094081,  42.25166356],\n",
       "       [-70.85886093,  42.25226831],\n",
       "       [-70.85787088,  42.25257789],\n",
       "       [-70.85698862,  42.25290045],\n",
       "       [-70.85546537,  42.253485  ],\n",
       "       [-70.85177633,  42.25544889],\n",
       "       [-70.85081516,  42.25613188],\n",
       "       [-70.85045596,  42.25638169],\n",
       "       [-70.84932959,  42.25717547],\n",
       "       [-70.84539046,  42.25960454],\n",
       "       [-70.84477186,  42.2597411 ],\n",
       "       [-70.84331   ,  42.25961   ],\n",
       "       [-70.83945001,  42.26071   ],\n",
       "       [-70.83822   ,  42.26144   ],\n",
       "       [-70.8375727 ,  42.26180807],\n",
       "       [-70.83662001,  42.26228   ],\n",
       "       [-70.83248001,  42.26298   ],\n",
       "       [-70.83014   ,  42.26348   ],\n",
       "       [-70.82785   ,  42.26357   ],\n",
       "       [-70.82745001,  42.26352   ],\n",
       "       [-70.82625001,  42.26356   ],\n",
       "       [-70.82548001,  42.2637    ],\n",
       "       [-70.82410001,  42.26352   ],\n",
       "       [-70.82308   ,  42.2634    ],\n",
       "       [-70.822019  ,  42.263399  ],\n",
       "       [-70.8205    ,  42.26308   ],\n",
       "       [-70.819188  ,  42.26307   ],\n",
       "       [-70.81664   ,  42.26292   ],\n",
       "       [-70.815563  ,  42.262833  ]])"
      ]
     },
     "execution_count": 20,
     "metadata": {},
     "output_type": "execute_result"
    }
   ],
   "source": [
    "np.reshape(b.flatten(), (len(b),2))"
   ]
  },
  {
   "cell_type": "code",
   "execution_count": 21,
   "metadata": {
    "collapsed": false,
    "scrolled": true
   },
   "outputs": [
    {
     "data": {
      "text/plain": [
       "array([[-70.99964396,  42.19817125],\n",
       "       [-70.99840391,  42.20040019],\n",
       "       [-70.99829501,  42.203383  ],\n",
       "       [-70.99940306,  42.20490686],\n",
       "       [-70.99954596,  42.20512096],\n",
       "       [-71.00001868,  42.20875155],\n",
       "       [-71.000001  ,  42.209043  ],\n",
       "       [-70.999594  ,  42.20916   ],\n",
       "       [-70.99720812,  42.20939783],\n",
       "       [-70.997105  ,  42.209316  ],\n",
       "       [-70.99539973,  42.20974868],\n",
       "       [-70.99288439,  42.20589615],\n",
       "       [-70.98740088,  42.20401209],\n",
       "       [-70.97169757,  42.2000219 ],\n",
       "       [-70.95972   ,  42.19597   ],\n",
       "       [-70.95621563,  42.19480093],\n",
       "       [-70.95171   ,  42.19362   ],\n",
       "       [-70.92113514,  42.18255656],\n",
       "       [-70.91945706,  42.18157   ],\n",
       "       [-70.91461577,  42.18016684],\n",
       "       [-70.9128501 ,  42.17966056],\n",
       "       [-70.91232059,  42.17979627],\n",
       "       [-70.90902505,  42.17934273],\n",
       "       [-70.90909885,  42.18016067],\n",
       "       [-70.9073533 ,  42.18028165],\n",
       "       [-70.90624709,  42.18035639],\n",
       "       [-70.90551   ,  42.18041483],\n",
       "       [-70.9034096 ,  42.18054143],\n",
       "       [-70.90037924,  42.18063817],\n",
       "       [-70.90012813,  42.18099192],\n",
       "       [-70.88974473,  42.18684726],\n",
       "       [-70.88293651,  42.18828757],\n",
       "       [-70.88287323,  42.18868993],\n",
       "       [-70.88271813,  42.18958324],\n",
       "       [-70.88253473,  42.19064183],\n",
       "       [-70.87856478,  42.1907425 ],\n",
       "       [-70.87453286,  42.19146729],\n",
       "       [-70.8704774 ,  42.19146313],\n",
       "       [-70.86817465,  42.19153767],\n",
       "       [-70.8689308 ,  42.19362667],\n",
       "       [-70.86911054,  42.19571643],\n",
       "       [-70.86899473,  42.1998455 ],\n",
       "       [-70.86903403,  42.20242933],\n",
       "       [-70.86919264,  42.20305965],\n",
       "       [-70.86601776,  42.20417544],\n",
       "       [-70.8635821 ,  42.20484383],\n",
       "       [-70.86064413,  42.2058523 ],\n",
       "       [-70.86015833,  42.20692887],\n",
       "       [-70.85881486,  42.21097286],\n",
       "       [-70.86259027,  42.21715947],\n",
       "       [-70.86388934,  42.21805744],\n",
       "       [-70.86191277,  42.22067688],\n",
       "       [-70.85530976,  42.22567473],\n",
       "       [-70.85602758,  42.22654195],\n",
       "       [-70.85753611,  42.22782093],\n",
       "       [-70.85784085,  42.22920499],\n",
       "       [-70.858721  ,  42.23032696],\n",
       "       [-70.86527811,  42.23334707],\n",
       "       [-70.86229522,  42.23531829],\n",
       "       [-70.86186519,  42.23545927],\n",
       "       [-70.86085707,  42.23586314],\n",
       "       [-70.85808741,  42.23667028],\n",
       "       [-70.85885797,  42.24105138],\n",
       "       [-70.85960698,  42.24250677],\n",
       "       [-70.8585956 ,  42.24283177],\n",
       "       [-70.85839759,  42.24313813],\n",
       "       [-70.86579264,  42.24340992],\n",
       "       [-70.8643669 ,  42.24519593],\n",
       "       [-70.86385721,  42.24583741],\n",
       "       [-70.86310353,  42.24737672],\n",
       "       [-70.86145581,  42.25052584],\n",
       "       [-70.86094081,  42.25166356],\n",
       "       [-70.85886093,  42.25226831],\n",
       "       [-70.85787088,  42.25257789],\n",
       "       [-70.85698862,  42.25290045],\n",
       "       [-70.85546537,  42.253485  ],\n",
       "       [-70.85177633,  42.25544889],\n",
       "       [-70.85081516,  42.25613188],\n",
       "       [-70.85045596,  42.25638169],\n",
       "       [-70.84932959,  42.25717547],\n",
       "       [-70.84539046,  42.25960454],\n",
       "       [-70.84477186,  42.2597411 ],\n",
       "       [-70.84331   ,  42.25961   ],\n",
       "       [-70.83945001,  42.26071   ],\n",
       "       [-70.83822   ,  42.26144   ],\n",
       "       [-70.8375727 ,  42.26180807],\n",
       "       [-70.83662001,  42.26228   ],\n",
       "       [-70.83248001,  42.26298   ],\n",
       "       [-70.83014   ,  42.26348   ],\n",
       "       [-70.82785   ,  42.26357   ],\n",
       "       [-70.82745001,  42.26352   ],\n",
       "       [-70.82625001,  42.26356   ],\n",
       "       [-70.82548001,  42.2637    ],\n",
       "       [-70.82410001,  42.26352   ],\n",
       "       [-70.82308   ,  42.2634    ],\n",
       "       [-70.822019  ,  42.263399  ],\n",
       "       [-70.8205    ,  42.26308   ],\n",
       "       [-70.819188  ,  42.26307   ],\n",
       "       [-70.81664   ,  42.26292   ],\n",
       "       [-70.815563  ,  42.262833  ]])"
      ]
     },
     "execution_count": 21,
     "metadata": {},
     "output_type": "execute_result"
    }
   ],
   "source": [
    "b"
   ]
  },
  {
   "cell_type": "code",
   "execution_count": 10,
   "metadata": {
    "collapsed": false,
    "scrolled": true
   },
   "outputs": [],
   "source": [
    "lat1 = 42.198\n",
    "long1 = -70.9987\n",
    "lat2 = 42.298\n",
    "long2 = -70.81\n",
    "path = gh.pathingSolution(graph.net, lat1, long1, lat2, long2, 'AssignedLe')"
   ]
  },
  {
   "cell_type": "code",
   "execution_count": 5,
   "metadata": {
    "collapsed": false
   },
   "outputs": [],
   "source": [
    "import numpy as np\n",
    "a = np.array([[1, 1], [2,3]])"
   ]
  },
  {
   "cell_type": "code",
   "execution_count": 8,
   "metadata": {
    "collapsed": false
   },
   "outputs": [
    {
     "data": {
      "text/plain": [
       "3"
      ]
     },
     "execution_count": 8,
     "metadata": {},
     "output_type": "execute_result"
    }
   ],
   "source": [
    "a[1][1]"
   ]
  }
 ],
 "metadata": {
  "kernelspec": {
   "display_name": "Python 3",
   "language": "python",
   "name": "python3"
  },
  "language_info": {
   "codemirror_mode": {
    "name": "ipython",
    "version": 3
   },
   "file_extension": ".py",
   "mimetype": "text/x-python",
   "name": "python",
   "nbconvert_exporter": "python",
   "pygments_lexer": "ipython3",
   "version": "3.5.1"
  }
 },
 "nbformat": 4,
 "nbformat_minor": 0
}
