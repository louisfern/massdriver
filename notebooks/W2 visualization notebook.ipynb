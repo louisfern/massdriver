{
 "cells": [
  {
   "cell_type": "code",
   "execution_count": null,
   "metadata": {
    "collapsed": true
   },
   "outputs": [],
   "source": [
    "import accidentHandler\n",
    "import seaborn as sb\n",
    "from matplotlib import pyplot as plt\n",
    "import numpy as np\n",
    "import pandas as pd\n",
    "%matplotlib inline"
   ]
  },
  {
   "cell_type": "code",
   "execution_count": null,
   "metadata": {
    "collapsed": true
   },
   "outputs": [],
   "source": [
    "acc = accidentHandler.AccidentTable()"
   ]
  },
  {
   "cell_type": "code",
   "execution_count": null,
   "metadata": {
    "collapsed": false
   },
   "outputs": [],
   "source": [
    "files = accidentHandler.findcsvlist('/home/louisf/Documents/Insight/massdriver/data/crash_data/')\n",
    "acc.gatherdata(files)"
   ]
  },
  {
   "cell_type": "code",
   "execution_count": null,
   "metadata": {
    "collapsed": false,
    "scrolled": true
   },
   "outputs": [],
   "source": [
    "sb.set_context('talk')\n",
    "fig = sb.regplot(\"X\", \"Y\",acc.accidents, fit_reg=False, scatter_kws={\"s\":20, \"alpha\":.01, 'color':'k'})\n",
    "fig.set(xticks=[], yticks=[])\n",
    "\n",
    "fig.figure.set_size_inches(12,8)\n",
    "fig.axes.set_title('Massachusetts automobile accidents, 2012', fontsize=34)\n",
    "fig.set_xlabel(\"\",size = 24)\n",
    "fig.set_ylabel(\"\",size = 24)\n",
    "\n",
    "\n",
    "plt.savefig('/home/louisf/Documents/Insight/massdriver/analyses/cd_mass.png', dpi=300, bbox_inches=\"tight\")"
   ]
  },
  {
   "cell_type": "code",
   "execution_count": null,
   "metadata": {
    "collapsed": false,
    "scrolled": true
   },
   "outputs": [],
   "source": [
    "acc.accidents.shape"
   ]
  },
  {
   "cell_type": "code",
   "execution_count": null,
   "metadata": {
    "collapsed": false,
    "scrolled": true
   },
   "outputs": [],
   "source": [
    "# accidents reporting location tags\n",
    "isnu=pd.isnull(acc.accidents['Road Segment ID'])\n",
    "acc.accidents.shape[0]-np.sum(isnu)"
   ]
  },
  {
   "cell_type": "code",
   "execution_count": null,
   "metadata": {
    "collapsed": false,
    "scrolled": true
   },
   "outputs": [],
   "source": [
    "# number of unique road segments\n",
    "n = acc.accidents['Road Segment ID']\n",
    "un = (n[~isnu]).unique()\n",
    "un.shape"
   ]
  },
  {
   "cell_type": "code",
   "execution_count": null,
   "metadata": {
    "collapsed": false,
    "scrolled": false
   },
   "outputs": [],
   "source": [
    "f, ax = plt.subplots(figsize=(7, 7))\n",
    "\n",
    "sb.distplot(n[~isnu].value_counts(), kde=False)\n",
    "ax.set( yscale=\"log\", xlabel='Number of accidents',\n",
    "       ylabel='Number of road segments')\n",
    "ax.set_title(\"Frequency of accidents on road segments\")\n",
    "plt.savefig('/home/louisf/Documents/Insight/massdriver/analyses/accFreq.png', dpi=300, bbox_inches=\"tight\")"
   ]
  },
  {
   "cell_type": "code",
   "execution_count": 17,
   "metadata": {
    "collapsed": false
   },
   "outputs": [
    {
     "ename": "ValueError",
     "evalue": "readshapefile can only handle 2D shape types",
     "output_type": "error",
     "traceback": [
      "\u001b[1;31m---------------------------------------------------------------------------\u001b[0m",
      "\u001b[1;31mValueError\u001b[0m                                Traceback (most recent call last)",
      "\u001b[1;32m<ipython-input-17-3d1d88ff0d4d>\u001b[0m in \u001b[0;36m<module>\u001b[1;34m()\u001b[0m\n\u001b[0;32m      2\u001b[0m \u001b[1;33m\u001b[0m\u001b[0m\n\u001b[0;32m      3\u001b[0m \u001b[0mmap\u001b[0m \u001b[1;33m=\u001b[0m \u001b[0mbasemap\u001b[0m\u001b[1;33m.\u001b[0m\u001b[0mBasemap\u001b[0m\u001b[1;33m(\u001b[0m\u001b[0mllcrnrlon\u001b[0m\u001b[1;33m=\u001b[0m\u001b[1;36m69.5\u001b[0m\u001b[1;33m,\u001b[0m\u001b[0mllcrnrlat\u001b[0m\u001b[1;33m=\u001b[0m\u001b[1;36m41.1\u001b[0m\u001b[1;33m,\u001b[0m\u001b[0murcrnrlon\u001b[0m\u001b[1;33m=\u001b[0m\u001b[1;36m73.5\u001b[0m\u001b[1;33m,\u001b[0m\u001b[0murcrnrlat\u001b[0m\u001b[1;33m=\u001b[0m\u001b[1;36m43.\u001b[0m\u001b[1;33m,\u001b[0m\u001b[0mprojection\u001b[0m\u001b[1;33m=\u001b[0m\u001b[1;34m'laea'\u001b[0m\u001b[1;33m,\u001b[0m \u001b[0mlat_0\u001b[0m\u001b[1;33m=\u001b[0m\u001b[1;36m42\u001b[0m\u001b[1;33m,\u001b[0m \u001b[0mlon_0\u001b[0m\u001b[1;33m=\u001b[0m\u001b[1;36m40\u001b[0m\u001b[1;33m)\u001b[0m\u001b[1;33m\u001b[0m\u001b[0m\n\u001b[1;32m----> 4\u001b[1;33m \u001b[0mmap\u001b[0m\u001b[1;33m.\u001b[0m\u001b[0mreadshapefile\u001b[0m\u001b[1;33m(\u001b[0m\u001b[1;34m'/home/louisf/Documents/Insight/massdriver/data/raw/shapefile/RoadInventory'\u001b[0m\u001b[1;33m,\u001b[0m \u001b[1;34m'inven'\u001b[0m\u001b[1;33m)\u001b[0m\u001b[1;33m\u001b[0m\u001b[0m\n\u001b[0m",
      "\u001b[1;32m/home/louisf/anaconda3/lib/python3.5/site-packages/mpl_toolkits/basemap/__init__.py\u001b[0m in \u001b[0;36mreadshapefile\u001b[1;34m(self, shapefile, name, drawbounds, zorder, linewidth, color, antialiased, ax, default_encoding)\u001b[0m\n\u001b[0;32m   2150\u001b[0m                 \u001b[1;32mraise\u001b[0m \u001b[0mValueError\u001b[0m\u001b[1;33m(\u001b[0m\u001b[1;34m'readshapefile can only handle a single shape type per file'\u001b[0m\u001b[1;33m)\u001b[0m\u001b[1;33m\u001b[0m\u001b[0m\n\u001b[0;32m   2151\u001b[0m             \u001b[1;32mif\u001b[0m \u001b[0mshptype\u001b[0m \u001b[1;32mnot\u001b[0m \u001b[1;32min\u001b[0m \u001b[1;33m[\u001b[0m\u001b[1;36m1\u001b[0m\u001b[1;33m,\u001b[0m\u001b[1;36m3\u001b[0m\u001b[1;33m,\u001b[0m\u001b[1;36m5\u001b[0m\u001b[1;33m,\u001b[0m\u001b[1;36m8\u001b[0m\u001b[1;33m]\u001b[0m\u001b[1;33m:\u001b[0m\u001b[1;33m\u001b[0m\u001b[0m\n\u001b[1;32m-> 2152\u001b[1;33m                 \u001b[1;32mraise\u001b[0m \u001b[0mValueError\u001b[0m\u001b[1;33m(\u001b[0m\u001b[1;34m'readshapefile can only handle 2D shape types'\u001b[0m\u001b[1;33m)\u001b[0m\u001b[1;33m\u001b[0m\u001b[0m\n\u001b[0m\u001b[0;32m   2153\u001b[0m             \u001b[0mverts\u001b[0m \u001b[1;33m=\u001b[0m \u001b[0mshp\u001b[0m\u001b[1;33m.\u001b[0m\u001b[0mpoints\u001b[0m\u001b[1;33m\u001b[0m\u001b[0m\n\u001b[0;32m   2154\u001b[0m             \u001b[1;32mif\u001b[0m \u001b[0mshptype\u001b[0m \u001b[1;32min\u001b[0m \u001b[1;33m[\u001b[0m\u001b[1;36m1\u001b[0m\u001b[1;33m,\u001b[0m\u001b[1;36m8\u001b[0m\u001b[1;33m]\u001b[0m\u001b[1;33m:\u001b[0m \u001b[1;31m# a Point or MultiPoint shape.\u001b[0m\u001b[1;33m\u001b[0m\u001b[0m\n",
      "\u001b[1;31mValueError\u001b[0m: readshapefile can only handle 2D shape types"
     ]
    }
   ],
   "source": [
    "from mpl_toolkits import basemap\n",
    "\n",
    "map = basemap.Basemap(llcrnrlon=69.5,llcrnrlat=41.1,urcrnrlon=73.5,urcrnrlat=43.,projection='laea', lat_0=42, lon_0=40)\n",
    "map.readshapefile('/home/louisf/Documents/Insight/massdriver/data/raw/shapefile/RoadInventory', 'inven')"
   ]
  },
  {
   "cell_type": "code",
   "execution_count": 15,
   "metadata": {
    "collapsed": false
   },
   "outputs": [
    {
     "name": "stdout",
     "output_type": "stream",
     "text": [
      "Help on method readshapefile in module mpl_toolkits.basemap:\n",
      "\n",
      "readshapefile(shapefile, name, drawbounds=True, zorder=None, linewidth=0.5, color='k', antialiased=1, ax=None, default_encoding='utf-8') method of mpl_toolkits.basemap.Basemap instance\n",
      "    Read in shape file, optionally draw boundaries on map.\n",
      "    \n",
      "    .. note::\n",
      "      - Assumes shapes are 2D\n",
      "      - only works for Point, MultiPoint, Polyline and Polygon shapes.\n",
      "      - vertices/points must be in geographic (lat/lon) coordinates.\n",
      "    \n",
      "    Mandatory Arguments:\n",
      "    \n",
      "    .. tabularcolumns:: |l|L|\n",
      "    \n",
      "    ==============   ====================================================\n",
      "    Argument         Description\n",
      "    ==============   ====================================================\n",
      "    shapefile        path to shapefile components.  Example:\n",
      "                     shapefile='/home/jeff/esri/world_borders' assumes\n",
      "                     that world_borders.shp, world_borders.shx and\n",
      "                     world_borders.dbf live in /home/jeff/esri.\n",
      "    name             name for Basemap attribute to hold the shapefile\n",
      "                     vertices or points in map projection\n",
      "                     coordinates. Class attribute name+'_info' is a list\n",
      "                     of dictionaries, one for each shape, containing\n",
      "                     attributes of each shape from dbf file, For\n",
      "                     example, if name='counties', self.counties\n",
      "                     will be a list of x,y vertices for each shape in\n",
      "                     map projection  coordinates and self.counties_info\n",
      "                     will be a list of dictionaries with shape\n",
      "                     attributes.  Rings in individual Polygon\n",
      "                     shapes are split out into separate polygons, and\n",
      "                     additional keys 'RINGNUM' and 'SHAPENUM' are added\n",
      "                     to the shape attribute dictionary.\n",
      "    ==============   ====================================================\n",
      "    \n",
      "    The following optional keyword arguments are only relevant for Polyline\n",
      "    and Polygon shape types, for Point and MultiPoint shapes they are\n",
      "    ignored.\n",
      "    \n",
      "    .. tabularcolumns:: |l|L|\n",
      "    \n",
      "    ==============   ====================================================\n",
      "    Keyword          Description\n",
      "    ==============   ====================================================\n",
      "    drawbounds       draw boundaries of shapes (default True).\n",
      "    zorder           shape boundary zorder (if not specified,\n",
      "                     default for mathplotlib.lines.LineCollection\n",
      "                     is used).\n",
      "    linewidth        shape boundary line width (default 0.5)\n",
      "    color            shape boundary line color (default black)\n",
      "    antialiased      antialiasing switch for shape boundaries\n",
      "                     (default True).\n",
      "    ax               axes instance (overrides default axes instance)\n",
      "    ==============   ====================================================\n",
      "    \n",
      "    A tuple (num_shapes, type, min, max) containing shape file info\n",
      "    is returned.\n",
      "    num_shapes is the number of shapes, type is the type code (one of\n",
      "    the SHPT* constants defined in the shapelib module, see\n",
      "    http://shapelib.maptools.org/shp_api.html) and min and\n",
      "    max are 4-element lists with the minimum and maximum values of the\n",
      "    vertices. If ``drawbounds=True`` a\n",
      "    matplotlib.patches.LineCollection object is appended to the tuple.\n",
      "\n"
     ]
    }
   ],
   "source": [
    "help (map.readshapefile)"
   ]
  }
 ],
 "metadata": {
  "kernelspec": {
   "display_name": "Python 3",
   "language": "python",
   "name": "python3"
  },
  "language_info": {
   "codemirror_mode": {
    "name": "ipython",
    "version": 3
   },
   "file_extension": ".py",
   "mimetype": "text/x-python",
   "name": "python",
   "nbconvert_exporter": "python",
   "pygments_lexer": "ipython3",
   "version": "3.5.1"
  }
 },
 "nbformat": 4,
 "nbformat_minor": 0
}
