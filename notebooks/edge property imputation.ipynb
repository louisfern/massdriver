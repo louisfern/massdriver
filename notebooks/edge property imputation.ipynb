{
 "cells": [
  {
   "cell_type": "markdown",
   "metadata": {},
   "source": [
    "## This notebook describes my imputation procedure for filling in missing values in my edge properties."
   ]
  },
  {
   "cell_type": "code",
   "execution_count": 56,
   "metadata": {
    "collapsed": false
   },
   "outputs": [],
   "source": [
    "# Imports and miscellany\n",
    "\n",
    "import csv\n",
    "import itertools\n",
    "import pickle\n",
    "import string\n",
    "import graphHandler as gh\n",
    "import inventoryCleaner as iC\n",
    "import networkx as nx\n",
    "import numpy as np\n",
    "import pandas as pd\n",
    "from matplotlib import pyplot as plt\n",
    "\n",
    "%matplotlib inline\n",
    "\n",
    "# Helper functions\n",
    "\n",
    "def representsInt(s):\n",
    "    try: \n",
    "        int(s)\n",
    "        return True\n",
    "    except ValueError:\n",
    "        return False\n",
    "\n",
    "def buildRange(x):\n",
    "    result = []\n",
    "    if pd.isnull(x)==True:\n",
    "        return np.nan\n",
    "    for part in x.split(','):\n",
    "        if '-' in part:\n",
    "            a, b = part.split('-')\n",
    "            if (representsInt(a)==False):\n",
    "                strarr = []\n",
    "                for i in range(ord(a), ord(b)+1):\n",
    "                    strarr.append(chr(i))\n",
    "                result.extend(strarr)\n",
    "            else:\n",
    "                a, b = int(a), int(b)\n",
    "                result.extend(range(a, b + 1))\n",
    "        else:\n",
    "            if (representsInt(part)==False):\n",
    "                result.append(part)\n",
    "            else:\n",
    "                a = int(part)\n",
    "                result.append(a)\n",
    "    return result\n",
    "\n",
    "def existin(x):\n",
    "    r = reqs[reqs['Variable']==x]['Reasonable range'].tolist()\n",
    "    return r"
   ]
  },
  {
   "cell_type": "code",
   "execution_count": 41,
   "metadata": {
    "collapsed": false
   },
   "outputs": [],
   "source": [
    "# The first step is to bring in a CSV full of properties and requirements for my data set. \n",
    "\n",
    "pathtoreqs = '/home/louisf/Documents/Insight/massdriver/docs/road_inventory_params.csv'\n",
    "reqs = pd.read_csv(pathtoreqs, delimiter = '^')"
   ]
  },
  {
   "cell_type": "code",
   "execution_count": 42,
   "metadata": {
    "collapsed": false,
    "scrolled": true
   },
   "outputs": [],
   "source": [
    "# Do a little bit of cleaning to convert some stuff and drop some rows\n",
    "reqs['Reasonable range'] = reqs['Reasonable range'].map(buildRange)\n",
    "reqs = reqs[reqs['Disqualify']==False]"
   ]
  },
  {
   "cell_type": "code",
   "execution_count": 43,
   "metadata": {
    "collapsed": false,
    "scrolled": true
   },
   "outputs": [],
   "source": [
    "# Load in my database \n",
    "fpath = '/home/louisf/Documents/Insight/massdriver/data/raw/shapefile/RoadInventory.geojson'\n",
    "pdinv = iC.PDInventory('roadInventory', 'test')\n",
    "pdinv.geojsontodf(fpath)\n",
    "\n",
    "toy = pdinv.table\n",
    "for colname in toy.columns:\n",
    "    if (sum(colname==reqs['Variable'])!=1):\n",
    "        toy.drop(colname, inplace=True, axis=1)\n",
    "        \n"
   ]
  },
  {
   "cell_type": "code",
   "execution_count": 44,
   "metadata": {
    "collapsed": false,
    "scrolled": false
   },
   "outputs": [
    {
     "data": {
      "image/png": "[encoded data removed]",
      "text/plain": [
       "<matplotlib.figure.Figure at 0x7fdcacee36a0>"
      ]
     },
     "metadata": {},
     "output_type": "display_data"
    }
   ],
   "source": [
    "# Check on how many of the remaining features exceed some threshold of in-range values.\n",
    "\n",
    "df = pd.DataFrame(index=toy.columns,columns=['value', 'hasbounds'])\n",
    "\n",
    "for colname in toy.columns:\n",
    "    nrange = existin(colname)[0]\n",
    "    if type(nrange)!=float:\n",
    "        df.loc[colname]= sum(toy[colname].isin(nrange))\n",
    "        \n",
    "for row in df.index:\n",
    "    r = existin(row)[0]\n",
    "    if type(r) == float:\n",
    "        df.loc[row]['hasbounds'] = False\n",
    "    else:\n",
    "        df.loc[row]['hasbounds'] = True\n",
    "\n",
    "# Examine only entries with bounds for removal:\n",
    "\n",
    "df.loc[df['hasbounds']==True]\n",
    "df.loc[df['hasbounds']==True].value.plot(kind='bar')\n",
    "\n",
    "# Drop all entries with fewer than 10% of values within bounds\n",
    "df = df[df['value']<50000]\n",
    "\n",
    "# The indices of df correspond to all of the properties we will drop from our table.\n",
    "\n",
    "# Based on this inspection, we will drop:\n",
    "# fromcity\n",
    "# fromstate\n",
    "# iristatus\n",
    "# jurisdicti\n",
    "# opposingdi\n",
    "# oppositenu\n",
    "# tostate\n",
    "\n",
    "# This removal occurs in road_inventory_params."
   ]
  },
  {
   "cell_type": "code",
   "execution_count": 47,
   "metadata": {
    "collapsed": false,
    "scrolled": true
   },
   "outputs": [],
   "source": [
    "# Next, I will load in my graph. I will use the pickle I generated previously.\n",
    "picklepath = '/home/louisf/Documents/Insight/massdriver/notebooks/graph_with_risk2.pickle'\n",
    "graph = nx.read_gpickle(picklepath)"
   ]
  },
  {
   "cell_type": "code",
   "execution_count": 78,
   "metadata": {
    "collapsed": true
   },
   "outputs": [],
   "source": [
    "newNet = graph.net"
   ]
  },
  {
   "cell_type": "code",
   "execution_count": 61,
   "metadata": {
    "collapsed": false,
    "scrolled": true
   },
   "outputs": [
    {
     "name": "stdout",
     "output_type": "stream",
     "text": [
      "good = 481430, bad = 30\n"
     ]
    }
   ],
   "source": [
    "# Just kidding! I need to generate a new graph with all of the properties I am interested in.\n",
    "\n",
    "graph = gh.NetworkGenerator()\n",
    "filepath = '/home/louisf/Documents/Insight/massdriver/data/raw/shapefile/RI_converted.shp'\n",
    "graph.loadGraph(filepath=filepath, fields=toy.columns.tolist(), simplify=True)\n",
    "newNet = graph.net"
   ]
  },
  {
   "cell_type": "code",
   "execution_count": 151,
   "metadata": {
    "collapsed": false,
    "scrolled": true
   },
   "outputs": [
    {
     "name": "stdout",
     "output_type": "stream",
     "text": [
      "accesscont is in range True\n",
      "addedroadt is in range True\n",
      "adt has no range specified\n",
      "adtderivat is in range True\n",
      "adtyear has no range specified\n",
      "assigned_1 is in range True\n",
      "assignedle has no range specified\n",
      "city is in range True\n",
      "county is in range False\n",
      "curbs is in range True\n",
      "equation_1 has no range specified\n",
      "equationro has no range specified\n",
      "facilityty is in range True\n",
      "federalaid has no range specified\n",
      "federalfun is in range True\n",
      "fromendtyp is in range True\n",
      "frommeasur has no range specified\n",
      "fromstreet has no range specified\n",
      "functional is in range True\n",
      "hpmscode is in range True\n",
      "jurisdicti is in range False\n",
      "leftshou_1 has no range specified\n",
      "leftshould is in range True\n",
      "leftsidewa has no range specified\n",
      "lifecycles is in range True\n",
      "massdothig is in range True\n",
      "mediantype is in range True\n",
      "medianwidt has no range specified\n",
      "mhs is in range True\n",
      "mileagecou is in range True\n",
      "mpo has no range specified\n",
      "municipals is in range True\n",
      "nhsstatus is in range True\n",
      "numberofpe has no range specified\n",
      "numberoftr is in range True\n",
      "psi has no range specified\n",
      "psiyear has no range specified\n",
      "rightofway has no range specified\n",
      "rightsho_1 has no range specified\n",
      "rightshoul is in range True\n",
      "rightsidew has no range specified\n",
      "routedirec has no range specified\n",
      "routefrom has no range specified\n",
      "routekey has no range specified\n",
      "routenumbe has no range specified\n",
      "routesyste has no range specified\n",
      "routeto has no range specified\n",
      "routetype is in range True\n",
      "rpa has no range specified\n",
      "shape_len has no range specified\n",
      "speedlimit is in range True\n",
      "streetlist has no range specified\n",
      "streetna_1 has no range specified\n",
      "streetname has no range specified\n",
      "streetoper is in range True\n",
      "structural is in range True\n",
      "surfacetyp is in range True\n",
      "surfacewid has no range specified\n",
      "terrain is in range True\n",
      "tocity is in range False\n",
      "toendtype is in range True\n",
      "tollroad is in range True\n",
      "tomeasure has no range specified\n",
      "tostreetna has no range specified\n",
      "trucknetwo is in range True\n",
      "truckroute is in range True\n",
      "undivide_1 has no range specified\n",
      "undividedl is in range True\n",
      "urbanizeda has no range specified\n",
      "urbantype is in range True\n"
     ]
    }
   ],
   "source": [
    "# Iterate over each edge. Find the properties on that edge that are missing. \n",
    "importantProperties = toy.columns.tolist()\n",
    "nrange = reqs['Reasonable range']\n",
    "for u,v in graph.net.edges_iter():\n",
    "    g = newNet[u][v]\n",
    "    missingProps = []\n",
    "    for props in importantProperties:\n",
    "        nrange = reqs.loc[reqs['Variable']==props]['Reasonable range']\n",
    "        if type(nrange.tolist()[0])!=float:\n",
    "            print(props + ' is in range {}'.format(g[props] in nrange.tolist()[0]))\n",
    "            if ((g[props] in nrange.tolist()[0])==False):\n",
    "                missingProps.append(props)\n",
    "        else:\n",
    "            print(props + ' has no range specified')\n",
    "    break\n"
   ]
  },
  {
   "cell_type": "code",
   "execution_count": 154,
   "metadata": {
    "collapsed": false,
    "scrolled": true
   },
   "outputs": [
    {
     "data": {
      "text/plain": [
       "['county', 'jurisdicti', 'tocity']"
      ]
     },
     "execution_count": 154,
     "metadata": {},
     "output_type": "execute_result"
    }
   ],
   "source": [
    "missingProps"
   ]
  },
  {
   "cell_type": "code",
   "execution_count": 148,
   "metadata": {
    "collapsed": false
   },
   "outputs": [
    {
     "data": {
      "text/plain": [
       "[(-71.10750084168293, 42.47446692343721),\n",
       " (-71.10634505726127, 42.47441237903289),\n",
       " (-71.10891187098966, 42.474431813774984)]"
      ]
     },
     "execution_count": 148,
     "metadata": {},
     "output_type": "execute_result"
    }
   ],
   "source": [
    "import itertools\n",
    "list(itertools.chain(*neighbors))"
   ]
  },
  {
   "cell_type": "code",
   "execution_count": 155,
   "metadata": {
    "collapsed": true
   },
   "outputs": [],
   "source": [
    "nx.write_gpickle(graph.net, '/home/louisf/Documents/Insight/massdriver/data/largeGraph.npickle')"
   ]
  },
  {
   "cell_type": "code",
   "execution_count": null,
   "metadata": {
    "collapsed": true
   },
   "outputs": [],
   "source": [
    "# For each node on the edge, find the properties of the edges attached to that node."
   ]
  },
  {
   "cell_type": "code",
   "execution_count": null,
   "metadata": {
    "collapsed": true
   },
   "outputs": [],
   "source": [
    "# Find all properties that are with an acceptable range within that set, and use those to impute missing value."
   ]
  }
 ],
 "metadata": {
  "kernelspec": {
   "display_name": "Python 3",
   "language": "python",
   "name": "python3"
  },
  "language_info": {
   "codemirror_mode": {
    "name": "ipython",
    "version": 3
   },
   "file_extension": ".py",
   "mimetype": "text/x-python",
   "name": "python",
   "nbconvert_exporter": "python",
   "pygments_lexer": "ipython3",
   "version": "3.5.1"
  }
 },
 "nbformat": 4,
 "nbformat_minor": 0
}
