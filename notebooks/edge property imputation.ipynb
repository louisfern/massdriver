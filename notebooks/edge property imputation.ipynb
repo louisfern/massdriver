{
 "cells": [
  {
   "cell_type": "markdown",
   "metadata": {},
   "source": [
    "## This notebook describes my imputation procedure for filling in missing values in my edge properties."
   ]
  },
  {
   "cell_type": "code",
   "execution_count": 189,
   "metadata": {
    "collapsed": false
   },
   "outputs": [],
   "source": [
    "# Imports and miscellany\n",
    "\n",
    "import csv\n",
    "import itertools\n",
    "import pickle\n",
    "import string\n",
    "import graphHandler as gh\n",
    "import inventoryCleaner as iC\n",
    "import networkx as nx\n",
    "import numpy as np\n",
    "import pandas as pd\n",
    "from matplotlib import pyplot as plt\n",
    "\n",
    "%matplotlib inline\n",
    "\n",
    "# Helper functions\n",
    "\n",
    "def representsInt(s):\n",
    "    try: \n",
    "        int(s)\n",
    "        return True\n",
    "    except ValueError:\n",
    "        return False\n",
    "\n",
    "def buildRange(x):\n",
    "    result = []\n",
    "    if pd.isnull(x)==True:\n",
    "        return np.nan\n",
    "    for part in x.split(','):\n",
    "        if '-' in part:\n",
    "            a, b = part.split('-')\n",
    "            if (representsInt(a)==False):\n",
    "                strarr = []\n",
    "                for i in range(ord(a), ord(b)+1):\n",
    "                    strarr.append(chr(i))\n",
    "                result.extend(strarr)\n",
    "            else:\n",
    "                a, b = int(a), int(b)\n",
    "                result.extend(range(a, b + 1))\n",
    "        else:\n",
    "            if (representsInt(part)==False):\n",
    "                result.append(part)\n",
    "            else:\n",
    "                a = int(part)\n",
    "                result.append(a)\n",
    "    return result\n",
    "\n",
    "def existin(x):\n",
    "    r = reqs[reqs['Variable']==x]['Reasonable range'].tolist()\n",
    "    return r\n",
    "\n",
    "def returnProps(net, u, v, prop):\n",
    "    return net[u][v][prop]\n",
    "\n",
    "def returnNeighborProps(net,u,v,props):\n",
    "    propertyTracker = {el:[] for el in props}\n",
    "    neighbors = net.neighbors(u)\n",
    "    for n in neighbors:\n",
    "        for p in props:\n",
    "            newp = returnProps(net, u, n, p)\n",
    "            if (type(newp)=='NoneType')==False:\n",
    "                propertyTracker[p].append(newp)\n",
    "    neighbors = net.neighbors(v)\n",
    "    for n in neighbors:\n",
    "        for p in props:\n",
    "            newp = returnProps(net, n, v, p)\n",
    "            if (type(newp)=='NoneType')==False:\n",
    "                propertyTracker[p].append(newp)\n",
    "    return propertyTracker\n",
    "\n",
    "def getConsensus(props, reqs):\n",
    "# This function takes in a dict of missing properties and returns the appropriate value after\n",
    "# accounting for categorical or numerical.\n",
    "    bestGuess = {el:0 for el in props}\n",
    "    for key in props:\n",
    "        iscategorical = reqs.ix[reqs['Variable']==key, 'Categorical']\n",
    "        if iscategorical.values[0]:\n",
    "            bestGuess[key]=np.random.choice(props[key])\n",
    "        else:\n",
    "            bestGuess[key]=np.mean(props[key])\n",
    "    return bestGuess"
   ]
  },
  {
   "cell_type": "code",
   "execution_count": 196,
   "metadata": {
    "collapsed": false
   },
   "outputs": [],
   "source": [
    "# The first step is to bring in a CSV full of properties and requirements for my data set. \n",
    "\n",
    "pathtoreqs = '/home/louisf/Documents/Insight/massdriver/docs/road_inventory_params.csv'\n",
    "reqs = pd.read_csv(pathtoreqs, delimiter = '^')"
   ]
  },
  {
   "cell_type": "code",
   "execution_count": 197,
   "metadata": {
    "collapsed": false,
    "scrolled": true
   },
   "outputs": [],
   "source": [
    "# Do a little bit of cleaning to convert some stuff and drop some rows\n",
    "reqs['Reasonable range'] = reqs['Reasonable range'].map(buildRange)\n",
    "reqs = reqs[reqs['Disqualify']==False]"
   ]
  },
  {
   "cell_type": "code",
   "execution_count": 200,
   "metadata": {
    "collapsed": false,
    "scrolled": true
   },
   "outputs": [],
   "source": [
    "# Load in my database \n",
    "fpath = '/home/louisf/Documents/Insight/massdriver/data/raw/shapefile/RoadInventory.geojson'\n",
    "pdinv = iC.PDInventory('roadInventory', 'test')\n",
    "pdinv.geojsontodf(fpath)\n",
    "\n",
    "toy = pdinv.table\n",
    "for colname in toy.columns:\n",
    "    if (sum(colname==reqs['Variable'])!=1):\n",
    "        toy.drop(colname, inplace=True, axis=1)\n",
    "        \n"
   ]
  },
  {
   "cell_type": "code",
   "execution_count": 103,
   "metadata": {
    "collapsed": false,
    "scrolled": false
   },
   "outputs": [
    {
     "data": {
      "image/png": "[encoded data removed]",
      "text/plain": [
       "<matplotlib.figure.Figure at 0x7f37571cce48>"
      ]
     },
     "metadata": {},
     "output_type": "display_data"
    }
   ],
   "source": [
    "# Check on how many of the remaining features exceed some threshold of in-range values.\n",
    "\n",
    "df = pd.DataFrame(index=toy.columns,columns=['value', 'hasbounds'])\n",
    "\n",
    "for colname in toy.columns:\n",
    "    nrange = existin(colname)[0]\n",
    "    if type(nrange)!=float:\n",
    "        df.loc[colname]= sum(toy[colname].isin(nrange))\n",
    "        \n",
    "for row in df.index:\n",
    "    r = existin(row)[0]\n",
    "    if type(r) == float:\n",
    "        df.loc[row]['hasbounds'] = False\n",
    "    else:\n",
    "        df.loc[row]['hasbounds'] = True\n",
    "\n",
    "# Examine only entries with bounds for removal:\n",
    "\n",
    "df.loc[df['hasbounds']==True]\n",
    "df.loc[df['hasbounds']==True].value.plot(kind='bar')\n",
    "\n",
    "# Drop all entries with fewer than 10% of values within bounds\n",
    "df = df[df['value']<50000]\n",
    "\n",
    "# The indices of df correspond to all of the properties we will drop from our table.\n",
    "\n",
    "# Based on this inspection, we will drop:\n",
    "# fromcity\n",
    "# fromstate\n",
    "# iristatus\n",
    "# jurisdicti\n",
    "# opposingdi\n",
    "# oppositenu\n",
    "# tostate\n",
    "\n",
    "# This removal occurs in road_inventory_params."
   ]
  },
  {
   "cell_type": "code",
   "execution_count": null,
   "metadata": {
    "collapsed": false,
    "scrolled": true
   },
   "outputs": [],
   "source": [
    "# Next, I will load in my graph. I will use the pickle I generated previously.\n",
    "picklepath = '/home/louisf/Documents/Insight/massdriver/notebooks/graph_with_risk2.pickle'\n",
    "graph = nx.read_gpickle(picklepath)"
   ]
  },
  {
   "cell_type": "code",
   "execution_count": null,
   "metadata": {
    "collapsed": true
   },
   "outputs": [],
   "source": [
    "newNet = graph.net"
   ]
  },
  {
   "cell_type": "code",
   "execution_count": null,
   "metadata": {
    "collapsed": false,
    "scrolled": true
   },
   "outputs": [],
   "source": [
    "# Just kidding! I need to generate a new graph with all of the properties I am interested in.\n",
    "\n",
    "graph = gh.NetworkGenerator()\n",
    "filepath = '/home/louisf/Documents/Insight/massdriver/data/raw/shapefile/RI_converted.shp'\n",
    "graph.loadGraph(filepath=filepath, fields=toy.columns.tolist(), simplify=True)\n",
    "newNet = graph.net"
   ]
  },
  {
   "cell_type": "code",
   "execution_count": null,
   "metadata": {
    "collapsed": false,
    "scrolled": true
   },
   "outputs": [
    {
     "name": "stdout",
     "output_type": "stream",
     "text": [
      "0\n"
     ]
    }
   ],
   "source": [
    "# Iterate over each edge. Find the properties on that edge that are missing. \n",
    "importantProperties = toy.columns.tolist()\n",
    "nrange = reqs['Reasonable range']\n",
    "it=0\n",
    "for u,v in newNet.edges_iter():\n",
    "    g = newNet[u][v]\n",
    "    missingProps = []\n",
    "    for props in importantProperties:\n",
    "        nrange = reqs.loc[reqs['Variable']==props]['Reasonable range']\n",
    "        if len(nrange.tolist())>0:\n",
    "            if type(nrange.tolist()[0])!=float:\n",
    "                if ((g[props] in nrange.tolist()[0])==False):\n",
    "                    missingProps.append(props)\n",
    "    neighborProps = returnNeighborProps(newNet, u, v, missingProps)\n",
    "    newvals = getConsensus(neighborProps, reqs)\n",
    "    for key, value in newvals.items():\n",
    "        newNet[u][v][key]=value\n",
    "    if(it%10000==0):\n",
    "        print(it)\n",
    "    it+=1\n"
   ]
  },
  {
   "cell_type": "code",
   "execution_count": 180,
   "metadata": {
    "collapsed": false
   },
   "outputs": [
    {
     "data": {
      "text/plain": [
       "(-71.54779056938288, 42.402973076118116)"
      ]
     },
     "execution_count": 180,
     "metadata": {},
     "output_type": "execute_result"
    }
   ],
   "source": [
    "v"
   ]
  },
  {
   "cell_type": "code",
   "execution_count": 152,
   "metadata": {
    "collapsed": false
   },
   "outputs": [
    {
     "data": {
      "text/plain": [
       "'I'"
      ]
     },
     "execution_count": 152,
     "metadata": {},
     "output_type": "execute_result"
    }
   ],
   "source": [
    "np.random.choice(p['county'])"
   ]
  },
  {
   "cell_type": "code",
   "execution_count": 209,
   "metadata": {
    "collapsed": false
   },
   "outputs": [],
   "source": [
    "it=0\n",
    "for u,v in newNet.edges_iter():\n",
    "    g = newNet[u][v]\n",
    "    missingProps = []\n",
    "    for props in importantProperties:\n",
    "        nrange = reqs.loc[reqs['Variable']==props]['Reasonable range']\n",
    "        if len(nrange.tolist())>0:\n",
    "            if type(nrange.tolist()[0])!=float:\n",
    "                if ((g[props] in nrange.tolist()[0])==False):\n",
    "                    missingProps.append(props)\n",
    "    it+=1\n",
    "    break"
   ]
  },
  {
   "cell_type": "code",
   "execution_count": 212,
   "metadata": {
    "collapsed": false,
    "scrolled": true
   },
   "outputs": [
    {
     "data": {
      "text/plain": [
       "[]"
      ]
     },
     "execution_count": 212,
     "metadata": {},
     "output_type": "execute_result"
    }
   ],
   "source": [
    "missingProps"
   ]
  },
  {
   "cell_type": "code",
   "execution_count": 145,
   "metadata": {
    "collapsed": false
   },
   "outputs": [
    {
     "data": {
      "text/plain": [
       "True"
      ]
     },
     "execution_count": 145,
     "metadata": {},
     "output_type": "execute_result"
    }
   ],
   "source": [
    "iscategorical.values[0]"
   ]
  },
  {
   "cell_type": "code",
   "execution_count": null,
   "metadata": {
    "collapsed": false
   },
   "outputs": [],
   "source": [
    "import itertools\n",
    "list(itertools.chain(*neighbors))"
   ]
  },
  {
   "cell_type": "code",
   "execution_count": null,
   "metadata": {
    "collapsed": true
   },
   "outputs": [],
   "source": [
    "nx.write_gpickle(graph.net, '/home/louisf/Documents/Insight/massdriver/data/largeGraph.npickle')"
   ]
  },
  {
   "cell_type": "code",
   "execution_count": 2,
   "metadata": {
    "collapsed": true
   },
   "outputs": [],
   "source": [
    "newNet = nx.read_gpickle('/home/louisf/Documents/Insight/massdriver/data/largeGraph.npickle')"
   ]
  },
  {
   "cell_type": "code",
   "execution_count": null,
   "metadata": {
    "collapsed": true
   },
   "outputs": [],
   "source": [
    "# For each node on the edge, find the properties of the edges attached to that node."
   ]
  },
  {
   "cell_type": "code",
   "execution_count": null,
   "metadata": {
    "collapsed": true
   },
   "outputs": [],
   "source": [
    "# Find all properties that are with an acceptable range within that set, and use those to impute missing value."
   ]
  }
 ],
 "metadata": {
  "kernelspec": {
   "display_name": "Python 3",
   "language": "python",
   "name": "python3"
  },
  "language_info": {
   "codemirror_mode": {
    "name": "ipython",
    "version": 3
   },
   "file_extension": ".py",
   "mimetype": "text/x-python",
   "name": "python",
   "nbconvert_exporter": "python",
   "pygments_lexer": "ipython3",
   "version": "3.5.1"
  }
 },
 "nbformat": 4,
 "nbformat_minor": 0
}
