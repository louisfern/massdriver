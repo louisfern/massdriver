{
 "cells": [
  {
   "cell_type": "markdown",
   "metadata": {},
   "source": [
    "## This notebook describes my imputation procedure for filling in missing values in my edge properties."
   ]
  },
  {
   "cell_type": "code",
   "execution_count": 1,
   "metadata": {
    "collapsed": false
   },
   "outputs": [],
   "source": [
    "# Imports and miscellany\n",
    "\n",
    "import csv\n",
    "import itertools\n",
    "import pickle\n",
    "import string\n",
    "import graphHandler as gh\n",
    "import inventoryCleaner as iC\n",
    "import networkx as nx\n",
    "import numpy as np\n",
    "import pandas as pd\n",
    "from matplotlib import pyplot as plt\n",
    "\n",
    "%matplotlib inline\n",
    "\n",
    "# Helper functions\n",
    "\n",
    "def representsInt(s):\n",
    "    try: \n",
    "        int(s)\n",
    "        return True\n",
    "    except ValueError:\n",
    "        return False\n",
    "\n",
    "def buildRange(x):\n",
    "    result = []\n",
    "    if pd.isnull(x)==True:\n",
    "        return np.nan\n",
    "    for part in x.split(','):\n",
    "        if '-' in part:\n",
    "            a, b = part.split('-')\n",
    "            if (representsInt(a)==False):\n",
    "                strarr = []\n",
    "                for i in range(ord(a), ord(b)+1):\n",
    "                    strarr.append(chr(i))\n",
    "                result.extend(strarr)\n",
    "            else:\n",
    "                a, b = int(a), int(b)\n",
    "                result.extend(range(a, b + 1))\n",
    "        else:\n",
    "            if (representsInt(part)==False):\n",
    "                result.append(part)\n",
    "            else:\n",
    "                a = int(part)\n",
    "                result.append(a)\n",
    "    return result\n",
    "\n",
    "def existin(x):\n",
    "    r = reqs[reqs['Variable']==x]['Reasonable range'].tolist()\n",
    "    return r\n",
    "\n",
    "def returnProps(net, u, v, prop):\n",
    "    return net[u][v][prop]\n",
    "\n",
    "def returnNeighborProps(net,u,v,props):\n",
    "    propertyTracker = {el:[] for el in props}\n",
    "    neighbors = net.neighbors(u)\n",
    "    for n in neighbors:\n",
    "        for p in props:\n",
    "            newp = returnProps(net, u, n, p)\n",
    "            if (type(newp)=='NoneType')==False:\n",
    "                propertyTracker[p].append(newp)\n",
    "    neighbors = net.neighbors(v)\n",
    "    for n in neighbors:\n",
    "        for p in props:\n",
    "            newp = returnProps(net, n, v, p)\n",
    "            if (type(newp)=='NoneType')==False:\n",
    "                propertyTracker[p].append(newp)\n",
    "    return propertyTracker\n",
    "\n",
    "def getConsensus(props, reqs):\n",
    "# This function takes in a dict of missing properties and returns the appropriate value after\n",
    "# accounting for categorical or numerical.\n",
    "    bestGuess = {el:0 for el in props}\n",
    "    for key in props:\n",
    "        iscategorical = reqs.ix[reqs['Variable']==key, 'Categorical']\n",
    "        if iscategorical.values[0]:\n",
    "            bestGuess[key]=np.random.choice(props[key])\n",
    "        else:\n",
    "            bestGuess[key]=np.mean(props[key])\n",
    "    return bestGuess"
   ]
  },
  {
   "cell_type": "code",
   "execution_count": 2,
   "metadata": {
    "collapsed": false
   },
   "outputs": [],
   "source": [
    "# The first step is to bring in a CSV full of properties and requirements for my data set. \n",
    "\n",
    "pathtoreqs = '/home/louisf/Documents/Insight/massdriver/docs/road_inventory_params.csv'\n",
    "reqs = pd.read_csv(pathtoreqs, delimiter = '^')"
   ]
  },
  {
   "cell_type": "code",
   "execution_count": 3,
   "metadata": {
    "collapsed": false,
    "scrolled": true
   },
   "outputs": [],
   "source": [
    "# Do a little bit of cleaning to convert some stuff and drop some rows\n",
    "reqs['Reasonable range'] = reqs['Reasonable range'].map(buildRange)\n",
    "reqs = reqs[reqs['Disqualify']==False]"
   ]
  },
  {
   "cell_type": "code",
   "execution_count": 4,
   "metadata": {
    "collapsed": false,
    "scrolled": true
   },
   "outputs": [],
   "source": [
    "# Load in my database \n",
    "fpath = '/home/louisf/Documents/Insight/massdriver/data/raw/shapefile/RoadInventory.geojson'\n",
    "pdinv = iC.PDInventory('roadInventory', 'test')\n",
    "pdinv.geojsontodf(fpath)\n",
    "\n",
    "toy = pdinv.table\n",
    "for colname in toy.columns:\n",
    "    if (sum(colname==reqs['Variable'])!=1):\n",
    "        toy.drop(colname, inplace=True, axis=1)\n",
    "        \n"
   ]
  },
  {
   "cell_type": "code",
   "execution_count": null,
   "metadata": {
    "collapsed": false,
    "scrolled": false
   },
   "outputs": [],
   "source": [
    "# Check on how many of the remaining features exceed some threshold of in-range values.\n",
    "\n",
    "df = pd.DataFrame(index=toy.columns,columns=['value', 'hasbounds'])\n",
    "\n",
    "for colname in toy.columns:\n",
    "    nrange = existin(colname)[0]\n",
    "    if type(nrange)!=float:\n",
    "        df.loc[colname]= sum(toy[colname].isin(nrange))\n",
    "        \n",
    "for row in df.index:\n",
    "    r = existin(row)[0]\n",
    "    if type(r) == float:\n",
    "        df.loc[row]['hasbounds'] = False\n",
    "    else:\n",
    "        df.loc[row]['hasbounds'] = True\n",
    "\n",
    "# Examine only entries with bounds for removal:\n",
    "\n",
    "df.loc[df['hasbounds']==True]\n",
    "df.loc[df['hasbounds']==True].value.plot(kind='bar')\n",
    "\n",
    "# Drop all entries with fewer than 10% of values within bounds\n",
    "df = df[df['value']<50000]\n",
    "\n",
    "# The indices of df correspond to all of the properties we will drop from our table.\n",
    "\n",
    "# Based on this inspection, we will drop:\n",
    "# fromcity\n",
    "# fromstate\n",
    "# iristatus\n",
    "# jurisdicti\n",
    "# opposingdi\n",
    "# oppositenu\n",
    "# tostate\n",
    "\n",
    "# This removal occurs in road_inventory_params."
   ]
  },
  {
   "cell_type": "code",
   "execution_count": null,
   "metadata": {
    "collapsed": false,
    "scrolled": true
   },
   "outputs": [],
   "source": [
    "# Next, I will load in my graph. I will use the pickle I generated previously.\n",
    "picklepath = '/home/louisf/Documents/Insight/massdriver/notebooks/graph_with_risk2.pickle'\n",
    "graph = nx.read_gpickle(picklepath)"
   ]
  },
  {
   "cell_type": "code",
   "execution_count": null,
   "metadata": {
    "collapsed": false
   },
   "outputs": [],
   "source": [
    "newNet = graph.net"
   ]
  },
  {
   "cell_type": "code",
   "execution_count": 6,
   "metadata": {
    "collapsed": false,
    "scrolled": true
   },
   "outputs": [
    {
     "name": "stdout",
     "output_type": "stream",
     "text": [
      "good = 481430, bad = 30\n"
     ]
    }
   ],
   "source": [
    "# Just kidding! I need to generate a new graph with all of the properties I am interested in.\n",
    "\n",
    "graph = gh.NetworkGenerator()\n",
    "filepath = '/home/louisf/Documents/Insight/massdriver/data/raw/shapefile/RI_converted.shp'\n",
    "graph.loadGraph(filepath=filepath, fields=toy.columns.tolist(), simplify=True)\n",
    "#newNet = graph.net"
   ]
  },
  {
   "cell_type": "code",
   "execution_count": 9,
   "metadata": {
    "collapsed": false,
    "scrolled": false
   },
   "outputs": [
    {
     "name": "stdout",
     "output_type": "stream",
     "text": [
      "0\n",
      "10000\n",
      "20000\n",
      "30000\n",
      "40000\n",
      "50000\n",
      "60000\n",
      "70000\n",
      "80000\n",
      "90000\n",
      "100000\n",
      "110000\n",
      "120000\n",
      "130000\n",
      "140000\n",
      "150000\n",
      "160000\n",
      "170000\n",
      "180000\n",
      "190000\n",
      "200000\n",
      "210000\n",
      "220000\n",
      "230000\n",
      "240000\n",
      "250000\n",
      "260000\n",
      "270000\n",
      "280000\n",
      "290000\n",
      "300000\n",
      "310000\n",
      "320000\n",
      "330000\n",
      "340000\n",
      "350000\n",
      "360000\n",
      "370000\n",
      "380000\n",
      "390000\n",
      "400000\n",
      "410000\n",
      "420000\n",
      "430000\n",
      "440000\n",
      "450000\n",
      "460000\n",
      "470000\n"
     ]
    }
   ],
   "source": [
    "# Iterate over each edge. Find the properties on that edge that are missing. \n",
    "importantProperties = toy.columns.tolist()\n",
    "nrange = reqs['Reasonable range']\n",
    "it=0\n",
    "for u,v in graph.net.edges_iter():\n",
    "    g = graph.net[u][v]\n",
    "    missingProps = []\n",
    "    for props in importantProperties:\n",
    "        nrange = reqs.loc[reqs['Variable']==props]['Reasonable range']\n",
    "        if len(nrange.tolist())>0:\n",
    "            if type(nrange.tolist()[0])!=float:\n",
    "                if ((g[props] in nrange.tolist()[0])==False):\n",
    "                    missingProps.append(props)\n",
    "    neighborProps = returnNeighborProps(graph.net, u, v, missingProps)\n",
    "    newvals = getConsensus(neighborProps, reqs)\n",
    "    for key, value in newvals.items():\n",
    "        graph.net[u][v][key]=value\n",
    "    if(it%10000==0):\n",
    "        print(it)\n",
    "    it+=1\n"
   ]
  },
  {
   "cell_type": "code",
   "execution_count": 8,
   "metadata": {
    "collapsed": false,
    "scrolled": true
   },
   "outputs": [
    {
     "data": {
      "text/plain": [
       "{'Json': '{ \"type\": \"LineString\", \"coordinates\": [ [ -70.153843479591174, 41.706992727510141 ], [ -70.153932944523177, 41.707016547034755 ], [ -70.154031954609749, 41.70702533890438 ], [ -70.154184807948582, 41.707013804006941 ], [ -70.154399251777008, 41.706976316858956 ], [ -70.154539872460305, 41.706941764806857 ], [ -70.154698006664574, 41.706920762011656 ], [ -70.154996279821475, 41.706888072748512 ], [ -70.155342587035804, 41.706869292625669 ], [ -70.155474978634061, 41.706863231118874 ], [ -70.155515500053895, 41.706871335354428 ] ] }',\n",
       " 'ShpName': 'RI_converted',\n",
       " 'Wkb': b'\\x00\\x00\\x00\\x00\\x02\\x00\\x00\\x00\\x0b\\xc0Q\\x89\\xd8\\x92Rc\\x01@D\\xda~\\xbc\\xd9\\x95<\\xc0Q\\x89\\xda\\t\\x90\\xa0B@D\\xda\\x7f\\x84\\xa9\\x9f`\\xc0Q\\x89\\xdb\\xa8\\xd7\\xe5\\x9f@D\\xda\\x7f\\xcej\\x04\\xd1\\xc0Q\\x89\\xde)\\xf4\\xebx@D\\xda\\x7fm\\xa7\\x03\\xe3\\xc0Q\\x89\\xe1\\xadf:/@D\\xda~3/\\xfaV\\xc0Q\\x89\\xe3\\xfb4\\x89H@D\\xda}\\x11X\\x02\\xd0\\xc0Q\\x89\\xe6\\x92w\\xd8^@D\\xda|a(\\xda\\x0b\\xc0Q\\x89\\xebu\\x845o@D\\xda{N\\xf11\\x94\\xc0Q\\x89\\xf1\"\\x08\\xbf\\xab@D\\xdaz\\xb1g/\\xdc\\xc0Q\\x89\\xf3MS%\\x18@D\\xdaz~\\x8e3B\\xc0Q\\x89\\xf3\\xf7H\\xb0*@D\\xdaz\\xc2\\x89\\xe9\\xdf',\n",
       " 'Wkt': 'LINESTRING (-70.153843479591174 41.706992727510141,-70.153932944523177 41.707016547034755,-70.154031954609749 41.70702533890438,-70.154184807948582 41.707013804006941,-70.154399251777008 41.706976316858956,-70.154539872460305 41.706941764806857,-70.154698006664574 41.706920762011656,-70.154996279821475 41.706888072748512,-70.155342587035804 41.706869292625669,-70.155474978634061 41.706863231118874,-70.155515500053895 41.706871335354428)',\n",
       " 'accesscont': 0,\n",
       " 'addedroadt': 0,\n",
       " 'adt': 0,\n",
       " 'adtderivat': 0,\n",
       " 'adtyear': 0,\n",
       " 'assigned_1': 0,\n",
       " 'assignedle': 0.0879,\n",
       " 'city': 75,\n",
       " 'county': 'A',\n",
       " 'curbs': 0,\n",
       " 'equation_1': 0.0,\n",
       " 'equationro': 0.0,\n",
       " 'facilityty': 1,\n",
       " 'federalaid': None,\n",
       " 'federalfun': 7,\n",
       " 'fromendtyp': 1,\n",
       " 'frommeasur': 0.0,\n",
       " 'fromstreet': 'EAST WEST DENNIS ROAD',\n",
       " 'functional': 0,\n",
       " 'hpmscode': 0,\n",
       " 'leftshou_1': 0,\n",
       " 'leftshould': 0,\n",
       " 'leftsidewa': 0,\n",
       " 'lifecycles': 3,\n",
       " 'massdothig': 5,\n",
       " 'mediantype': 0,\n",
       " 'medianwidt': 0,\n",
       " 'mhs': 0,\n",
       " 'mileagecou': 1,\n",
       " 'mpo': 'Cape Cod',\n",
       " 'municipals': 2,\n",
       " 'nhsstatus': 0,\n",
       " 'numberofpe': 0,\n",
       " 'numberoftr': 2,\n",
       " 'psi': 0.0,\n",
       " 'psiyear': 0,\n",
       " 'rightofway': 30,\n",
       " 'rightsho_1': 0,\n",
       " 'rightshoul': 0,\n",
       " 'rightsidew': 0,\n",
       " 'roadsegmen': 488023,\n",
       " 'routedirec': None,\n",
       " 'routefrom': 0.0,\n",
       " 'routekey': 'L221621',\n",
       " 'routenumbe': '221621',\n",
       " 'routesyste': 'L',\n",
       " 'routeto': 0.0,\n",
       " 'routetype': 0,\n",
       " 'rpa': 'CCC',\n",
       " 'shape_len': 141.515700995,\n",
       " 'speedlimit': 0,\n",
       " 'streetlist': 221621,\n",
       " 'streetna_1': None,\n",
       " 'streetname': 'SEAGRASS CIRCLE',\n",
       " 'streetoper': 2,\n",
       " 'structural': 1,\n",
       " 'surfacetyp': 6,\n",
       " 'surfacewid': 22,\n",
       " 'terrain': 1,\n",
       " 'toendtype': 2,\n",
       " 'tollroad': 0,\n",
       " 'tomeasure': 0.0879,\n",
       " 'tostreetna': 'Dead end',\n",
       " 'trucknetwo': 0,\n",
       " 'truckroute': 0,\n",
       " 'undivide_1': 0,\n",
       " 'undividedl': 0,\n",
       " 'urbanizeda': '05167',\n",
       " 'urbantype': 1}"
      ]
     },
     "execution_count": 8,
     "metadata": {},
     "output_type": "execute_result"
    }
   ],
   "source": [
    "graph.net[u][v]"
   ]
  },
  {
   "cell_type": "code",
   "execution_count": 11,
   "metadata": {
    "collapsed": false
   },
   "outputs": [],
   "source": [
    "dictlist = []\n",
    "\n",
    "for u,v in graph.net.edges_iter():\n",
    "    nd = {}\n",
    "    for var in reqs['Variable']:\n",
    "        nd[var]=graph.net[u][v][var]\n",
    "    dictlist.append(nd)\n",
    "    "
   ]
  },
  {
   "cell_type": "code",
   "execution_count": 12,
   "metadata": {
    "collapsed": false,
    "scrolled": false
   },
   "outputs": [],
   "source": [
    "newDB = pd.DataFrame(dictlist)"
   ]
  },
  {
   "cell_type": "code",
   "execution_count": 13,
   "metadata": {
    "collapsed": false
   },
   "outputs": [],
   "source": [
    "newDB.to_csv('/home/louisf/Documents/Insight/massdriver/data/intermediateGraphDB.csv')"
   ]
  },
  {
   "cell_type": "code",
   "execution_count": 14,
   "metadata": {
    "collapsed": true
   },
   "outputs": [],
   "source": [
    "nx.write_gpickle(graph.net, '/home/louisf/Documents/Insight/massdriver/data/largeGraph_filled.pickle')"
   ]
  },
  {
   "cell_type": "code",
   "execution_count": 26,
   "metadata": {
    "collapsed": false
   },
   "outputs": [
    {
     "ename": "NotImplementedError",
     "evalue": "Wrong number of arguments for overloaded function 'Feature_SetField'.\n  Possible C/C++ prototypes are:\n    SetField(OGRFeatureShadow *,int,char const *)\n    SetField(OGRFeatureShadow *,char const *,char const *)\n    SetField(OGRFeatureShadow *,int,double)\n    SetField(OGRFeatureShadow *,char const *,double)\n    SetField(OGRFeatureShadow *,int,int,int,int,int,int,float,int)\n    SetField(OGRFeatureShadow *,char const *,int,int,int,int,int,float,int)\n",
     "output_type": "error",
     "traceback": [
      "\u001b[1;31m---------------------------------------------------------------------------\u001b[0m",
      "\u001b[1;31mNotImplementedError\u001b[0m                       Traceback (most recent call last)",
      "\u001b[1;32m<ipython-input-26-c1facbdcc0cc>\u001b[0m in \u001b[0;36m<module>\u001b[1;34m()\u001b[0m\n\u001b[1;32m----> 1\u001b[1;33m \u001b[0mnx\u001b[0m\u001b[1;33m.\u001b[0m\u001b[0mwrite_shp\u001b[0m\u001b[1;33m(\u001b[0m\u001b[0mgraph\u001b[0m\u001b[1;33m.\u001b[0m\u001b[0mnet\u001b[0m\u001b[1;33m,\u001b[0m \u001b[1;34m'/home/louisf/Documents/Insight/massdriver/data/'\u001b[0m\u001b[1;33m)\u001b[0m\u001b[1;33m\u001b[0m\u001b[0m\n\u001b[0m",
      "\u001b[1;32m/home/louisf/anaconda3/lib/python3.5/site-packages/networkx/readwrite/nx_shp.py\u001b[0m in \u001b[0;36mwrite_shp\u001b[1;34m(G, outdir)\u001b[0m\n\u001b[0;32m    223\u001b[0m                         \u001b[0mattributes\u001b[0m\u001b[1;33m[\u001b[0m\u001b[0mkey\u001b[0m\u001b[1;33m]\u001b[0m \u001b[1;33m=\u001b[0m \u001b[0mdata\u001b[0m\u001b[1;33m\u001b[0m\u001b[0m\n\u001b[0;32m    224\u001b[0m         \u001b[1;31m# Create the feature with, passing new attribute data\u001b[0m\u001b[1;33m\u001b[0m\u001b[1;33m\u001b[0m\u001b[0m\n\u001b[1;32m--> 225\u001b[1;33m         \u001b[0mcreate_feature\u001b[0m\u001b[1;33m(\u001b[0m\u001b[0mg\u001b[0m\u001b[1;33m,\u001b[0m \u001b[0medges\u001b[0m\u001b[1;33m,\u001b[0m \u001b[0mattributes\u001b[0m\u001b[1;33m)\u001b[0m\u001b[1;33m\u001b[0m\u001b[0m\n\u001b[0m\u001b[0;32m    226\u001b[0m \u001b[1;33m\u001b[0m\u001b[0m\n\u001b[0;32m    227\u001b[0m     \u001b[0mnodes\u001b[0m\u001b[1;33m,\u001b[0m \u001b[0medges\u001b[0m \u001b[1;33m=\u001b[0m \u001b[1;32mNone\u001b[0m\u001b[1;33m,\u001b[0m \u001b[1;32mNone\u001b[0m\u001b[1;33m\u001b[0m\u001b[0m\n",
      "\u001b[1;32m/home/louisf/anaconda3/lib/python3.5/site-packages/networkx/readwrite/nx_shp.py\u001b[0m in \u001b[0;36mcreate_feature\u001b[1;34m(geometry, lyr, attributes)\u001b[0m\n\u001b[0;32m    168\u001b[0m             \u001b[1;31m# Loop through attributes, assigning data to each field\u001b[0m\u001b[1;33m\u001b[0m\u001b[1;33m\u001b[0m\u001b[0m\n\u001b[0;32m    169\u001b[0m             \u001b[1;32mfor\u001b[0m \u001b[0mfield\u001b[0m\u001b[1;33m,\u001b[0m \u001b[0mdata\u001b[0m \u001b[1;32min\u001b[0m \u001b[0mattributes\u001b[0m\u001b[1;33m.\u001b[0m\u001b[0mitems\u001b[0m\u001b[1;33m(\u001b[0m\u001b[1;33m)\u001b[0m\u001b[1;33m:\u001b[0m\u001b[1;33m\u001b[0m\u001b[0m\n\u001b[1;32m--> 170\u001b[1;33m                 \u001b[0mfeature\u001b[0m\u001b[1;33m.\u001b[0m\u001b[0mSetField\u001b[0m\u001b[1;33m(\u001b[0m\u001b[0mfield\u001b[0m\u001b[1;33m,\u001b[0m \u001b[0mdata\u001b[0m\u001b[1;33m)\u001b[0m\u001b[1;33m\u001b[0m\u001b[0m\n\u001b[0m\u001b[0;32m    171\u001b[0m         \u001b[0mlyr\u001b[0m\u001b[1;33m.\u001b[0m\u001b[0mCreateFeature\u001b[0m\u001b[1;33m(\u001b[0m\u001b[0mfeature\u001b[0m\u001b[1;33m)\u001b[0m\u001b[1;33m\u001b[0m\u001b[0m\n\u001b[0;32m    172\u001b[0m         \u001b[0mfeature\u001b[0m\u001b[1;33m.\u001b[0m\u001b[0mDestroy\u001b[0m\u001b[1;33m(\u001b[0m\u001b[1;33m)\u001b[0m\u001b[1;33m\u001b[0m\u001b[0m\n",
      "\u001b[1;32m/home/louisf/anaconda3/lib/python3.5/site-packages/osgeo/ogr.py\u001b[0m in \u001b[0;36mSetField\u001b[1;34m(self, *args)\u001b[0m\n\u001b[0;32m   3336\u001b[0m             \u001b[1;32mreturn\u001b[0m \u001b[0m_ogr\u001b[0m\u001b[1;33m.\u001b[0m\u001b[0mFeature_SetFieldString\u001b[0m\u001b[1;33m(\u001b[0m\u001b[0mself\u001b[0m\u001b[1;33m,\u001b[0m \u001b[0mfld_index\u001b[0m\u001b[1;33m,\u001b[0m \u001b[0margs\u001b[0m\u001b[1;33m[\u001b[0m\u001b[1;36m1\u001b[0m\u001b[1;33m]\u001b[0m\u001b[1;33m)\u001b[0m\u001b[1;33m\u001b[0m\u001b[0m\n\u001b[0;32m   3337\u001b[0m \u001b[1;33m\u001b[0m\u001b[0m\n\u001b[1;32m-> 3338\u001b[1;33m         \u001b[1;32mreturn\u001b[0m \u001b[0m_ogr\u001b[0m\u001b[1;33m.\u001b[0m\u001b[0mFeature_SetField\u001b[0m\u001b[1;33m(\u001b[0m\u001b[0mself\u001b[0m\u001b[1;33m,\u001b[0m \u001b[1;33m*\u001b[0m\u001b[0margs\u001b[0m\u001b[1;33m)\u001b[0m\u001b[1;33m\u001b[0m\u001b[0m\n\u001b[0m\u001b[0;32m   3339\u001b[0m \u001b[1;33m\u001b[0m\u001b[0m\n\u001b[0;32m   3340\u001b[0m     \u001b[1;32mdef\u001b[0m \u001b[0mSetField2\u001b[0m\u001b[1;33m(\u001b[0m\u001b[0mself\u001b[0m\u001b[1;33m,\u001b[0m \u001b[0mfld_index\u001b[0m\u001b[1;33m,\u001b[0m \u001b[0mvalue\u001b[0m\u001b[1;33m)\u001b[0m\u001b[1;33m:\u001b[0m\u001b[1;33m\u001b[0m\u001b[0m\n",
      "\u001b[1;31mNotImplementedError\u001b[0m: Wrong number of arguments for overloaded function 'Feature_SetField'.\n  Possible C/C++ prototypes are:\n    SetField(OGRFeatureShadow *,int,char const *)\n    SetField(OGRFeatureShadow *,char const *,char const *)\n    SetField(OGRFeatureShadow *,int,double)\n    SetField(OGRFeatureShadow *,char const *,double)\n    SetField(OGRFeatureShadow *,int,int,int,int,int,int,float,int)\n    SetField(OGRFeatureShadow *,char const *,int,int,int,int,int,float,int)\n"
     ]
    }
   ],
   "source": [
    "nx.write_shp(graph.net, '/home/louisf/Documents/Insight/massdriver/data/')"
   ]
  },
  {
   "cell_type": "code",
   "execution_count": null,
   "metadata": {
    "collapsed": true
   },
   "outputs": [],
   "source": [
    "newNet = nx.read_gpickle('/home/louisf/Documents/Insight/massdriver/data/largeGraph.npickle')"
   ]
  },
  {
   "cell_type": "code",
   "execution_count": null,
   "metadata": {
    "collapsed": true
   },
   "outputs": [],
   "source": [
    "# For each node on the edge, find the properties of the edges attached to that node."
   ]
  },
  {
   "cell_type": "code",
   "execution_count": null,
   "metadata": {
    "collapsed": true
   },
   "outputs": [],
   "source": [
    "# Find all properties that are with an acceptable range within that set, and use those to impute missing value."
   ]
  }
 ],
 "metadata": {
  "kernelspec": {
   "display_name": "Python 3",
   "language": "python",
   "name": "python3"
  },
  "language_info": {
   "codemirror_mode": {
    "name": "ipython",
    "version": 3
   },
   "file_extension": ".py",
   "mimetype": "text/x-python",
   "name": "python",
   "nbconvert_exporter": "python",
   "pygments_lexer": "ipython3",
   "version": "3.5.1"
  }
 },
 "nbformat": 4,
 "nbformat_minor": 0
}
