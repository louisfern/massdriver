{
 "cells": [
  {
   "cell_type": "markdown",
   "metadata": {},
   "source": [
    "## This notebook describes my imputation procedure for filling in missing values in my edge properties."
   ]
  },
  {
   "cell_type": "code",
   "execution_count": 1,
   "metadata": {
    "collapsed": false
   },
   "outputs": [
    {
     "name": "stderr",
     "output_type": "stream",
     "text": [
      "/home/louisf/anaconda3/lib/python3.5/site-packages/matplotlib/font_manager.py:280: UserWarning: Matplotlib is building the font cache using fc-list. This may take a moment.\n",
      "  'Matplotlib is building the font cache using fc-list. '\n"
     ]
    }
   ],
   "source": [
    "# Imports and miscellany\n",
    "\n",
    "import csv\n",
    "import itertools\n",
    "import pickle\n",
    "import string\n",
    "import graphHandler as gh\n",
    "import inventoryCleaner as iC\n",
    "import networkx as nx\n",
    "import numpy as np\n",
    "import pandas as pd\n",
    "import more_itertools\n",
    "from matplotlib import pyplot as plt\n",
    "\n",
    "%matplotlib inline\n",
    "\n",
    "# Helper functions\n",
    "\n",
    "def representsInt(s):\n",
    "    try: \n",
    "        int(s)\n",
    "        return True\n",
    "    except ValueError:\n",
    "        return False\n",
    "\n",
    "def buildRange(x):\n",
    "    result = []\n",
    "    if pd.isnull(x)==True:\n",
    "        return np.nan\n",
    "    for part in x.split(','):\n",
    "        if '-' in part:\n",
    "            a, b = part.split('-')\n",
    "            if (representsInt(a)==False):\n",
    "                strarr = []\n",
    "                for i in range(ord(a), ord(b)+1):\n",
    "                    strarr.append(chr(i))\n",
    "                result.extend(strarr)\n",
    "            else:\n",
    "                a, b = int(a), int(b)\n",
    "                result.extend(range(a, b + 1))\n",
    "        else:\n",
    "            if (representsInt(part)==False):\n",
    "                result.append(part)\n",
    "            else:\n",
    "                a = int(part)\n",
    "                result.append(a)\n",
    "    return result\n",
    "\n",
    "def existin(x):\n",
    "    r = reqs[reqs['Variable']==x]['Reasonable range'].tolist()\n",
    "    return r\n",
    "\n",
    "def returnProps(net, u, v, prop):\n",
    "    return net[u][v][prop]\n",
    "\n",
    "def returnNeighborProps(net,u,v,props):\n",
    "    propertyTracker = {el:[] for el in props}\n",
    "    neighbors = net.neighbors(u)\n",
    "    for n in neighbors:\n",
    "        for p in props:\n",
    "            newp = returnProps(net, u, n, p)\n",
    "            if (type(newp)=='NoneType')==False:\n",
    "                propertyTracker[p].append(newp)\n",
    "    neighbors = net.neighbors(v)\n",
    "    for n in neighbors:\n",
    "        for p in props:\n",
    "            newp = returnProps(net, n, v, p)\n",
    "            if (type(newp)=='NoneType')==False:\n",
    "                propertyTracker[p].append(newp)\n",
    "    return propertyTracker\n",
    "\n",
    "def getConsensus(props, reqs):\n",
    "# This function takes in a dict of missing properties and returns the appropriate value after\n",
    "# accounting for categorical or numerical.\n",
    "    bestGuess = {el:0 for el in props}\n",
    "    for key in props:\n",
    "        iscategorical = reqs.ix[reqs['Variable']==key, 'Categorical']\n",
    "        if iscategorical.values[0]:\n",
    "            bestGuess[key]=np.random.choice(props[key])\n",
    "        else:\n",
    "            bestGuess[key]=np.mean(props[key])\n",
    "    return bestGuess"
   ]
  },
  {
   "cell_type": "code",
   "execution_count": null,
   "metadata": {
    "collapsed": false
   },
   "outputs": [],
   "source": [
    "# The first step is to bring in a CSV full of properties and requirements for my data set. \n",
    "\n",
    "pathtoreqs = '/home/louisf/Documents/Insight/massdriver/docs/road_inventory_params.csv'\n",
    "reqs = pd.read_csv(pathtoreqs, delimiter = '^')"
   ]
  },
  {
   "cell_type": "code",
   "execution_count": null,
   "metadata": {
    "collapsed": false,
    "scrolled": true
   },
   "outputs": [],
   "source": [
    "# Do a little bit of cleaning to convert some stuff and drop some rows\n",
    "reqs['Reasonable range'] = reqs['Reasonable range'].map(buildRange)\n",
    "reqs = reqs[reqs['Disqualify']==False]"
   ]
  },
  {
   "cell_type": "code",
   "execution_count": null,
   "metadata": {
    "collapsed": false,
    "scrolled": true
   },
   "outputs": [],
   "source": [
    "# Load in my database \n",
    "fpath = '/home/louisf/Documents/Insight/massdriver/data/raw/shapefile/RoadInventory.geojson'\n",
    "pdinv = iC.PDInventory('roadInventory', 'test')\n",
    "pdinv.geojsontodf(fpath)\n",
    "\n",
    "toy = pdinv.table\n",
    "for colname in toy.columns:\n",
    "    if (sum(colname==reqs['Variable'])!=1):\n",
    "        toy.drop(colname, inplace=True, axis=1)\n",
    "        \n"
   ]
  },
  {
   "cell_type": "code",
   "execution_count": null,
   "metadata": {
    "collapsed": false,
    "scrolled": false
   },
   "outputs": [],
   "source": [
    "# Check on how many of the remaining features exceed some threshold of in-range values.\n",
    "\n",
    "df = pd.DataFrame(index=toy.columns,columns=['value', 'hasbounds'])\n",
    "\n",
    "for colname in toy.columns:\n",
    "    nrange = existin(colname)[0]\n",
    "    if type(nrange)!=float:\n",
    "        df.loc[colname]= sum(toy[colname].isin(nrange))\n",
    "        \n",
    "for row in df.index:\n",
    "    r = existin(row)[0]\n",
    "    if type(r) == float:\n",
    "        df.loc[row]['hasbounds'] = False\n",
    "    else:\n",
    "        df.loc[row]['hasbounds'] = True\n",
    "\n",
    "# Examine only entries with bounds for removal:\n",
    "\n",
    "df.loc[df['hasbounds']==True]\n",
    "df.loc[df['hasbounds']==True].value.plot(kind='bar')\n",
    "\n",
    "# Drop all entries with fewer than 10% of values within bounds\n",
    "df = df[df['value']<50000]\n",
    "\n",
    "# The indices of df correspond to all of the properties we will drop from our table.\n",
    "\n",
    "# Based on this inspection, we will drop:\n",
    "# fromcity\n",
    "# fromstate\n",
    "# fromstreet\n",
    "# iristatus\n",
    "# jurisdicti\n",
    "# opposingdi\n",
    "# oppositenu\n",
    "# tostate\n",
    "\n",
    "# This removal occurs in road_inventory_params."
   ]
  },
  {
   "cell_type": "code",
   "execution_count": null,
   "metadata": {
    "collapsed": false,
    "scrolled": true
   },
   "outputs": [],
   "source": [
    "# Next, I will load in my graph. I will use the pickle I generated previously.\n",
    "picklepath = '/home/louisf/Documents/Insight/massdriver/notebooks/graph_with_risk2.pickle'\n",
    "graph = nx.read_gpickle(picklepath)"
   ]
  },
  {
   "cell_type": "code",
   "execution_count": null,
   "metadata": {
    "collapsed": false
   },
   "outputs": [],
   "source": [
    "newNet = graph.net"
   ]
  },
  {
   "cell_type": "code",
   "execution_count": null,
   "metadata": {
    "collapsed": false,
    "scrolled": true
   },
   "outputs": [],
   "source": [
    "# Just kidding! I need to generate a new graph with all of the properties I am interested in.\n",
    "\n",
    "graph = gh.NetworkGenerator()\n",
    "filepath = '/home/louisf/Documents/Insight/massdriver/data/raw/shapefile/RI_converted.shp'\n",
    "graph.loadGraph(filepath=filepath, fields=toy.columns.tolist(), simplify=True)\n",
    "#newNet = graph.net"
   ]
  },
  {
   "cell_type": "code",
   "execution_count": null,
   "metadata": {
    "collapsed": true
   },
   "outputs": [],
   "source": []
  },
  {
   "cell_type": "code",
   "execution_count": null,
   "metadata": {
    "collapsed": false,
    "scrolled": true
   },
   "outputs": [],
   "source": [
    "# Iterate over each edge. Find the properties on that edge that are missing. \n",
    "importantProperties = toy.columns.tolist()\n",
    "nrange = reqs['Reasonable range']\n",
    "it=0\n",
    "for u,v in graph.net.edges_iter():\n",
    "    g = graph.net[u][v]\n",
    "    missingProps = []\n",
    "    for props in importantProperties:\n",
    "        nrange = reqs.loc[reqs['Variable']==props]['Reasonable range']\n",
    "        if len(nrange.tolist())>0:\n",
    "            if type(nrange.tolist()[0])!=float:\n",
    "                if ((g[props] in nrange.tolist()[0])==False):\n",
    "                    missingProps.append(props)\n",
    "    neighborProps = returnNeighborProps(graph.net, u, v, missingProps)\n",
    "    newvals = getConsensus(neighborProps, reqs)\n",
    "    for key, value in newvals.items():\n",
    "        graph.net[u][v][key]=value\n",
    "    if(it%10000==0):\n",
    "        print(it)\n",
    "    it+=1\n"
   ]
  },
  {
   "cell_type": "code",
   "execution_count": null,
   "metadata": {
    "collapsed": false,
    "scrolled": true
   },
   "outputs": [],
   "source": [
    "graph.net[u][v]"
   ]
  },
  {
   "cell_type": "code",
   "execution_count": null,
   "metadata": {
    "collapsed": false
   },
   "outputs": [],
   "source": [
    "dictlist = []\n",
    "\n",
    "for u,v in graph.net.edges_iter():\n",
    "    nd = {}\n",
    "    for var in reqs['Variable']:\n",
    "        nd[var]=graph.net[u][v][var]\n",
    "    dictlist.append(nd)\n",
    "    "
   ]
  },
  {
   "cell_type": "code",
   "execution_count": null,
   "metadata": {
    "collapsed": false,
    "scrolled": false
   },
   "outputs": [],
   "source": [
    "newDB = pd.DataFrame(dictlist)"
   ]
  },
  {
   "cell_type": "code",
   "execution_count": null,
   "metadata": {
    "collapsed": false
   },
   "outputs": [],
   "source": [
    "newDB.to_csv('/home/louisf/Documents/Insight/massdriver/data/imputedDF.csv')"
   ]
  },
  {
   "cell_type": "code",
   "execution_count": null,
   "metadata": {
    "collapsed": true
   },
   "outputs": [],
   "source": [
    "nx.write_gpickle(graph.net, '/home/louisf/Documents/Insight/massdriver/data/largeGraph_filled2.pickle')"
   ]
  },
  {
   "cell_type": "code",
   "execution_count": null,
   "metadata": {
    "collapsed": false
   },
   "outputs": [],
   "source": [
    "nx.write_shp(graph.net, '/home/louisf/Documents/Insight/massdriver/data/')"
   ]
  },
  {
   "cell_type": "code",
   "execution_count": null,
   "metadata": {
    "collapsed": false
   },
   "outputs": [],
   "source": [
    "newNet = nx.read_gpickle('/home/louisf/Documents/Insight/massdriver/data/largeGraph_filled2.pickle')"
   ]
  },
  {
   "cell_type": "code",
   "execution_count": null,
   "metadata": {
    "collapsed": true
   },
   "outputs": [],
   "source": [
    "# This block traverses a graph and removes most of the properties for storage reasons.\n",
    "\n",
    "\n",
    "to_keep = ['roadsegmen','assignedle','Json', 'Wkb', 'Wkt']\n",
    "for u,v in newNet.edges_iter():\n",
    "    for key in newNet.edge[u][v].copy():\n",
    "        if key not in to_keep:\n",
    "            del newNet.edge[u][v][key]"
   ]
  },
  {
   "cell_type": "code",
   "execution_count": null,
   "metadata": {
    "collapsed": false,
    "scrolled": true
   },
   "outputs": [],
   "source": [
    "nx.write_gpickle(newNet, '/home/louisf/Documents/Insight/massdriver/data/latest_reduced_needs_risk.pickle')"
   ]
  },
  {
   "cell_type": "code",
   "execution_count": null,
   "metadata": {
    "collapsed": true
   },
   "outputs": [],
   "source": [
    "# For each node on the edge, find the properties of the edges attached to that node."
   ]
  },
  {
   "cell_type": "markdown",
   "metadata": {},
   "source": [
    "### This section is to test functionality of returning path weights."
   ]
  },
  {
   "cell_type": "code",
   "execution_count": null,
   "metadata": {
    "collapsed": false
   },
   "outputs": [],
   "source": [
    "    net = nx.read_gpickle('/home/louisf/Documents/Insight/massdriver/data/filled_reduced_needs_risk.pickle')\n",
    "# net = nx.read_gpickle('/home/louisf/Documents/Insight/massdriver/data/largeGraph_filled.pickle')\n",
    "# net = nx.read_gpickle('/home/louisf/Documents/Insight/massdriver/notebooks/graph_with_risk.pickle')"
   ]
  },
  {
   "cell_type": "code",
   "execution_count": null,
   "metadata": {
    "collapsed": false,
    "scrolled": true
   },
   "outputs": [],
   "source": [
    "# Set up a test path\n",
    "weight = 'assignedle'\n",
    "path = gh.pathingSolution(net, 42.3598991, -71.05829879999999, 42.296797, -71.2923877, weight=weight)\n"
   ]
  },
  {
   "cell_type": "code",
   "execution_count": null,
   "metadata": {
    "collapsed": false,
    "scrolled": true
   },
   "outputs": [],
   "source": [
    "# Traverse the graph and sum up the weights\n",
    "newpath = gh.pathAlign(net, path)"
   ]
  },
  {
   "cell_type": "code",
   "execution_count": null,
   "metadata": {
    "collapsed": false
   },
   "outputs": [],
   "source": [
    "gh.findClosestNode(net, 42.3598991, -71.058298799999)"
   ]
  },
  {
   "cell_type": "code",
   "execution_count": null,
   "metadata": {
    "collapsed": true
   },
   "outputs": [],
   "source": [
    "import scipy.spatial as sp"
   ]
  },
  {
   "cell_type": "code",
   "execution_count": null,
   "metadata": {
    "collapsed": false
   },
   "outputs": [],
   "source": [
    "points = np.asarray(net.nodes())"
   ]
  },
  {
   "cell_type": "code",
   "execution_count": null,
   "metadata": {
    "collapsed": false
   },
   "outputs": [],
   "source": [
    "tree = gh.generateKDTree(net)"
   ]
  },
  {
   "cell_type": "code",
   "execution_count": null,
   "metadata": {
    "collapsed": false
   },
   "outputs": [],
   "source": [
    "dist, indexes = tree.query(path)"
   ]
  },
  {
   "cell_type": "code",
   "execution_count": null,
   "metadata": {
    "collapsed": false
   },
   "outputs": [],
   "source": [
    "type(points[indexes])"
   ]
  },
  {
   "cell_type": "code",
   "execution_count": null,
   "metadata": {
    "collapsed": true
   },
   "outputs": [],
   "source": [
    "n = (-71.289882048538956, 42.297668996193117)"
   ]
  },
  {
   "cell_type": "code",
   "execution_count": null,
   "metadata": {
    "collapsed": false
   },
   "outputs": [],
   "source": [
    "path =list(map(tuple, [[-71.29238000000001, 42.29677], [-71.29048, 42.2974], [-71.29018, 42.29751], [-71.28997000000001, 42.297610000000006], [-71.28966000000001, 42.2978], [-71.28948000000001, 42.29796], [-71.28931, 42.29816], [-71.28824, 42.29974000000001], [-71.28751000000001, 42.3008], [-71.28699, 42.30147], [-71.2866, 42.30194], [-71.28612000000001, 42.302490000000006], [-71.28562000000001, 42.303020000000004], [-71.28500000000001, 42.303650000000005], [-71.28468000000001, 42.303940000000004], [-71.28429000000001, 42.30422], [-71.28290000000001, 42.305240000000005], [-71.28204000000001, 42.305870000000006], [-71.28058, 42.30686], [-71.27933, 42.307750000000006], [-71.27857, 42.308310000000006], [-71.27821, 42.30861], [-71.27695, 42.30984], [-71.27619, 42.31062], [-71.27600000000001, 42.31078], [-71.27544, 42.31136], [-71.27506000000001, 42.31175], [-71.27421000000001, 42.31264], [-71.27392, 42.31295], [-71.27369, 42.31317000000001], [-71.27339, 42.31347], [-71.27269000000001, 42.31396], [-71.27168, 42.31456], [-71.2703, 42.31548], [-71.26913, 42.316250000000004], [-71.26762000000001, 42.31732], [-71.26621, 42.3183], [-71.26541, 42.3188], [-71.26504, 42.31908000000001], [-71.26487, 42.319230000000005], [-71.26455, 42.31956], [-71.26443, 42.319720000000004], [-71.2643, 42.319900000000004], [-71.26419, 42.32009], [-71.2637, 42.32105000000001], [-71.26361, 42.32126], [-71.2634, 42.32182], [-71.26318, 42.32235], [-71.26291, 42.32285], [-71.26265000000001, 42.32323], [-71.2624, 42.32358000000001], [-71.26214, 42.323840000000004], [-71.26123000000001, 42.324650000000005], [-71.26104000000001, 42.32481000000001], [-71.26066, 42.32499000000001], [-71.26033000000001, 42.32509], [-71.26009, 42.325140000000005], [-71.25907000000001, 42.325230000000005], [-71.25797, 42.325340000000004], [-71.25769000000001, 42.32537000000001], [-71.25783000000001, 42.325630000000004], [-71.25803, 42.32594], [-71.25852, 42.326480000000004], [-71.25892, 42.32688], [-71.25907000000001, 42.32696000000001], [-71.25938000000001, 42.327070000000006], [-71.2613, 42.32772000000001], [-71.26285, 42.328250000000004], [-71.26668000000001, 42.32961], [-71.26699, 42.32977], [-71.26763000000001, 42.33017], [-71.26776000000001, 42.330290000000005], [-71.26788, 42.33044], [-71.26823, 42.33117], [-71.26877, 42.332440000000005], [-71.26884000000001, 42.332660000000004], [-71.26885, 42.33288], [-71.26882, 42.333070000000006], [-71.26862000000001, 42.33381000000001], [-71.26839000000001, 42.33465], [-71.26826000000001, 42.334990000000005], [-71.26787, 42.335840000000005], [-71.26725, 42.337390000000006], [-71.2672, 42.337540000000004], [-71.26719, 42.337680000000006], [-71.26692, 42.33785], [-71.26672, 42.337860000000006], [-71.26634, 42.33789], [-71.26595, 42.33796], [-71.26572, 42.338010000000004], [-71.26549, 42.33811], [-71.26504, 42.33836], [-71.26453000000001, 42.3387], [-71.26395000000001, 42.33905], [-71.26275000000001, 42.339830000000006], [-71.26135000000001, 42.34076], [-71.26075, 42.34114], [-71.26033000000001, 42.341370000000005], [-71.26004, 42.3415], [-71.25983000000001, 42.341590000000004], [-71.25921000000001, 42.341820000000006], [-71.25864, 42.34199], [-71.25638000000001, 42.34257], [-71.25557, 42.34279], [-71.25512, 42.34295], [-71.25423, 42.34337], [-71.25364, 42.34371], [-71.25321000000001, 42.344], [-71.25215, 42.34469], [-71.25181, 42.3449], [-71.25122, 42.34519], [-71.25068, 42.34541], [-71.25019, 42.34557], [-71.24971000000001, 42.3457], [-71.24899, 42.345850000000006], [-71.2484, 42.34593], [-71.24197000000001, 42.34653], [-71.23795000000001, 42.346880000000006], [-71.23530000000001, 42.346970000000006], [-71.23421, 42.34707], [-71.23209, 42.347390000000004], [-71.23013, 42.34761], [-71.22837000000001, 42.347770000000004], [-71.22579, 42.34801], [-71.22452000000001, 42.348130000000005], [-71.22352000000001, 42.348240000000004], [-71.2226, 42.348380000000006], [-71.22196000000001, 42.3485], [-71.22062000000001, 42.34879], [-71.21675, 42.34966], [-71.21538000000001, 42.34993], [-71.21442, 42.35007], [-71.2112, 42.350500000000004], [-71.20956000000001, 42.35071000000001], [-71.20713, 42.351090000000006], [-71.20606000000001, 42.3513], [-71.20450000000001, 42.35164], [-71.20333000000001, 42.35192000000001], [-71.20225, 42.35222], [-71.19566, 42.35414], [-71.19406000000001, 42.354560000000006], [-71.19308000000001, 42.35477], [-71.19030000000001, 42.35537], [-71.18875, 42.35569], [-71.18801, 42.35584], [-71.1855, 42.35627], [-71.18365, 42.35665], [-71.18201, 42.357020000000006], [-71.18056, 42.357330000000005], [-71.1798, 42.357490000000006], [-71.17909, 42.357620000000004], [-71.17814, 42.35772], [-71.17693000000001, 42.357760000000006], [-71.17634000000001, 42.35775], [-71.17335, 42.35761], [-71.16859000000001, 42.357420000000005], [-71.16684000000001, 42.35739], [-71.16486, 42.357420000000005], [-71.16226, 42.3575], [-71.16204, 42.357510000000005], [-71.15815, 42.35763], [-71.1575, 42.35766], [-71.15462000000001, 42.35775], [-71.15316, 42.35779], [-71.15191, 42.35783000000001], [-71.15091000000001, 42.3579], [-71.14877, 42.35815], [-71.14784, 42.35824], [-71.14755000000001, 42.35826], [-71.14675000000001, 42.358270000000005], [-71.14607000000001, 42.358250000000005], [-71.14542, 42.35819], [-71.13857, 42.35732], [-71.13815000000001, 42.35727000000001], [-71.13506000000001, 42.356860000000005], [-71.13146, 42.35638], [-71.13090000000001, 42.35633000000001], [-71.13061, 42.356320000000004], [-71.12997, 42.356320000000004], [-71.12926, 42.35636], [-71.12871000000001, 42.35643], [-71.12805, 42.356550000000006], [-71.12768000000001, 42.356640000000006], [-71.12624000000001, 42.35699], [-71.12554, 42.35712], [-71.12434, 42.35723], [-71.123, 42.35725], [-71.12237, 42.357220000000005], [-71.12189000000001, 42.35717], [-71.12140000000001, 42.357110000000006], [-71.12079, 42.357000000000006], [-71.12046000000001, 42.35692], [-71.12026, 42.35685], [-71.11999, 42.35672], [-71.11973, 42.35656], [-71.11945, 42.35634], [-71.11924, 42.35611], [-71.11897, 42.35573], [-71.11885000000001, 42.35551], [-71.11882, 42.35537], [-71.11838, 42.3547], [-71.11832000000001, 42.354670000000006], [-71.11819000000001, 42.35448], [-71.11785, 42.354110000000006], [-71.11744, 42.353790000000004], [-71.11699, 42.35351], [-71.11396, 42.35193], [-71.11347, 42.3517], [-71.11295000000001, 42.351510000000005], [-71.11243, 42.3513], [-71.11193, 42.351060000000004], [-71.10995000000001, 42.34996], [-71.10944, 42.34971], [-71.10893, 42.349500000000006], [-71.1084, 42.34931], [-71.10785, 42.349140000000006], [-71.10729, 42.349000000000004], [-71.10673, 42.348890000000004], [-71.10157000000001, 42.3479], [-71.10088, 42.34781], [-71.10025, 42.347750000000005], [-71.09966, 42.347730000000006], [-71.09035, 42.34778], [-71.08981, 42.34776], [-71.08936, 42.347730000000006], [-71.08889, 42.34767], [-71.08801000000001, 42.347570000000005], [-71.08761000000001, 42.347550000000005], [-71.08138000000001, 42.347640000000006], [-71.07932000000001, 42.34767], [-71.07748000000001, 42.34772], [-71.07369, 42.34783], [-71.06978000000001, 42.34783], [-71.06948000000001, 42.34783], [-71.06918, 42.347820000000006], [-71.06859, 42.34778], [-71.06657000000001, 42.34752], [-71.06598000000001, 42.34743], [-71.06544000000001, 42.34731], [-71.06419000000001, 42.347], [-71.06391, 42.346940000000004], [-71.06245000000001, 42.34662], [-71.06206, 42.346560000000004], [-71.06174, 42.34651], [-71.06146000000001, 42.346470000000004], [-71.06093, 42.346410000000006], [-71.06038000000001, 42.34637], [-71.05992, 42.346360000000004], [-71.05951, 42.34639000000001], [-71.05914, 42.346450000000004], [-71.05883, 42.34653], [-71.05839, 42.346700000000006], [-71.05814000000001, 42.34684], [-71.05794, 42.347], [-71.05777, 42.34716], [-71.05756000000001, 42.3474], [-71.05744, 42.34763], [-71.05716000000001, 42.3485], [-71.05697, 42.349120000000006], [-71.05683, 42.34942], [-71.05619, 42.350680000000004], [-71.05576, 42.35161], [-71.05566, 42.35197], [-71.05547, 42.35226], [-71.05529, 42.35249], [-71.05507, 42.352700000000006], [-71.05481, 42.352900000000005], [-71.05446, 42.353100000000005], [-71.05404, 42.353300000000004], [-71.05174000000001, 42.354350000000004], [-71.05141, 42.35452], [-71.05113, 42.35472], [-71.05092, 42.354890000000005], [-71.05075000000001, 42.35512000000001], [-71.05047, 42.35564], [-71.05039000000001, 42.355940000000004], [-71.05039000000001, 42.356280000000005], [-71.05047, 42.35665], [-71.05058000000001, 42.357000000000006], [-71.05074, 42.3573], [-71.05102000000001, 42.357780000000005], [-71.05153, 42.35850000000001], [-71.05173, 42.35891], [-71.05168, 42.359030000000004], [-71.05183000000001, 42.359440000000006], [-71.05212, 42.36007], [-71.05223000000001, 42.360240000000005], [-71.05236000000001, 42.36037], [-71.05245000000001, 42.36047000000001], [-71.05265, 42.36065000000001], [-71.05271, 42.36068], [-71.0528, 42.36075], [-71.05296, 42.360870000000006], [-71.05328, 42.3611], [-71.05424000000001, 42.36159000000001], [-71.05449, 42.361700000000006], [-71.05465000000001, 42.361740000000005], [-71.05488000000001, 42.36173], [-71.05499, 42.36169], [-71.05510000000001, 42.36162], [-71.05518000000001, 42.36157], [-71.05539, 42.36133], [-71.05554000000001, 42.36112000000001], [-71.05589, 42.360730000000004], [-71.05607, 42.36061], [-71.05644000000001, 42.36045], [-71.05716000000001, 42.36027000000001], [-71.05730000000001, 42.360240000000005], [-71.05726, 42.36009000000001], [-71.05703000000001, 42.359280000000005], [-71.05689000000001, 42.358880000000006], [-71.05721000000001, 42.358850000000004], [-71.05771, 42.358830000000005], [-71.05782, 42.358830000000005], [-71.05824000000001, 42.358920000000005], [-71.05861, 42.359], [-71.05892, 42.35911], [-71.05930000000001, 42.35922], [-71.0595, 42.35933], [-71.05963000000001, 42.35942], [-71.05968, 42.35952], [-71.05981, 42.359820000000006]]))\n"
   ]
  },
  {
   "cell_type": "code",
   "execution_count": null,
   "metadata": {
    "collapsed": false
   },
   "outputs": [],
   "source": [
    "p2 = gh.pathAlign(net, path)"
   ]
  },
  {
   "cell_type": "code",
   "execution_count": null,
   "metadata": {
    "collapsed": false,
    "scrolled": true
   },
   "outputs": [],
   "source": [
    "p2"
   ]
  },
  {
   "cell_type": "code",
   "execution_count": null,
   "metadata": {
    "collapsed": false,
    "scrolled": true
   },
   "outputs": [],
   "source": [
    "newp = linkShortPaths(net, p2, \"assignedle\")"
   ]
  },
  {
   "cell_type": "code",
   "execution_count": null,
   "metadata": {
    "collapsed": true
   },
   "outputs": [],
   "source": [
    "def linkShortPaths(network, path, weight):\n",
    "    newpath = []\n",
    "    it = 0\n",
    "    for node in path:\n",
    "        it += 1\n",
    "        if it == len(path):\n",
    "            return newpath\n",
    "        if net.has_edge(node,path[it])==False:\n",
    "            try:\n",
    "               # np = gh.getShortestPath(network, node, path[it], weight=weight)\n",
    "                dist, np = nx.single_source_dijkstra(network, node, target=path[it], cutoff=30, weight=weight)\n",
    "                #print(np)\n",
    "                newpath.append(np)\n",
    "            except nx.NetworkXNoPath as netx:\n",
    "                print(netx.args)\n",
    "        else:\n",
    "            newpath.append(node)\n"
   ]
  },
  {
   "cell_type": "code",
   "execution_count": null,
   "metadata": {
    "collapsed": false
   },
   "outputs": [],
   "source": [
    "np"
   ]
  },
  {
   "cell_type": "code",
   "execution_count": null,
   "metadata": {
    "collapsed": false
   },
   "outputs": [],
   "source": [
    "#path = gh.pathAlign(net, path)\n",
    "\n",
    "n2 = linkShortPaths(net, p2, 'assignedle')"
   ]
  },
  {
   "cell_type": "code",
   "execution_count": null,
   "metadata": {
    "collapsed": false
   },
   "outputs": [],
   "source": [
    "n2[0]"
   ]
  },
  {
   "cell_type": "code",
   "execution_count": null,
   "metadata": {
    "collapsed": false
   },
   "outputs": [],
   "source": [
    "nx.shortest_path(net, (-71.292145228653681, 42.296852234559893),(-71.289882048538956, 42.297668996193117), weight='assignedle')"
   ]
  }
 ],
 "metadata": {
  "kernelspec": {
   "display_name": "Python 3",
   "language": "python",
   "name": "python3"
  },
  "language_info": {
   "codemirror_mode": {
    "name": "ipython",
    "version": 3
   },
   "file_extension": ".py",
   "mimetype": "text/x-python",
   "name": "python",
   "nbconvert_exporter": "python",
   "pygments_lexer": "ipython3",
   "version": "3.5.3"
  }
 },
 "nbformat": 4,
 "nbformat_minor": 0
}
