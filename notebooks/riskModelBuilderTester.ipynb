{
 "cells": [
  {
   "cell_type": "code",
   "execution_count": 1,
   "metadata": {
    "collapsed": false
   },
   "outputs": [],
   "source": [
    "import riskModelBuilder as rmb\n",
    "import numpy as np\n",
    "import pandas as pd\n",
    "%matplotlib inline\n",
    "from sklearn import preprocessing as skpre\n",
    "from matplotlib import pyplot as plt\n",
    "import seaborn as sb"
   ]
  },
  {
   "cell_type": "code",
   "execution_count": null,
   "metadata": {
    "collapsed": true
   },
   "outputs": [],
   "source": [
    "min_set = [\n",
    "    'index',\n",
    "    'addedroadt',\n",
    "    'accesscont',\n",
    "    'adtderivat',\n",
    "    'adtstation',\n",
    "    'adtyear',\n",
    "    'assigned_1',\n",
    "    'assignedle',\n",
    "    'city',\n",
    "    'county',\n",
    "    'crn',\n",
    "    'curbs',\n",
    "    'dateactive',\n",
    "    'equation_1',\n",
    "    'equationro',\n",
    "    'facilityty',\n",
    "    'federalaid',\n",
    "    'fromcity',\n",
    "    'fromendtyp',\n",
    "    'frommeasur',\n",
    "    'fromstate',\n",
    "    'fromstreet',\n",
    "    'functional',\n",
    "    'futurefaci',\n",
    "    'hpmscode',\n",
    "    'hpmssample',\n",
    "    'iri',\n",
    "    'iriyear',\n",
    "    'iristatus',\n",
    "    'item_id',\n",
    "    'jurisdicti',\n",
    "    'leftshou_1',\n",
    "    'leftshould',\n",
    "    'leftsidewa',\n",
    "    'lifecycles',\n",
    "    'massdothig',\n",
    "    'mhs',\n",
    "    'mileagecou',\n",
    "    'mpo',\n",
    "    'municipals',\n",
    "    'naccidents',\n",
    "    'nhsstatus',\n",
    "    'numberofpe',\n",
    "    'opposingdi',\n",
    "    'oppositenu',\n",
    "    'psi',\n",
    "    'psiyear',\n",
    "    'rightsho_1',\n",
    "    'rightshoul',\n",
    "    'rightsidew',\n",
    "    'rpa',\n",
    "    'roadinvent',\n",
    "    'roadsegmen',\n",
    "    'routedirec',\n",
    "    'routefrom',\n",
    "    'routequali',\n",
    "    'routekey',\n",
    "    'routenumbe',\n",
    "    'routesyste',\n",
    "    'routeto',\n",
    "    'routetype',\n",
    "    'urbanizeda',\n",
    "    'undivide_1',\n",
    "    'undividedl',\n",
    "    'shape_len',\n",
    "    'speedlimit',\n",
    "    'streetlist',\n",
    "    'streetna_1',\n",
    "    'streetname',\n",
    "    'streetoper',\n",
    "    'subroute',\n",
    "    'surfacetyp',\n",
    "    'surfacewid',\n",
    "    'tocity',\n",
    "    'toendtype',\n",
    "    'tollroad',\n",
    "    'tomeasure',\n",
    "    'tostate',\n",
    "    'tostreetna',\n",
    "    'trucknetwo',\n",
    "    'truckroute']"
   ]
  },
  {
   "cell_type": "code",
   "execution_count": 2,
   "metadata": {
    "collapsed": true
   },
   "outputs": [],
   "source": [
    "min_set = [\n",
    "    'naccidents',\n",
    "    'adt'\n",
    "]"
   ]
  },
  {
   "cell_type": "code",
   "execution_count": null,
   "metadata": {
    "collapsed": false
   },
   "outputs": [],
   "source": [
    "mb.traindata.shape"
   ]
  },
  {
   "cell_type": "code",
   "execution_count": 3,
   "metadata": {
    "collapsed": false
   },
   "outputs": [],
   "source": [
    "# Gather all data and do some cleaning\n",
    "\n",
    "mb = rmb.Alldata('roadInventory', 'segments_full')\n",
    "mb.getData()\n",
    "mb.cleanData(todrop=min_set)"
   ]
  },
  {
   "cell_type": "code",
   "execution_count": 29,
   "metadata": {
    "collapsed": false
   },
   "outputs": [],
   "source": [
    "tested = mb.test[35000:, :]\n",
    "N = mb.test[35000:,:].shape[0]\n",
    "N2 = mb.test[35000:,:].shape[1]\n",
    "b = np.zeros((N, N2 + 2))\n",
    "b[:,:-2] = mb.test[35000:,:]\n",
    "b[:,-2] = y_test\n",
    "b[:,-1] = rf_pred"
   ]
  },
  {
   "cell_type": "code",
   "execution_count": 30,
   "metadata": {
    "collapsed": false
   },
   "outputs": [],
   "source": [
    "np.savetxt('prediction.csv', b, delimiter = ',')"
   ]
  },
  {
   "cell_type": "code",
   "execution_count": 4,
   "metadata": {
    "collapsed": false,
    "scrolled": true
   },
   "outputs": [],
   "source": [
    "# Perform a random forest regression \n",
    "\n",
    "trainer = rmb.Model()\n",
    "\n",
    "y = mb.traindata[:,-1]\n",
    "X = mb.traindata[:,:-1]\n",
    "\n",
    "n_estimators = 100\n",
    "test_frac = 0.4\n",
    "#score, oob_score, rf_pred, x_test, y_test= trainer.rf_regression(X, y, n_estimators, test_frac)\n",
    "\n",
    "##### HACK\n",
    "score, oob_score, rf_pred, x_test, y_test= trainer.rf_regression_hack(X, y, n_estimators, test_frac)\n",
    "pred_max = np.max(rf_pred)"
   ]
  },
  {
   "cell_type": "code",
   "execution_count": null,
   "metadata": {
    "collapsed": false
   },
   "outputs": [],
   "source": [
    "x_test[:,387].shape"
   ]
  },
  {
   "cell_type": "code",
   "execution_count": 5,
   "metadata": {
    "collapsed": false,
    "scrolled": false
   },
   "outputs": [
    {
     "data": {
      "text/plain": [
       "'plt.savefig(\\'/home/louisf/Documents/Insight/massdriver/analyses/rf_no_adt_{0}est.png\\'.format(str(n_estimators)),\\n            dpi=300,\\n           bbox_inches=\"tight\")'"
      ]
     },
     "execution_count": 5,
     "metadata": {},
     "output_type": "execute_result"
    },
    {
     "data": {
      "image/png": "[encoded data removed]",
      "text/plain": [
       "<matplotlib.figure.Figure at 0x7f1dddfe9550>"
      ]
     },
     "metadata": {},
     "output_type": "display_data"
    }
   ],
   "source": [
    "fig = sb.regplot(y_test, rf_pred, fit_reg=False, scatter_kws={\"s\":100})\n",
    "import seaborn as sb\n",
    "sb.set_context('talk')\n",
    "fig.set(ylim=[-1, None], xlim=[-1, None])\n",
    "\n",
    "fig.figure.set_size_inches(12,8)\n",
    "fig.axes.set_title('Random forest regression', fontsize=34)\n",
    "fig.set_xlabel(\"Measured risk\",size = 24)\n",
    "fig.set_ylabel(\"Predicted risk\",size = 24)\n",
    "fig.tick_params(labelsize=14,labelcolor=\"black\")\n",
    "\n",
    "fig.text(15, pred_max-1, 'Number of estimators: {0}'.format(n_estimators))\n",
    "fig.text(15, pred_max-5, 'Test ratio: {0}'.format(test_frac))\n",
    "fig.text(15, pred_max-9, r'R$^2$: {0}'.format(round(score,2)))\n",
    "fig.text(15, pred_max-13, 'Out of bag R$^2$: {0}'.format(round(oob_score,2)))\n",
    "\n",
    "fig.plot(np.linspace(-5,50, 1000), np.linspace(-5, 50, 1000))\n",
    "\n",
    "\"\"\"plt.savefig('/home/louisf/Documents/Insight/massdriver/analyses/rf_no_adt_{0}est.png'.format(str(n_estimators)),\n",
    "            dpi=300,\n",
    "           bbox_inches=\"tight\")\"\"\""
   ]
  },
  {
   "cell_type": "code",
   "execution_count": null,
   "metadata": {
    "collapsed": false
   },
   "outputs": [],
   "source": [
    "fig = sb.regplot(y_test, rf_pred, fit_reg=False, scatter_kws={\"s\":100})\n",
    "import seaborn as sb\n",
    "sb.set_context('talk')\n",
    "fig.set(ylim=[-1, 10], xlim=[-1, 10])\n",
    "\n",
    "fig.figure.set_size_inches(12,8)\n",
    "fig.axes.set_title('Random forest regression', fontsize=34)\n",
    "fig.set_xlabel(\"Measured risk\",size = 24)\n",
    "fig.set_ylabel(\"Predicted risk\",size = 24)\n",
    "fig.tick_params(labelsize=14,labelcolor=\"black\")\n",
    "\"\"\"\n",
    "fig.text(15, pred_max-1, 'Number of estimators: {0}'.format(n_estimators))\n",
    "fig.text(15, pred_max-5, 'Test ratio: {0}'.format(test_frac))\n",
    "fig.text(15, pred_max-9, r'R$^2$: {0}'.format(round(score,2)))\n",
    "fig.text(15, pred_max-13, 'Out of bag R$^2$: {0}'.format(round(oob_score,2)))\n",
    "\"\"\"\n",
    "fig.plot(np.linspace(-5,50, 1000), np.linspace(-5, 50, 1000))\n",
    "\n",
    "plt.savefig('/home/louisf/Documents/Insight/massdriver/analyses/rf_no_adt_{0}est_zoom.png'.format(str(n_estimators)),\n",
    "            dpi=300,\n",
    "           bbox_inches=\"tight\")"
   ]
  },
  {
   "cell_type": "code",
   "execution_count": null,
   "metadata": {
    "collapsed": false,
    "scrolled": true
   },
   "outputs": [],
   "source": [
    "# Perform an univariate analysis to look for linearities\n",
    "\n",
    "for i in range(0,mb.test.shape[1]-1):\n",
    "    n = plt.figure(i)\n",
    "    fig = sb.regplot(X[:,i], y, fit_reg=False, scatter_kws={\"s\":100})\n",
    "    fig.axes.set_title('Univariate analysis', fontsize=34)\n",
    "    fig.set_xlabel(\"var number {0}\".format(str(i)),size = 24)\n",
    "    fig.set_ylabel(\"\",size = 24)\n",
    "    plt.savefig('/home/louisf/Documents/Insight/massdriver/analyses/uva{0}.png'.format(str(i)), dpi=150)\n",
    "    plt.close()"
   ]
  },
  {
   "cell_type": "code",
   "execution_count": null,
   "metadata": {
    "collapsed": false,
    "scrolled": true
   },
   "outputs": [],
   "source": [
    "from sklearn.decomposition import PCA\n",
    "pca = PCA(n_components=20)\n",
    "pca.fit(X)\n",
    "print(pca.explained_variance_ratio_)\n",
    "plt.plot(pca.explained_variance_ratio_)"
   ]
  },
  {
   "cell_type": "code",
   "execution_count": null,
   "metadata": {
    "collapsed": false
   },
   "outputs": [],
   "source": [
    "inddict = {}\n",
    "for i in range(0,x_test.shape[1]-1):\n",
    "    inddict[x_test[i,387]]=y_test[i]"
   ]
  },
  {
   "cell_type": "code",
   "execution_count": null,
   "metadata": {
    "collapsed": false,
    "scrolled": true
   },
   "outputs": [],
   "source": [
    "35000/58300\n"
   ]
  },
  {
   "cell_type": "code",
   "execution_count": 34,
   "metadata": {
    "collapsed": false
   },
   "outputs": [
    {
     "data": {
      "image/png": "[encoded data removed]",
      "text/plain": [
       "<matplotlib.figure.Figure at 0x7f1da7a36358>"
      ]
     },
     "metadata": {},
     "output_type": "display_data"
    }
   ],
   "source": [
    "import tempfile\n",
    "\n",
    "x = np.linspace(0, 50)\n",
    "y = np.linspace(50, 0)\n",
    "fig = plt.figure(figsize=(10, 10), dpi=300)\n",
    "ax = fig.add_subplot(1, 1, 1)\n",
    "ax.plot(x, y, '-')\n",
    "ax.set_xlabel('X')\n",
    "ax.set_ylabel('Y')\n",
    "f = tempfile.NamedTemporaryFile(\n",
    "    dir='/home/louisf/Documents/Insight/massdriver/webapp/static/temp',\n",
    "    suffix='.png', delete=False\n",
    ")\n",
    "plt.savefig('/home/louisf/Documents/Insight/massdriver/webapp/static/temp/A.png')\n",
    "plt.savefig(f, bbox_inches='tight')\n",
    "f.close()"
   ]
  }
 ],
 "metadata": {
  "kernelspec": {
   "display_name": "Python 3",
   "language": "python",
   "name": "python3"
  },
  "language_info": {
   "codemirror_mode": {
    "name": "ipython",
    "version": 3
   },
   "file_extension": ".py",
   "mimetype": "text/x-python",
   "name": "python",
   "nbconvert_exporter": "python",
   "pygments_lexer": "ipython3",
   "version": "3.5.1"
  }
 },
 "nbformat": 4,
 "nbformat_minor": 0
}
