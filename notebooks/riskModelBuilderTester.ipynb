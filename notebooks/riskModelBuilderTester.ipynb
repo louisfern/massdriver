{
 "cells": [
  {
   "cell_type": "code",
   "execution_count": 1,
   "metadata": {
    "collapsed": false
   },
   "outputs": [],
   "source": [
    "import riskModelBuilder as rmb\n",
    "import numpy as np\n",
    "import pandas as pd\n",
    "%matplotlib inline\n",
    "from sklearn import preprocessing as skpre\n",
    "from matplotlib import pyplot as plt\n",
    "import seaborn as sb"
   ]
  },
  {
   "cell_type": "code",
   "execution_count": 2,
   "metadata": {
    "collapsed": true
   },
   "outputs": [],
   "source": [
    "min_set = [\n",
    "    'naccidents',\n",
    "]"
   ]
  },
  {
   "cell_type": "code",
   "execution_count": null,
   "metadata": {
    "collapsed": false
   },
   "outputs": [],
   "source": [
    "mb.traindata.shape"
   ]
  },
  {
   "cell_type": "code",
   "execution_count": 3,
   "metadata": {
    "collapsed": false,
    "scrolled": true
   },
   "outputs": [
    {
     "name": "stderr",
     "output_type": "stream",
     "text": [
      "/home/louisf/Documents/Insight/massdriver/riskModelBuilder.py:137: VisibleDeprecationWarning: boolean index did not match indexed array along dimension 1; dimension is 424 but corresponding boolean dimension is 398\n",
      "  self.all = self.all[:, infinites == 0]\n"
     ]
    }
   ],
   "source": [
    "# Gather all data and do some cleaning\n",
    "\n",
    "mb = rmb.Alldata('roadinventory', 'segments_full')\n",
    "mb.getData()\n",
    "mb.cleanData(todrop=min_set)\n",
    "np.random.seed(seed=127)\n",
    "\n",
    "shuffleData = np.random.shuffle(mb.traindata)"
   ]
  },
  {
   "cell_type": "code",
   "execution_count": null,
   "metadata": {
    "collapsed": false
   },
   "outputs": [],
   "source": [
    "fun.acc_risk.plot()"
   ]
  },
  {
   "cell_type": "code",
   "execution_count": null,
   "metadata": {
    "collapsed": false
   },
   "outputs": [],
   "source": [
    "tested = mb.test[35000:, :]\n",
    "N = mb.test[35000:,:].shape[0]\n",
    "N2 = mb.test[35000:,:].shape[1]\n",
    "b = np.zeros((N, N2 + 2))\n",
    "b[:,:-2] = mb.test[35000:,:]\n",
    "b[:,-2] = y_test\n",
    "b[:,-1] = rf_pred"
   ]
  },
  {
   "cell_type": "code",
   "execution_count": null,
   "metadata": {
    "collapsed": false
   },
   "outputs": [],
   "source": [
    "np.savetxt('prediction.csv', b, delimiter = ',')"
   ]
  },
  {
   "cell_type": "code",
   "execution_count": null,
   "metadata": {
    "collapsed": false,
    "scrolled": true
   },
   "outputs": [],
   "source": [
    "# Perform a random forest regression \n",
    "\n",
    "trainer = rmb.Model()\n",
    "\n",
    "shuffleData = mb.traindata\n",
    "\n",
    "\n",
    "y = shuffleData[0:48000,-1]\n",
    "X = shuffleData[0:48000,:-1]\n",
    "\n",
    "y_test = shuffleData[48000:,-1]\n",
    "X_test = shuffleData[48000:,:-1]\n",
    "\n",
    "n_estimators = 100\n",
    "val_frac = 0.2\n",
    "#score, oob_score, rf_pred, x_test, y_test= trainer.rf_regression(X, y, n_estimators, test_frac)\n",
    "\n",
    "##### HACK\n",
    "score, oob_score, rf_pred, x_val, y_val, rf= trainer.rf_regression(X, y, n_estimators, val_frac)\n",
    "pred_max = np.max(rf_pred)"
   ]
  },
  {
   "cell_type": "code",
   "execution_count": null,
   "metadata": {
    "collapsed": false
   },
   "outputs": [],
   "source": [
    "print('score: {}'.format(score))\n",
    "print('oob score: {}'.format(oob_score))"
   ]
  },
  {
   "cell_type": "code",
   "execution_count": null,
   "metadata": {
    "collapsed": false
   },
   "outputs": [],
   "source": [
    "rf.predict(mb.all)"
   ]
  },
  {
   "cell_type": "code",
   "execution_count": null,
   "metadata": {
    "collapsed": false,
    "scrolled": false
   },
   "outputs": [],
   "source": [
    "fig = sb.regplot(y_test, rf_pred, fit_reg=False, scatter_kws={\"s\":100})\n",
    "import seaborn as sb\n",
    "sb.set_context('talk')\n",
    "fig.set(ylim=[-1, None], xlim=[-1, None])\n",
    "\n",
    "fig.figure.set_size_inches(12,8)\n",
    "fig.axes.set_title('Random forest regression', fontsize=34)\n",
    "fig.set_xlabel(\"Measured risk\",size = 24)\n",
    "fig.set_ylabel(\"Predicted risk\",size = 24)\n",
    "fig.tick_params(labelsize=14,labelcolor=\"black\")\n",
    "\n",
    "fig.text(15, pred_max-1, 'Number of estimators: {0}'.format(n_estimators))\n",
    "fig.text(15, pred_max-5, 'Test ratio: {0}'.format(test_frac))\n",
    "fig.text(15, pred_max-9, r'R$^2$: {0}'.format(round(score,2)))\n",
    "fig.text(15, pred_max-13, 'Out of bag R$^2$: {0}'.format(round(oob_score,2)))\n",
    "\n",
    "fig.plot(np.linspace(-5,50, 1000), np.linspace(-5, 50, 1000))\n",
    "\n",
    "\"\"\"plt.savefig('/home/louisf/Documents/Insight/massdriver/analyses/rf_no_adt_{0}est.png'.format(str(n_estimators)),\n",
    "            dpi=300,\n",
    "           bbox_inches=\"tight\")\"\"\""
   ]
  },
  {
   "cell_type": "code",
   "execution_count": null,
   "metadata": {
    "collapsed": false
   },
   "outputs": [],
   "source": [
    "fig = sb.regplot(y_test, rf_pred, fit_reg=False, scatter_kws={\"s\":100})\n",
    "import seaborn as sb\n",
    "sb.set_context('talk')\n",
    "fig.set(ylim=[-1, 10], xlim=[-1, 10])\n",
    "\n",
    "fig.figure.set_size_inches(12,8)\n",
    "fig.axes.set_title('Random forest regression', fontsize=34)\n",
    "fig.set_xlabel(\"Measured risk\",size = 24)\n",
    "fig.set_ylabel(\"Predicted risk\",size = 24)\n",
    "fig.tick_params(labelsize=14,labelcolor=\"black\")\n",
    "\"\"\"\n",
    "fig.text(15, pred_max-1, 'Number of estimators: {0}'.format(n_estimators))\n",
    "fig.text(15, pred_max-5, 'Test ratio: {0}'.format(test_frac))\n",
    "fig.text(15, pred_max-9, r'R$^2$: {0}'.format(round(score,2)))\n",
    "fig.text(15, pred_max-13, 'Out of bag R$^2$: {0}'.format(round(oob_score,2)))\n",
    "\"\"\"\n",
    "fig.plot(np.linspace(-5,50, 1000), np.linspace(-5, 50, 1000))\n",
    "\n",
    "plt.savefig('/home/louisf/Documents/Insight/massdriver/analyses/rf_no_adt_{0}est_zoom.png'.format(str(n_estimators)),\n",
    "            dpi=300,\n",
    "           bbox_inches=\"tight\")"
   ]
  },
  {
   "cell_type": "code",
   "execution_count": null,
   "metadata": {
    "collapsed": false,
    "scrolled": true
   },
   "outputs": [],
   "source": [
    "# Perform an univariate analysis to look for linearities\n",
    "\n",
    "for i in range(0,mb.test.shape[1]-1):\n",
    "    n = plt.figure(i)\n",
    "    fig = sb.regplot(X[:,i], y, fit_reg=False, scatter_kws={\"s\":100})\n",
    "    fig.axes.set_title('Univariate analysis', fontsize=34)\n",
    "    fig.set_xlabel(\"var number {0}\".format(str(i)),size = 24)\n",
    "    fig.set_ylabel(\"\",size = 24)\n",
    "    plt.savefig('/home/louisf/Documents/Insight/massdriver/analyses/uva{0}.png'.format(str(i)), dpi=150)\n",
    "    plt.close()"
   ]
  },
  {
   "cell_type": "code",
   "execution_count": null,
   "metadata": {
    "collapsed": false,
    "scrolled": true
   },
   "outputs": [],
   "source": [
    "from sklearn.decomposition import PCA\n",
    "pca = PCA(n_components=20)\n",
    "pca.fit(X)\n",
    "print(pca.explained_variance_ratio_)\n",
    "plt.plot(pca.explained_variance_ratio_)"
   ]
  },
  {
   "cell_type": "code",
   "execution_count": null,
   "metadata": {
    "collapsed": false
   },
   "outputs": [],
   "source": [
    "inddict = {}\n",
    "for i in range(0,x_test.shape[1]-1):\n",
    "    inddict[x_test[i,387]]=y_test[i]"
   ]
  },
  {
   "cell_type": "code",
   "execution_count": null,
   "metadata": {
    "collapsed": false,
    "scrolled": true
   },
   "outputs": [],
   "source": [
    "35000/58300\n"
   ]
  },
  {
   "cell_type": "code",
   "execution_count": null,
   "metadata": {
    "collapsed": false
   },
   "outputs": [],
   "source": [
    "import tempfile\n",
    "\n",
    "x = np.linspace(0, 50)\n",
    "y = np.linspace(50, 0)\n",
    "fig = plt.figure(figsize=(10, 10), dpi=300)\n",
    "ax = fig.add_subplot(1, 1, 1)\n",
    "ax.plot(x, y, '-')\n",
    "ax.set_xlabel('X')\n",
    "ax.set_ylabel('Y')\n",
    "f = tempfile.NamedTemporaryFile(\n",
    "    dir='/home/louisf/Documents/Insight/massdriver/webapp/static/temp',\n",
    "    suffix='.png', delete=False\n",
    ")\n",
    "plt.savefig('/home/louisf/Documents/Insight/massdriver/webapp/static/temp/A.png')\n",
    "plt.savefig(f, bbox_inches='tight')\n",
    "f.close()"
   ]
  },
  {
   "cell_type": "code",
   "execution_count": null,
   "metadata": {
    "collapsed": true
   },
   "outputs": [],
   "source": []
  },
  {
   "cell_type": "code",
   "execution_count": null,
   "metadata": {
    "collapsed": false
   },
   "outputs": [],
   "source": [
    "ndata = mb.table.drop('acc_risk', axis=1)"
   ]
  },
  {
   "cell_type": "code",
   "execution_count": null,
   "metadata": {
    "collapsed": false
   },
   "outputs": [],
   "source": [
    "ndata2 = ndata.replace([np.inf, -np.inf], np.nan).dropna(how=\"all\")"
   ]
  },
  {
   "cell_type": "code",
   "execution_count": null,
   "metadata": {
    "collapsed": false
   },
   "outputs": [],
   "source": [
    "ndata2.select_dtypes(include=['int64', 'float64']).as_matrix().shape"
   ]
  },
  {
   "cell_type": "code",
   "execution_count": null,
   "metadata": {
    "collapsed": true
   },
   "outputs": [],
   "source": []
  },
  {
   "cell_type": "code",
   "execution_count": null,
   "metadata": {
    "collapsed": true
   },
   "outputs": [],
   "source": []
  },
  {
   "cell_type": "code",
   "execution_count": null,
   "metadata": {
    "collapsed": true
   },
   "outputs": [],
   "source": []
  },
  {
   "cell_type": "code",
   "execution_count": 46,
   "metadata": {
    "collapsed": true
   },
   "outputs": [],
   "source": [
    "mb = rmb.Alldata('roadinventory', 'segments_full')\n",
    "mb.getData()\n",
    "\n",
    "t = mb.table"
   ]
  },
  {
   "cell_type": "code",
   "execution_count": 47,
   "metadata": {
    "collapsed": false
   },
   "outputs": [],
   "source": [
    "t['acc_risk'] = t['naccidents'] /t['assignedle']"
   ]
  },
  {
   "cell_type": "code",
   "execution_count": 49,
   "metadata": {
    "collapsed": false
   },
   "outputs": [],
   "source": [
    "t.drop('naccidents', axis=1, inplace=True)"
   ]
  },
  {
   "cell_type": "code",
   "execution_count": 12,
   "metadata": {
    "collapsed": false
   },
   "outputs": [],
   "source": [
    "t2 = t.loc[~pd.isnull(t['acc_risk']), 'acc_risk']"
   ]
  },
  {
   "cell_type": "code",
   "execution_count": 19,
   "metadata": {
    "collapsed": false
   },
   "outputs": [],
   "source": [
    "t3 = t2.replace([np.inf, -np.inf], np.nan).dropna(how=\"all\")"
   ]
  },
  {
   "cell_type": "code",
   "execution_count": 23,
   "metadata": {
    "collapsed": false
   },
   "outputs": [],
   "source": [
    "t_nonan = t.iloc[t3.index]"
   ]
  },
  {
   "cell_type": "code",
   "execution_count": 27,
   "metadata": {
    "collapsed": true
   },
   "outputs": [],
   "source": [
    "t_nonan2 = t_nonan.select_dtypes(include=['int64', 'float64']).as_matrix()"
   ]
  },
  {
   "cell_type": "code",
   "execution_count": 28,
   "metadata": {
    "collapsed": false
   },
   "outputs": [
    {
     "data": {
      "text/plain": [
       "(58522, 73)"
      ]
     },
     "execution_count": 28,
     "metadata": {},
     "output_type": "execute_result"
    }
   ],
   "source": [
    "t_nonan2.shape"
   ]
  },
  {
   "cell_type": "code",
   "execution_count": 29,
   "metadata": {
    "collapsed": true
   },
   "outputs": [],
   "source": [
    "un =  [len(np.unique(t_nonan2[:, i])) for i in range(t_nonan2.shape[1])]"
   ]
  },
  {
   "cell_type": "code",
   "execution_count": 31,
   "metadata": {
    "collapsed": false
   },
   "outputs": [],
   "source": [
    "enc = skpre.OneHotEncoder(categorical_features=np.array(un) < 30)\n",
    "x_nocat = enc.fit_transform(t_nonan2).toarray()"
   ]
  },
  {
   "cell_type": "code",
   "execution_count": 32,
   "metadata": {
    "collapsed": false
   },
   "outputs": [
    {
     "data": {
      "text/plain": [
       "(58522, 398)"
      ]
     },
     "execution_count": 32,
     "metadata": {},
     "output_type": "execute_result"
    }
   ],
   "source": [
    "x_nocat.shape"
   ]
  },
  {
   "cell_type": "code",
   "execution_count": 40,
   "metadata": {
    "collapsed": false
   },
   "outputs": [
    {
     "data": {
      "text/plain": [
       "Index(['index', 'accesscont', 'addedroadt', 'adt', 'adtderivat', 'adtstation',\n",
       "       'adtyear', 'assigned_1', 'assignedle', 'city', 'county', 'crn', 'curbs',\n",
       "       'dateactive', 'equation_1', 'equationro', 'facilityty', 'federalaid',\n",
       "       'federalfun', 'fromcity', 'fromendtyp', 'frommeasur', 'fromstate',\n",
       "       'fromstreet', 'functional', 'futurefaci', 'hpmscode', 'hpmssample',\n",
       "       'iri', 'iristatus', 'iriyear', 'item_id', 'jurisdicti', 'leftshou_1',\n",
       "       'leftshould', 'leftsidewa', 'lifecycles', 'massdothig', 'mediantype',\n",
       "       'medianwidt', 'mhs', 'mileagecou', 'mpo', 'municipals', 'nhsstatus',\n",
       "       'numberofpe', 'numberoftr', 'opposingdi', 'oppositenu', 'psi',\n",
       "       'psiyear', 'rightofway', 'rightsho_1', 'rightshoul', 'rightsidew',\n",
       "       'roadinvent', 'roadsegmen', 'routedirec', 'routefrom', 'routekey',\n",
       "       'routenumbe', 'routequali', 'routesyste', 'routeto', 'routetype', 'rpa',\n",
       "       'shape_len', 'speedlimit', 'streetlist', 'streetna_1', 'streetname',\n",
       "       'streetoper', 'structural', 'subroute', 'surfacetyp', 'surfacewid',\n",
       "       'terrain', 'tocity', 'toendtype', 'tollroad', 'tomeasure', 'tostate',\n",
       "       'tostreetna', 'trucknetwo', 'truckroute', 'undivide_1', 'undividedl',\n",
       "       'urbanizeda', 'urbantype', 'acc_risk'],\n",
       "      dtype='object')"
      ]
     },
     "execution_count": 40,
     "metadata": {},
     "output_type": "execute_result"
    }
   ],
   "source": []
  },
  {
   "cell_type": "code",
   "execution_count": 94,
   "metadata": {
    "collapsed": false
   },
   "outputs": [],
   "source": [
    "# Start here!\n",
    "\n",
    "mb = rmb.Alldata('roadinventory', 'segments_full')\n",
    "mb.getData()\n",
    "\n",
    "t = mb.table\n",
    "t['acc_risk'] = t['naccidents'] /t['assignedle']\n",
    "t.drop('naccidents', axis=1, inplace=True)\n",
    "\n",
    "all3 = t.select_dtypes(include=['int64', 'float64']).as_matrix()\n"
   ]
  },
  {
   "cell_type": "code",
   "execution_count": 95,
   "metadata": {
    "collapsed": false,
    "scrolled": true
   },
   "outputs": [],
   "source": [
    "unique_all = [len(np.unique(all3[:, i])) for i in range(all3.shape[1]-1)]\n",
    "enc2 = skpre.OneHotEncoder(categorical_features=np.array(unique_all) < 30)\n",
    "np.random.seed(127)\n",
    "np.random.shuffle(all3)\n",
    "x_all = enc2.fit_transform(all3[:,:-1]).toarray()"
   ]
  },
  {
   "cell_type": "code",
   "execution_count": 99,
   "metadata": {
    "collapsed": false
   },
   "outputs": [
    {
     "name": "stdout",
     "output_type": "stream",
     "text": [
      "score: 0.5459627776448464, oob_score: 0.34645625393012214\n"
     ]
    }
   ],
   "source": [
    "np.random.seed(seed=127)\n",
    "np.random.shuffle(sD)\n",
    "\n",
    "yind = ~np.isnan(all3[:,-1])\n",
    "\n",
    "\n",
    "\n",
    "y_model = all3[yind,-1]\n",
    "X_model = x_all[yind,:-1]\n",
    "\n",
    "trainer = rmb.Model()\n",
    "\n",
    "y_train = y_model[0:48000]\n",
    "X_train = X_model[0:48000,:-1]\n",
    "\n",
    "y_test = y_model[48000:]\n",
    "X_test = X_model[48000:,:-1]\n",
    "\n",
    "n_estimators = 100\n",
    "val_frac = 0.2\n",
    "#score, oob_score, rf_pred, x_test, y_test= trainer.rf_regression(X, y, n_estimators, test_frac)\n",
    "\n",
    "##### HACK\n",
    "score, oob_score, rf_pred, x_val, y_val, rf= trainer.rf_regression(X_train, y_train, n_estimators, val_frac)\n",
    "print('score: {0}, oob_score: {1}'.format(score, oob_score))"
   ]
  },
  {
   "cell_type": "code",
   "execution_count": 98,
   "metadata": {
    "collapsed": false
   },
   "outputs": [
    {
     "data": {
      "text/plain": [
       "(58522,)"
      ]
     },
     "execution_count": 98,
     "metadata": {},
     "output_type": "execute_result"
    }
   ],
   "source": [
    "y_model.shape"
   ]
  },
  {
   "cell_type": "code",
   "execution_count": 90,
   "metadata": {
    "collapsed": false
   },
   "outputs": [
    {
     "data": {
      "text/plain": [
       "array([0, 0, 0, 0, 0, 0, 0, 0, 0, 0, 0, 0, 0, 0, 0, 0, 0, 0, 0, 0, 0, 0, 0,\n",
       "       0, 0, 0, 0, 0, 0, 0, 0, 0, 0, 0, 0, 0, 0, 0, 0, 0, 0, 0, 0, 0, 0, 0,\n",
       "       0, 0, 0, 0, 0, 0, 0, 0, 0, 0, 0, 0, 0, 0, 0, 0, 0, 0, 0, 0, 0, 0, 0,\n",
       "       0, 0, 0])"
      ]
     },
     "execution_count": 90,
     "metadata": {},
     "output_type": "execute_result"
    }
   ],
   "source": [
    "s"
   ]
  }
 ],
 "metadata": {
  "kernelspec": {
   "display_name": "Python 3",
   "language": "python",
   "name": "python3"
  },
  "language_info": {
   "codemirror_mode": {
    "name": "ipython",
    "version": 3
   },
   "file_extension": ".py",
   "mimetype": "text/x-python",
   "name": "python",
   "nbconvert_exporter": "python",
   "pygments_lexer": "ipython3",
   "version": "3.5.1"
  }
 },
 "nbformat": 4,
 "nbformat_minor": 0
}
