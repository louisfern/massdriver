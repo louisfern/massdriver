{
 "cells": [
  {
   "cell_type": "code",
   "execution_count": 6,
   "metadata": {
    "collapsed": true
   },
   "outputs": [],
   "source": [
    "import json\n",
    "import psycopg2\n",
    "import inventoryCleaner as iC\n",
    "import pandas as pd\n",
    "\n",
    "def is_json(myjson):\n",
    "  try:\n",
    "    json_object = json.loads(myjson)\n",
    "  except ValueError:\n",
    "    return False\n",
    "  return True"
   ]
  },
  {
   "cell_type": "code",
   "execution_count": 2,
   "metadata": {
    "collapsed": true
   },
   "outputs": [],
   "source": [
    "shapefile = '/home/louisf/Documents/Insight/massdriver/data/raw/shapefile/RoadInventory.geojson'"
   ]
  },
  {
   "cell_type": "code",
   "execution_count": 3,
   "metadata": {
    "collapsed": false
   },
   "outputs": [],
   "source": [
    "pdi = iC.PDInventory('roadInventory', 'test')"
   ]
  },
  {
   "cell_type": "code",
   "execution_count": 4,
   "metadata": {
    "collapsed": false
   },
   "outputs": [
    {
     "ename": "AttributeError",
     "evalue": "'PDInventory' object has no attribute 'parsedLines'",
     "output_type": "error",
     "traceback": [
      "\u001b[1;31m---------------------------------------------------------------------------\u001b[0m",
      "\u001b[1;31mAttributeError\u001b[0m                            Traceback (most recent call last)",
      "\u001b[1;32m<ipython-input-4-d585448d164c>\u001b[0m in \u001b[0;36m<module>\u001b[1;34m()\u001b[0m\n\u001b[1;32m----> 1\u001b[1;33m \u001b[0mpdi\u001b[0m\u001b[1;33m.\u001b[0m\u001b[0mgeojsontodf\u001b[0m\u001b[1;33m(\u001b[0m\u001b[0mshapefile\u001b[0m\u001b[1;33m)\u001b[0m\u001b[1;33m\u001b[0m\u001b[0m\n\u001b[0m",
      "\u001b[1;32m/home/louisf/Documents/Insight/massdriver/inventoryCleaner.py\u001b[0m in \u001b[0;36mgeojsontodf\u001b[1;34m(self, pathToFile)\u001b[0m\n\u001b[0;32m    127\u001b[0m             \u001b[0mtline\u001b[0m \u001b[1;33m=\u001b[0m \u001b[0mlines\u001b[0m\u001b[1;33m[\u001b[0m\u001b[1;33m:\u001b[0m\u001b[1;33m-\u001b[0m\u001b[1;36m2\u001b[0m\u001b[1;33m]\u001b[0m\u001b[1;33m\u001b[0m\u001b[0m\n\u001b[0;32m    128\u001b[0m             \u001b[1;32mif\u001b[0m \u001b[0mPDInventory\u001b[0m\u001b[1;33m.\u001b[0m\u001b[0mis_json\u001b[0m\u001b[1;33m(\u001b[0m\u001b[0mtline\u001b[0m\u001b[1;33m)\u001b[0m\u001b[1;33m:\u001b[0m\u001b[1;33m\u001b[0m\u001b[0m\n\u001b[1;32m--> 129\u001b[1;33m                 \u001b[0mself\u001b[0m\u001b[1;33m.\u001b[0m\u001b[0mparsedLines\u001b[0m \u001b[1;33m+=\u001b[0m \u001b[1;36m1\u001b[0m\u001b[1;33m\u001b[0m\u001b[0m\n\u001b[0m\u001b[0;32m    130\u001b[0m                 \u001b[0mjs\u001b[0m \u001b[1;33m=\u001b[0m \u001b[0mjson\u001b[0m\u001b[1;33m.\u001b[0m\u001b[0mloads\u001b[0m\u001b[1;33m(\u001b[0m\u001b[0mtline\u001b[0m\u001b[1;33m)\u001b[0m\u001b[1;33m\u001b[0m\u001b[0m\n\u001b[0;32m    131\u001b[0m                 d = dict(\n",
      "\u001b[1;31mAttributeError\u001b[0m: 'PDInventory' object has no attribute 'parsedLines'"
     ]
    }
   ],
   "source": [
    "pdi.geojsontodf(shapefile)"
   ]
  },
  {
   "cell_type": "code",
   "execution_count": null,
   "metadata": {
    "collapsed": false,
    "scrolled": true
   },
   "outputs": [],
   "source": [
    "pdi.Inventory.entries"
   ]
  },
  {
   "cell_type": "code",
   "execution_count": null,
   "metadata": {
    "collapsed": true
   },
   "outputs": [],
   "source": [
    "f = open(shapefile, 'r')"
   ]
  },
  {
   "cell_type": "code",
   "execution_count": null,
   "metadata": {
    "collapsed": false
   },
   "outputs": [],
   "source": [
    "f.readline()"
   ]
  },
  {
   "cell_type": "code",
   "execution_count": 5,
   "metadata": {
    "collapsed": false
   },
   "outputs": [],
   "source": [
    "str1 = '{ \"type\": \"Feature\", \"properties\": { \"RoadInvent\": 4600, \"CRN\": \"A4600\", \"RoadSegmen\": 46, \"FromMeasur\": 0.000000, \"ToMeasure\": 0.080000, \"AssignedLe\": 0.080000, \"Assigned_1\": 1, \"StreetList\": 181961, \"StreetName\": \"DUNCAN LANE\", \"StreetNa_1\": null, \"City\": 55, \"County\": \"A\", \"MunicipalS\": 2, \"FromEndTyp\": 5, \"FromStreet\": \"HARWICH TOWN LINE\", \"FromCity\": 126, \"FromState\": 0, \"ToEndType\": 3, \"ToStreetNa\": \"CUL_DE_SAC\", \"ToCity\": 0, \"ToState\": 0, \"MileageCou\": 1, \"RouteKey\": \"L181961 NB\", \"RouteFrom\": 0.000000, \"RouteTo\": 0.000000, \"EquationRo\": 0.000000, \"Equation_1\": 0.000000, \"RouteSyste\": null, \"RouteNumbe\": null, \"SubRoute\": null, \"RouteDirec\": null, \"RouteType\": 0, \"RouteQuali\": 0, \"RPA\": \"CCC\", \"MPO\": \"Cape Cod\", \"MassDOTHig\": 5, \"UrbanType\": 1, \"UrbanizedA\": \"05167\", \"Functional\": 0, \"FederalFun\": 7, \"Jurisdicti\": \"0\", \"TruckRoute\": 0, \"TruckNetwo\": 0, \"NHSStatus\": 0, \"MHS\": 0, \"FederalAid\": null, \"FacilityTy\": 1, \"StreetOper\": 2, \"AccessCont\": 0, \"TollRoad\": 0, \"NumberOfPe\": 0, \"FutureFaci\": 0, \"RightSidew\": 0, \"RightShoul\": 2, \"RightSho_1\": 2, \"MedianType\": 0, \"MedianWidt\": 0, \"LeftSidewa\": 0, \"LeftShould\": 0, \"UndividedL\": 0, \"Undivide_1\": 0, \"LeftShou_1\": 0, \"SurfaceTyp\": 6, \"SurfaceWid\": 20, \"RightOfWay\": 30, \"NumberOfTr\": 2, \"OppositeNu\": 0, \"Curbs\": 0, \"Terrain\": 2, \"SpeedLimit\": 0, \"OpposingDi\": 0, \"Structural\": 1, \"ADT\": 0, \"ADTStation\": 0, \"ADTDerivat\": 0, \"ADTYear\": 0, \"IRI\": 0, \"IRIYear\": 0, \"IRIStatus\": 0, \"PSI\": 0.000000, \"PSIYear\": 0, \"HPMSCode\": 0, \"HPMSSample\": null, \"AddedRoadT\": 0, \"DateActive\": \"2004\\\\/01\\\\/01\", \"LifecycleS\": 3, \"ITEM_ID\": 23403, \"Shape_len\": 126.924548 }, \"geometry\": { \"type\": \"LineString\", \"coordinates\": [ [ 322703.615272112190723, 828715.10250592941884, -0.000150013482198 ], [ 322725.117224132292904, 828718.917417933000252, 0.013849986717105 ], [ 322734.48068014101591, 828727.934761941432953, 0.021849986631423 ], [ 322726.157608133275062, 828763.308841974241659, 0.044849986676127 ], [ 322714.357032122206874, 828817.792810025042854, 0.079849986592308 ] ] } }'"
   ]
  },
  {
   "cell_type": "code",
   "execution_count": null,
   "metadata": {
    "collapsed": false
   },
   "outputs": [],
   "source": [
    "is_json(str1)"
   ]
  },
  {
   "cell_type": "code",
   "execution_count": null,
   "metadata": {
    "collapsed": false
   },
   "outputs": [],
   "source": [
    "js = json.loads(str1)"
   ]
  },
  {
   "cell_type": "code",
   "execution_count": 8,
   "metadata": {
    "collapsed": false,
    "scrolled": true
   },
   "outputs": [
    {
     "data": {
      "text/html": [
       "<div>\n",
       "<table border=\"1\" class=\"dataframe\">\n",
       "  <thead>\n",
       "    <tr style=\"text-align: right;\">\n",
       "      <th></th>\n",
       "      <th>geometry</th>\n",
       "      <th>properties</th>\n",
       "      <th>type</th>\n",
       "    </tr>\n",
       "  </thead>\n",
       "  <tbody>\n",
       "    <tr>\n",
       "      <th>ADT</th>\n",
       "      <td>NaN</td>\n",
       "      <td>0</td>\n",
       "      <td>Feature</td>\n",
       "    </tr>\n",
       "    <tr>\n",
       "      <th>ADTDerivat</th>\n",
       "      <td>NaN</td>\n",
       "      <td>0</td>\n",
       "      <td>Feature</td>\n",
       "    </tr>\n",
       "    <tr>\n",
       "      <th>ADTStation</th>\n",
       "      <td>NaN</td>\n",
       "      <td>0</td>\n",
       "      <td>Feature</td>\n",
       "    </tr>\n",
       "    <tr>\n",
       "      <th>ADTYear</th>\n",
       "      <td>NaN</td>\n",
       "      <td>0</td>\n",
       "      <td>Feature</td>\n",
       "    </tr>\n",
       "    <tr>\n",
       "      <th>AccessCont</th>\n",
       "      <td>NaN</td>\n",
       "      <td>0</td>\n",
       "      <td>Feature</td>\n",
       "    </tr>\n",
       "    <tr>\n",
       "      <th>AddedRoadT</th>\n",
       "      <td>NaN</td>\n",
       "      <td>0</td>\n",
       "      <td>Feature</td>\n",
       "    </tr>\n",
       "    <tr>\n",
       "      <th>AssignedLe</th>\n",
       "      <td>NaN</td>\n",
       "      <td>0.08</td>\n",
       "      <td>Feature</td>\n",
       "    </tr>\n",
       "    <tr>\n",
       "      <th>Assigned_1</th>\n",
       "      <td>NaN</td>\n",
       "      <td>1</td>\n",
       "      <td>Feature</td>\n",
       "    </tr>\n",
       "    <tr>\n",
       "      <th>CRN</th>\n",
       "      <td>NaN</td>\n",
       "      <td>A4600</td>\n",
       "      <td>Feature</td>\n",
       "    </tr>\n",
       "    <tr>\n",
       "      <th>City</th>\n",
       "      <td>NaN</td>\n",
       "      <td>55</td>\n",
       "      <td>Feature</td>\n",
       "    </tr>\n",
       "    <tr>\n",
       "      <th>County</th>\n",
       "      <td>NaN</td>\n",
       "      <td>A</td>\n",
       "      <td>Feature</td>\n",
       "    </tr>\n",
       "    <tr>\n",
       "      <th>Curbs</th>\n",
       "      <td>NaN</td>\n",
       "      <td>0</td>\n",
       "      <td>Feature</td>\n",
       "    </tr>\n",
       "    <tr>\n",
       "      <th>DateActive</th>\n",
       "      <td>NaN</td>\n",
       "      <td>2004/01/01</td>\n",
       "      <td>Feature</td>\n",
       "    </tr>\n",
       "    <tr>\n",
       "      <th>EquationRo</th>\n",
       "      <td>NaN</td>\n",
       "      <td>0</td>\n",
       "      <td>Feature</td>\n",
       "    </tr>\n",
       "    <tr>\n",
       "      <th>Equation_1</th>\n",
       "      <td>NaN</td>\n",
       "      <td>0</td>\n",
       "      <td>Feature</td>\n",
       "    </tr>\n",
       "    <tr>\n",
       "      <th>FacilityTy</th>\n",
       "      <td>NaN</td>\n",
       "      <td>1</td>\n",
       "      <td>Feature</td>\n",
       "    </tr>\n",
       "    <tr>\n",
       "      <th>FederalAid</th>\n",
       "      <td>NaN</td>\n",
       "      <td>None</td>\n",
       "      <td>Feature</td>\n",
       "    </tr>\n",
       "    <tr>\n",
       "      <th>FederalFun</th>\n",
       "      <td>NaN</td>\n",
       "      <td>7</td>\n",
       "      <td>Feature</td>\n",
       "    </tr>\n",
       "    <tr>\n",
       "      <th>FromCity</th>\n",
       "      <td>NaN</td>\n",
       "      <td>126</td>\n",
       "      <td>Feature</td>\n",
       "    </tr>\n",
       "    <tr>\n",
       "      <th>FromEndTyp</th>\n",
       "      <td>NaN</td>\n",
       "      <td>5</td>\n",
       "      <td>Feature</td>\n",
       "    </tr>\n",
       "    <tr>\n",
       "      <th>FromMeasur</th>\n",
       "      <td>NaN</td>\n",
       "      <td>0</td>\n",
       "      <td>Feature</td>\n",
       "    </tr>\n",
       "    <tr>\n",
       "      <th>FromState</th>\n",
       "      <td>NaN</td>\n",
       "      <td>0</td>\n",
       "      <td>Feature</td>\n",
       "    </tr>\n",
       "    <tr>\n",
       "      <th>FromStreet</th>\n",
       "      <td>NaN</td>\n",
       "      <td>HARWICH TOWN LINE</td>\n",
       "      <td>Feature</td>\n",
       "    </tr>\n",
       "    <tr>\n",
       "      <th>Functional</th>\n",
       "      <td>NaN</td>\n",
       "      <td>0</td>\n",
       "      <td>Feature</td>\n",
       "    </tr>\n",
       "    <tr>\n",
       "      <th>FutureFaci</th>\n",
       "      <td>NaN</td>\n",
       "      <td>0</td>\n",
       "      <td>Feature</td>\n",
       "    </tr>\n",
       "    <tr>\n",
       "      <th>HPMSCode</th>\n",
       "      <td>NaN</td>\n",
       "      <td>0</td>\n",
       "      <td>Feature</td>\n",
       "    </tr>\n",
       "    <tr>\n",
       "      <th>HPMSSample</th>\n",
       "      <td>NaN</td>\n",
       "      <td>None</td>\n",
       "      <td>Feature</td>\n",
       "    </tr>\n",
       "    <tr>\n",
       "      <th>IRI</th>\n",
       "      <td>NaN</td>\n",
       "      <td>0</td>\n",
       "      <td>Feature</td>\n",
       "    </tr>\n",
       "    <tr>\n",
       "      <th>IRIStatus</th>\n",
       "      <td>NaN</td>\n",
       "      <td>0</td>\n",
       "      <td>Feature</td>\n",
       "    </tr>\n",
       "    <tr>\n",
       "      <th>IRIYear</th>\n",
       "      <td>NaN</td>\n",
       "      <td>0</td>\n",
       "      <td>Feature</td>\n",
       "    </tr>\n",
       "    <tr>\n",
       "      <th>...</th>\n",
       "      <td>...</td>\n",
       "      <td>...</td>\n",
       "      <td>...</td>\n",
       "    </tr>\n",
       "    <tr>\n",
       "      <th>RouteNumbe</th>\n",
       "      <td>NaN</td>\n",
       "      <td>None</td>\n",
       "      <td>Feature</td>\n",
       "    </tr>\n",
       "    <tr>\n",
       "      <th>RouteQuali</th>\n",
       "      <td>NaN</td>\n",
       "      <td>0</td>\n",
       "      <td>Feature</td>\n",
       "    </tr>\n",
       "    <tr>\n",
       "      <th>RouteSyste</th>\n",
       "      <td>NaN</td>\n",
       "      <td>None</td>\n",
       "      <td>Feature</td>\n",
       "    </tr>\n",
       "    <tr>\n",
       "      <th>RouteTo</th>\n",
       "      <td>NaN</td>\n",
       "      <td>0</td>\n",
       "      <td>Feature</td>\n",
       "    </tr>\n",
       "    <tr>\n",
       "      <th>RouteType</th>\n",
       "      <td>NaN</td>\n",
       "      <td>0</td>\n",
       "      <td>Feature</td>\n",
       "    </tr>\n",
       "    <tr>\n",
       "      <th>Shape_len</th>\n",
       "      <td>NaN</td>\n",
       "      <td>126.925</td>\n",
       "      <td>Feature</td>\n",
       "    </tr>\n",
       "    <tr>\n",
       "      <th>SpeedLimit</th>\n",
       "      <td>NaN</td>\n",
       "      <td>0</td>\n",
       "      <td>Feature</td>\n",
       "    </tr>\n",
       "    <tr>\n",
       "      <th>StreetList</th>\n",
       "      <td>NaN</td>\n",
       "      <td>181961</td>\n",
       "      <td>Feature</td>\n",
       "    </tr>\n",
       "    <tr>\n",
       "      <th>StreetNa_1</th>\n",
       "      <td>NaN</td>\n",
       "      <td>None</td>\n",
       "      <td>Feature</td>\n",
       "    </tr>\n",
       "    <tr>\n",
       "      <th>StreetName</th>\n",
       "      <td>NaN</td>\n",
       "      <td>DUNCAN LANE</td>\n",
       "      <td>Feature</td>\n",
       "    </tr>\n",
       "    <tr>\n",
       "      <th>StreetOper</th>\n",
       "      <td>NaN</td>\n",
       "      <td>2</td>\n",
       "      <td>Feature</td>\n",
       "    </tr>\n",
       "    <tr>\n",
       "      <th>Structural</th>\n",
       "      <td>NaN</td>\n",
       "      <td>1</td>\n",
       "      <td>Feature</td>\n",
       "    </tr>\n",
       "    <tr>\n",
       "      <th>SubRoute</th>\n",
       "      <td>NaN</td>\n",
       "      <td>None</td>\n",
       "      <td>Feature</td>\n",
       "    </tr>\n",
       "    <tr>\n",
       "      <th>SurfaceTyp</th>\n",
       "      <td>NaN</td>\n",
       "      <td>6</td>\n",
       "      <td>Feature</td>\n",
       "    </tr>\n",
       "    <tr>\n",
       "      <th>SurfaceWid</th>\n",
       "      <td>NaN</td>\n",
       "      <td>20</td>\n",
       "      <td>Feature</td>\n",
       "    </tr>\n",
       "    <tr>\n",
       "      <th>Terrain</th>\n",
       "      <td>NaN</td>\n",
       "      <td>2</td>\n",
       "      <td>Feature</td>\n",
       "    </tr>\n",
       "    <tr>\n",
       "      <th>ToCity</th>\n",
       "      <td>NaN</td>\n",
       "      <td>0</td>\n",
       "      <td>Feature</td>\n",
       "    </tr>\n",
       "    <tr>\n",
       "      <th>ToEndType</th>\n",
       "      <td>NaN</td>\n",
       "      <td>3</td>\n",
       "      <td>Feature</td>\n",
       "    </tr>\n",
       "    <tr>\n",
       "      <th>ToMeasure</th>\n",
       "      <td>NaN</td>\n",
       "      <td>0.08</td>\n",
       "      <td>Feature</td>\n",
       "    </tr>\n",
       "    <tr>\n",
       "      <th>ToState</th>\n",
       "      <td>NaN</td>\n",
       "      <td>0</td>\n",
       "      <td>Feature</td>\n",
       "    </tr>\n",
       "    <tr>\n",
       "      <th>ToStreetNa</th>\n",
       "      <td>NaN</td>\n",
       "      <td>CUL_DE_SAC</td>\n",
       "      <td>Feature</td>\n",
       "    </tr>\n",
       "    <tr>\n",
       "      <th>TollRoad</th>\n",
       "      <td>NaN</td>\n",
       "      <td>0</td>\n",
       "      <td>Feature</td>\n",
       "    </tr>\n",
       "    <tr>\n",
       "      <th>TruckNetwo</th>\n",
       "      <td>NaN</td>\n",
       "      <td>0</td>\n",
       "      <td>Feature</td>\n",
       "    </tr>\n",
       "    <tr>\n",
       "      <th>TruckRoute</th>\n",
       "      <td>NaN</td>\n",
       "      <td>0</td>\n",
       "      <td>Feature</td>\n",
       "    </tr>\n",
       "    <tr>\n",
       "      <th>Undivide_1</th>\n",
       "      <td>NaN</td>\n",
       "      <td>0</td>\n",
       "      <td>Feature</td>\n",
       "    </tr>\n",
       "    <tr>\n",
       "      <th>UndividedL</th>\n",
       "      <td>NaN</td>\n",
       "      <td>0</td>\n",
       "      <td>Feature</td>\n",
       "    </tr>\n",
       "    <tr>\n",
       "      <th>UrbanType</th>\n",
       "      <td>NaN</td>\n",
       "      <td>1</td>\n",
       "      <td>Feature</td>\n",
       "    </tr>\n",
       "    <tr>\n",
       "      <th>UrbanizedA</th>\n",
       "      <td>NaN</td>\n",
       "      <td>05167</td>\n",
       "      <td>Feature</td>\n",
       "    </tr>\n",
       "    <tr>\n",
       "      <th>coordinates</th>\n",
       "      <td>[[322703.6152721122, 828715.1025059294, -0.000...</td>\n",
       "      <td>NaN</td>\n",
       "      <td>Feature</td>\n",
       "    </tr>\n",
       "    <tr>\n",
       "      <th>type</th>\n",
       "      <td>LineString</td>\n",
       "      <td>NaN</td>\n",
       "      <td>Feature</td>\n",
       "    </tr>\n",
       "  </tbody>\n",
       "</table>\n",
       "<p>90 rows × 3 columns</p>\n",
       "</div>"
      ],
      "text/plain": [
       "                                                      geometry  \\\n",
       "ADT                                                        NaN   \n",
       "ADTDerivat                                                 NaN   \n",
       "ADTStation                                                 NaN   \n",
       "ADTYear                                                    NaN   \n",
       "AccessCont                                                 NaN   \n",
       "AddedRoadT                                                 NaN   \n",
       "AssignedLe                                                 NaN   \n",
       "Assigned_1                                                 NaN   \n",
       "CRN                                                        NaN   \n",
       "City                                                       NaN   \n",
       "County                                                     NaN   \n",
       "Curbs                                                      NaN   \n",
       "DateActive                                                 NaN   \n",
       "EquationRo                                                 NaN   \n",
       "Equation_1                                                 NaN   \n",
       "FacilityTy                                                 NaN   \n",
       "FederalAid                                                 NaN   \n",
       "FederalFun                                                 NaN   \n",
       "FromCity                                                   NaN   \n",
       "FromEndTyp                                                 NaN   \n",
       "FromMeasur                                                 NaN   \n",
       "FromState                                                  NaN   \n",
       "FromStreet                                                 NaN   \n",
       "Functional                                                 NaN   \n",
       "FutureFaci                                                 NaN   \n",
       "HPMSCode                                                   NaN   \n",
       "HPMSSample                                                 NaN   \n",
       "IRI                                                        NaN   \n",
       "IRIStatus                                                  NaN   \n",
       "IRIYear                                                    NaN   \n",
       "...                                                        ...   \n",
       "RouteNumbe                                                 NaN   \n",
       "RouteQuali                                                 NaN   \n",
       "RouteSyste                                                 NaN   \n",
       "RouteTo                                                    NaN   \n",
       "RouteType                                                  NaN   \n",
       "Shape_len                                                  NaN   \n",
       "SpeedLimit                                                 NaN   \n",
       "StreetList                                                 NaN   \n",
       "StreetNa_1                                                 NaN   \n",
       "StreetName                                                 NaN   \n",
       "StreetOper                                                 NaN   \n",
       "Structural                                                 NaN   \n",
       "SubRoute                                                   NaN   \n",
       "SurfaceTyp                                                 NaN   \n",
       "SurfaceWid                                                 NaN   \n",
       "Terrain                                                    NaN   \n",
       "ToCity                                                     NaN   \n",
       "ToEndType                                                  NaN   \n",
       "ToMeasure                                                  NaN   \n",
       "ToState                                                    NaN   \n",
       "ToStreetNa                                                 NaN   \n",
       "TollRoad                                                   NaN   \n",
       "TruckNetwo                                                 NaN   \n",
       "TruckRoute                                                 NaN   \n",
       "Undivide_1                                                 NaN   \n",
       "UndividedL                                                 NaN   \n",
       "UrbanType                                                  NaN   \n",
       "UrbanizedA                                                 NaN   \n",
       "coordinates  [[322703.6152721122, 828715.1025059294, -0.000...   \n",
       "type                                                LineString   \n",
       "\n",
       "                    properties     type  \n",
       "ADT                          0  Feature  \n",
       "ADTDerivat                   0  Feature  \n",
       "ADTStation                   0  Feature  \n",
       "ADTYear                      0  Feature  \n",
       "AccessCont                   0  Feature  \n",
       "AddedRoadT                   0  Feature  \n",
       "AssignedLe                0.08  Feature  \n",
       "Assigned_1                   1  Feature  \n",
       "CRN                      A4600  Feature  \n",
       "City                        55  Feature  \n",
       "County                       A  Feature  \n",
       "Curbs                        0  Feature  \n",
       "DateActive          2004/01/01  Feature  \n",
       "EquationRo                   0  Feature  \n",
       "Equation_1                   0  Feature  \n",
       "FacilityTy                   1  Feature  \n",
       "FederalAid                None  Feature  \n",
       "FederalFun                   7  Feature  \n",
       "FromCity                   126  Feature  \n",
       "FromEndTyp                   5  Feature  \n",
       "FromMeasur                   0  Feature  \n",
       "FromState                    0  Feature  \n",
       "FromStreet   HARWICH TOWN LINE  Feature  \n",
       "Functional                   0  Feature  \n",
       "FutureFaci                   0  Feature  \n",
       "HPMSCode                     0  Feature  \n",
       "HPMSSample                None  Feature  \n",
       "IRI                          0  Feature  \n",
       "IRIStatus                    0  Feature  \n",
       "IRIYear                      0  Feature  \n",
       "...                        ...      ...  \n",
       "RouteNumbe                None  Feature  \n",
       "RouteQuali                   0  Feature  \n",
       "RouteSyste                None  Feature  \n",
       "RouteTo                      0  Feature  \n",
       "RouteType                    0  Feature  \n",
       "Shape_len              126.925  Feature  \n",
       "SpeedLimit                   0  Feature  \n",
       "StreetList              181961  Feature  \n",
       "StreetNa_1                None  Feature  \n",
       "StreetName         DUNCAN LANE  Feature  \n",
       "StreetOper                   2  Feature  \n",
       "Structural                   1  Feature  \n",
       "SubRoute                  None  Feature  \n",
       "SurfaceTyp                   6  Feature  \n",
       "SurfaceWid                  20  Feature  \n",
       "Terrain                      2  Feature  \n",
       "ToCity                       0  Feature  \n",
       "ToEndType                    3  Feature  \n",
       "ToMeasure                 0.08  Feature  \n",
       "ToState                      0  Feature  \n",
       "ToStreetNa          CUL_DE_SAC  Feature  \n",
       "TollRoad                     0  Feature  \n",
       "TruckNetwo                   0  Feature  \n",
       "TruckRoute                   0  Feature  \n",
       "Undivide_1                   0  Feature  \n",
       "UndividedL                   0  Feature  \n",
       "UrbanType                    1  Feature  \n",
       "UrbanizedA               05167  Feature  \n",
       "coordinates                NaN  Feature  \n",
       "type                       NaN  Feature  \n",
       "\n",
       "[90 rows x 3 columns]"
      ]
     },
     "execution_count": 8,
     "metadata": {},
     "output_type": "execute_result"
    }
   ],
   "source": [
    "df = pd.DataFrame()\n",
    "pd.read_json(str1, orient='DataFrame')"
   ]
  },
  {
   "cell_type": "code",
   "execution_count": null,
   "metadata": {
    "collapsed": false,
    "scrolled": true
   },
   "outputs": [],
   "source": [
    "colnames = js[\"properties\"]\n",
    "for n in colnames:\n",
    "    print(colnames[n])"
   ]
  },
  {
   "cell_type": "code",
   "execution_count": null,
   "metadata": {
    "collapsed": false,
    "scrolled": true
   },
   "outputs": [],
   "source": [
    "con = psycopg2.connect(database='roadInventory', user='louisf') \n",
    "cur = con.cursor()\n",
    "\n",
    "\n",
    "cur.execute('ALTER TABLE segments ADD \"Structural\" INT')          \n",
    "con.commit()\n",
    "if con:\n",
    "    con.close()"
   ]
  },
  {
   "cell_type": "code",
   "execution_count": null,
   "metadata": {
    "collapsed": false
   },
   "outputs": [],
   "source": [
    "con = psycopg2.connect(database='roadInventory', user='louisf') \n",
    "cur = con.cursor()\n",
    "cur.execute(\"Select * FROM segments\")\n",
    "colnames = [desc[0] for desc in cur.description]\n",
    "con.close()\n",
    "colnames"
   ]
  },
  {
   "cell_type": "code",
   "execution_count": null,
   "metadata": {
    "collapsed": true
   },
   "outputs": [],
   "source": [
    "con = psycopg2.connect(database='roadInventory', user='louisf') \n",
    "cur = con.cursor()\n",
    "try:\n",
    "    cur.execute(\"INSERT INTO segments VALUES(999,999,'TEST ROAD', 65, 0, 3)\")\n",
    "    con.commit()\n",
    "except e:\n",
    "    if con:\n",
    "        con.rollback()\n",
    "    print(e)\n",
    "\n",
    "if con:\n",
    "    con.close()"
   ]
  },
  {
   "cell_type": "code",
   "execution_count": null,
   "metadata": {
    "collapsed": true
   },
   "outputs": [],
   "source": [
    "con = psycopg2.connect(database='roadInventory', user='louisf') \n",
    "cur = con.cursor()\n",
    "cur.execute(\"select * from segments\")"
   ]
  },
  {
   "cell_type": "code",
   "execution_count": null,
   "metadata": {
    "collapsed": false
   },
   "outputs": [],
   "source": [
    "import json\n",
    "import psycopg2\n",
    "import psycopg2.extras\n",
    "import inventoryCleaner as iC\n",
    "\n",
    "def is_json(myjson):\n",
    "  try:\n",
    "    json_object = json.loads(myjson)\n",
    "  except ValueError:\n",
    "    return False\n",
    "  return True"
   ]
  },
  {
   "cell_type": "code",
   "execution_count": null,
   "metadata": {
    "collapsed": false
   },
   "outputs": [],
   "source": [
    "inv = iC.Inventory(\"roadInventory\", \"segments\")"
   ]
  },
  {
   "cell_type": "code",
   "execution_count": null,
   "metadata": {
    "collapsed": false,
    "scrolled": true
   },
   "outputs": [],
   "source": [
    "inv.parseGeoJson(\"/home/louisf/Documents/Insight/massdriver/data/raw/shapefile/RoadInventory.geojson\")"
   ]
  },
  {
   "cell_type": "code",
   "execution_count": null,
   "metadata": {
    "collapsed": true
   },
   "outputs": [],
   "source": [
    "l = ['RoadInvent', 'CRN', 'StreetName', 'SpeedLimit', 'Terrain', 'Structural', 'AssignedLe', 'RouteDirec', 'RightShoul', 'RightSho_1', 'MedianType', 'MedianWidt', 'RoadSegmen', 'StreetList']"
   ]
  },
  {
   "cell_type": "code",
   "execution_count": null,
   "metadata": {
    "collapsed": false,
    "scrolled": true
   },
   "outputs": [],
   "source": [
    "inv.entries[0]"
   ]
  },
  {
   "cell_type": "code",
   "execution_count": null,
   "metadata": {
    "collapsed": false
   },
   "outputs": [],
   "source": [
    "help(iC.insertIntoDB)"
   ]
  },
  {
   "cell_type": "code",
   "execution_count": null,
   "metadata": {
    "collapsed": false
   },
   "outputs": [],
   "source": [
    "iC.insertIntoDB(\"roadInventory\", \"segments\", inv.entries[0])"
   ]
  },
  {
   "cell_type": "code",
   "execution_count": null,
   "metadata": {
    "collapsed": false,
    "scrolled": false
   },
   "outputs": [],
   "source": [
    "tuple(l)"
   ]
  },
  {
   "cell_type": "code",
   "execution_count": null,
   "metadata": {
    "collapsed": false,
    "scrolled": true
   },
   "outputs": [],
   "source": [
    "con = psycopg2.connect(database='roadInventory', user='louisf') \n",
    "cur = con.cursor()\n",
    "l = list(inv.entries[0].keys())\n",
    "l2 = ', '.join(l)\n",
    "cols = tuple(l)\n",
    "dispcols = l2\n",
    "vals = [inv.entries[0][x] for x in cols]\n",
    "vals_str_list = [\"%s\"] * len(vals)\n",
    "cur.execute(\"SELECT * FROM segments\")\n",
    "vals_str = \", \".join(vals_str_list)\n",
    "statement = \"INSERT INTO \" + 'segments ' + \"({dispcols}) VALUES ({vals_str})\".format(\n",
    "    dispcols=dispcols, vals_str=vals_str)\n",
    "print(statement)\n",
    "cur.execute(\"INSERT INTO \" + 'segments ' + \"({dispcols}) VALUES ({vals_str})\".format(\n",
    "    dispcols=dispcols, vals_str=vals_str), vals)\n",
    "con.commit()"
   ]
  },
  {
   "cell_type": "code",
   "execution_count": null,
   "metadata": {
    "collapsed": false,
    "scrolled": true
   },
   "outputs": [],
   "source": [
    "for segs in inv.entries:\n",
    "    iC.insertIntoDB(\"roadInventory\", \"segments\", segs)"
   ]
  },
  {
   "cell_type": "code",
   "execution_count": null,
   "metadata": {
    "collapsed": false,
    "scrolled": true
   },
   "outputs": [],
   "source": [
    "entry = {'RoadInvent':0}\n",
    "con = psycopg2.connect(database='roadInventory', user='louisf') \n",
    "cur = con.cursor()\n",
    "cols = entry.keys()\n",
    "vals = [entry[x] for x in cols]\n",
    "vals_str_list = [\"%s\"] * len(vals)\n",
    "vals_str = \", \".join(vals_str_list)\n",
    "statement = \"INSERT INTO \" + 'segments ' + \"({cols}) VALUES({vals_str})\".format(\n",
    "    cols=cols, vals_str=vals_str)\n",
    "print(statement)\n",
    "cur.execute(statement, vals)"
   ]
  },
  {
   "cell_type": "code",
   "execution_count": null,
   "metadata": {
    "collapsed": false
   },
   "outputs": [],
   "source": [
    "song = dict()\n",
    "song['title'] = 'song 1'\n",
    "song['artist'] = 'artist 1'\n",
    "\n",
    "cols = song.keys()\n",
    "vals = [song[x] for x in cols]\n",
    "vals_str_list = [\"%s\"] * len(vals)\n",
    "vals_str = \", \".join(vals_str_list)\n",
    "s=\"INSERT INTO song_table ({cols}) VALUES ({vals_str})\".format(\n",
    "               cols=cols, vals_str=vals_str)\n",
    "s"
   ]
  },
  {
   "cell_type": "code",
   "execution_count": null,
   "metadata": {
    "collapsed": true
   },
   "outputs": [],
   "source": [
    "d = {\"A\":1, \"b\":2}"
   ]
  },
  {
   "cell_type": "code",
   "execution_count": null,
   "metadata": {
    "collapsed": false
   },
   "outputs": [],
   "source": [
    "dict((k.lower() if isinstance(k, str) else k, v.lower() if isinstance(v, str) else v) for k,v in d.items())"
   ]
  }
 ],
 "metadata": {
  "kernelspec": {
   "display_name": "Python 3",
   "language": "python",
   "name": "python3"
  },
  "language_info": {
   "codemirror_mode": {
    "name": "ipython",
    "version": 3
   },
   "file_extension": ".py",
   "mimetype": "text/x-python",
   "name": "python",
   "nbconvert_exporter": "python",
   "pygments_lexer": "ipython3",
   "version": "3.5.1"
  }
 },
 "nbformat": 4,
 "nbformat_minor": 0
}
