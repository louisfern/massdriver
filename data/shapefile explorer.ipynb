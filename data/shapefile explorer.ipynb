{
 "cells": [
  {
   "cell_type": "code",
   "execution_count": 1,
   "metadata": {
    "collapsed": true
   },
   "outputs": [],
   "source": [
    "import json\n",
    "import psycopg2\n",
    "import inventoryCleaner\n",
    "\n",
    "def is_json(myjson):\n",
    "  try:\n",
    "    json_object = json.loads(myjson)\n",
    "  except ValueError:\n",
    "    return False\n",
    "  return True"
   ]
  },
  {
   "cell_type": "code",
   "execution_count": null,
   "metadata": {
    "collapsed": true
   },
   "outputs": [],
   "source": [
    "shapefile = '/home/louisf/Documents/Insight/massdriver/data/raw/shapefile/RoadInventory.geojson'"
   ]
  },
  {
   "cell_type": "code",
   "execution_count": null,
   "metadata": {
    "collapsed": true
   },
   "outputs": [],
   "source": [
    "f = open(shapefile, 'r')"
   ]
  },
  {
   "cell_type": "code",
   "execution_count": null,
   "metadata": {
    "collapsed": false
   },
   "outputs": [],
   "source": [
    "f.readline()"
   ]
  },
  {
   "cell_type": "code",
   "execution_count": null,
   "metadata": {
    "collapsed": false
   },
   "outputs": [],
   "source": [
    "str1 = '{ \"type\": \"Feature\", \"properties\": { \"RoadInvent\": 4600, \"CRN\": \"A4600\", \"RoadSegmen\": 46, \"FromMeasur\": 0.000000, \"ToMeasure\": 0.080000, \"AssignedLe\": 0.080000, \"Assigned_1\": 1, \"StreetList\": 181961, \"StreetName\": \"DUNCAN LANE\", \"StreetNa_1\": null, \"City\": 55, \"County\": \"A\", \"MunicipalS\": 2, \"FromEndTyp\": 5, \"FromStreet\": \"HARWICH TOWN LINE\", \"FromCity\": 126, \"FromState\": 0, \"ToEndType\": 3, \"ToStreetNa\": \"CUL_DE_SAC\", \"ToCity\": 0, \"ToState\": 0, \"MileageCou\": 1, \"RouteKey\": \"L181961 NB\", \"RouteFrom\": 0.000000, \"RouteTo\": 0.000000, \"EquationRo\": 0.000000, \"Equation_1\": 0.000000, \"RouteSyste\": null, \"RouteNumbe\": null, \"SubRoute\": null, \"RouteDirec\": null, \"RouteType\": 0, \"RouteQuali\": 0, \"RPA\": \"CCC\", \"MPO\": \"Cape Cod\", \"MassDOTHig\": 5, \"UrbanType\": 1, \"UrbanizedA\": \"05167\", \"Functional\": 0, \"FederalFun\": 7, \"Jurisdicti\": \"0\", \"TruckRoute\": 0, \"TruckNetwo\": 0, \"NHSStatus\": 0, \"MHS\": 0, \"FederalAid\": null, \"FacilityTy\": 1, \"StreetOper\": 2, \"AccessCont\": 0, \"TollRoad\": 0, \"NumberOfPe\": 0, \"FutureFaci\": 0, \"RightSidew\": 0, \"RightShoul\": 2, \"RightSho_1\": 2, \"MedianType\": 0, \"MedianWidt\": 0, \"LeftSidewa\": 0, \"LeftShould\": 0, \"UndividedL\": 0, \"Undivide_1\": 0, \"LeftShou_1\": 0, \"SurfaceTyp\": 6, \"SurfaceWid\": 20, \"RightOfWay\": 30, \"NumberOfTr\": 2, \"OppositeNu\": 0, \"Curbs\": 0, \"Terrain\": 2, \"SpeedLimit\": 0, \"OpposingDi\": 0, \"Structural\": 1, \"ADT\": 0, \"ADTStation\": 0, \"ADTDerivat\": 0, \"ADTYear\": 0, \"IRI\": 0, \"IRIYear\": 0, \"IRIStatus\": 0, \"PSI\": 0.000000, \"PSIYear\": 0, \"HPMSCode\": 0, \"HPMSSample\": null, \"AddedRoadT\": 0, \"DateActive\": \"2004\\\\/01\\\\/01\", \"LifecycleS\": 3, \"ITEM_ID\": 23403, \"Shape_len\": 126.924548 }, \"geometry\": { \"type\": \"LineString\", \"coordinates\": [ [ 322703.615272112190723, 828715.10250592941884, -0.000150013482198 ], [ 322725.117224132292904, 828718.917417933000252, 0.013849986717105 ], [ 322734.48068014101591, 828727.934761941432953, 0.021849986631423 ], [ 322726.157608133275062, 828763.308841974241659, 0.044849986676127 ], [ 322714.357032122206874, 828817.792810025042854, 0.079849986592308 ] ] } }'"
   ]
  },
  {
   "cell_type": "code",
   "execution_count": null,
   "metadata": {
    "collapsed": false
   },
   "outputs": [],
   "source": [
    "is_json(str)"
   ]
  },
  {
   "cell_type": "code",
   "execution_count": null,
   "metadata": {
    "collapsed": false
   },
   "outputs": [],
   "source": [
    "js = json.loads(str1)"
   ]
  },
  {
   "cell_type": "code",
   "execution_count": null,
   "metadata": {
    "collapsed": false,
    "scrolled": true
   },
   "outputs": [],
   "source": [
    "js[\"properties\"]"
   ]
  },
  {
   "cell_type": "code",
   "execution_count": null,
   "metadata": {
    "collapsed": false,
    "scrolled": true
   },
   "outputs": [],
   "source": [
    "colnames = js[\"properties\"]\n",
    "for n in colnames:\n",
    "    print(colnames[n])"
   ]
  },
  {
   "cell_type": "code",
   "execution_count": null,
   "metadata": {
    "collapsed": false,
    "scrolled": true
   },
   "outputs": [],
   "source": [
    "con = psycopg2.connect(database='roadInventory', user='louisf') \n",
    "cur = con.cursor()\n",
    "\n",
    "\n",
    "cur.execute('ALTER TABLE segments ADD \"Structural\" INT')          \n",
    "con.commit()\n",
    "if con:\n",
    "    con.close()"
   ]
  },
  {
   "cell_type": "code",
   "execution_count": 3,
   "metadata": {
    "collapsed": false
   },
   "outputs": [
    {
     "data": {
      "text/plain": [
       "['RoadInvent',\n",
       " 'CRN',\n",
       " 'StreetName',\n",
       " 'SpeedLimit',\n",
       " 'Terrain',\n",
       " 'Structural',\n",
       " 'AssignedLe',\n",
       " 'RouteDirec',\n",
       " 'RightShoul',\n",
       " 'RightSho_1',\n",
       " 'MedianType',\n",
       " 'MedianWidt',\n",
       " 'RoadSegmen',\n",
       " 'StreetList']"
      ]
     },
     "execution_count": 3,
     "metadata": {},
     "output_type": "execute_result"
    }
   ],
   "source": [
    "con = psycopg2.connect(database='roadInventory', user='louisf') \n",
    "cur = con.cursor()\n",
    "cur.execute(\"Select * FROM segments\")\n",
    "colnames = [desc[0] for desc in cur.description]\n",
    "con.close()\n",
    "colnames"
   ]
  },
  {
   "cell_type": "code",
   "execution_count": null,
   "metadata": {
    "collapsed": true
   },
   "outputs": [],
   "source": [
    "con = psycopg2.connect(database='roadInventory', user='louisf') \n",
    "cur = con.cursor()\n",
    "try:\n",
    "    cur.execute(\"INSERT INTO segments VALUES(999,999,'TEST ROAD', 65, 0, 3)\")\n",
    "    con.commit()\n",
    "except e:\n",
    "    if con:\n",
    "        con.rollback()\n",
    "    print(e)\n",
    "\n",
    "if con:\n",
    "    con.close()"
   ]
  },
  {
   "cell_type": "code",
   "execution_count": 2,
   "metadata": {
    "collapsed": true
   },
   "outputs": [],
   "source": [
    "con = psycopg2.connect(database='roadInventory', user='louisf') \n",
    "cur = con.cursor()\n",
    "cur.execute(\"select * from segments\")"
   ]
  }
 ],
 "metadata": {
  "kernelspec": {
   "display_name": "Python 3",
   "language": "python",
   "name": "python3"
  },
  "language_info": {
   "codemirror_mode": {
    "name": "ipython",
    "version": 3
   },
   "file_extension": ".py",
   "mimetype": "text/x-python",
   "name": "python",
   "nbconvert_exporter": "python",
   "pygments_lexer": "ipython3",
   "version": "3.5.1"
  }
 },
 "nbformat": 4,
 "nbformat_minor": 0
}
